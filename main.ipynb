{
 "cells": [
  {
   "cell_type": "code",
   "execution_count": 11,
   "metadata": {},
   "outputs": [
    {
     "data": {
      "application/json": [
       {
        "app": {},
        "datatype": "neuro/anat/t1w",
        "finish_date": {},
        "output": {
         "archive": {
          "desc": "",
          "project": "5fda367856422f36d2f97a51"
         },
         "datatype": "58c33bcee13a50849b25879a",
         "datatype_tags": [],
         "desc": "",
         "id": "output",
         "meta": {
          "nifti_headers": {
           "aux_file": "",
           "base_affine": [
            [
             -1,
             0,
             0,
             103.5
            ],
            [
             0,
             1,
             0,
             -127.5
            ],
            [
             0,
             0,
             1,
             -84.5
            ],
            [
             0,
             0,
             0,
             1
            ]
           ],
           "bitpix": 32,
           "cal_max": 0,
           "cal_min": 0,
           "data_type": "",
           "datatype": 16,
           "db_name": "",
           "descrip": "FreeSurfer Jan 18 2017",
           "dim": [
            3,
            208,
            256,
            170,
            1,
            1,
            1,
            1
           ],
           "dim_info": 0,
           "extents": 0,
           "glmax": 0,
           "glmin": 0,
           "intent_code": 0,
           "intent_name": "",
           "intent_p1": 0,
           "intent_p2": 0,
           "intent_p3": 0,
           "magic": "n+1",
           "pixdim": [
            1,
            1,
            1,
            1,
            1,
            1,
            1,
            1
           ],
           "qform_code": 1,
           "qoffset_x": -101.6240005493164,
           "qoffset_y": -112.5,
           "qoffset_z": -121.62449645996094,
           "quatern_b": 0,
           "quatern_c": 0,
           "quatern_d": 0,
           "regular": "",
           "scl_inter": null,
           "scl_slope": null,
           "session_error": 0,
           "sform_code": 1,
           "sizeof_hdr": 348,
           "slice_code": 0,
           "slice_duration": 0,
           "slice_end": 0,
           "slice_start": 0,
           "srow_x": [
            1,
            0,
            0,
            -101.6240005493164
           ],
           "srow_y": [
            0,
            1,
            0,
            -112.5
           ],
           "srow_z": [
            0,
            0,
            1,
            -121.62449645996094
           ],
           "toffset": 0,
           "vox_offset": 0,
           "xyzt_units": 10
          },
          "subject": "delete"
         },
         "subdir": "output",
         "tags": []
        },
        "path": "5fda4ce50d4b105d2b903a15/5fda4ce70d4b105d2b903a18/output",
        "task_id": "5fda4ce70d4b105d2b903a18"
       },
       {
        "app": {},
        "datatype": "neuro/freesurfer",
        "finish_date": {},
        "output": {
         "archive": {
          "desc": "",
          "project": "5fda367856422f36d2f97a51"
         },
         "datatype": "58cb22c8e13a50849b25882e",
         "datatype_tags": [],
         "id": "freesurfer",
         "meta": {
          "freesurfer_version": "7.1.0",
          "subject": "14"
         },
         "subdir": "output",
         "tags": [
          "12_16_2020"
         ]
        },
        "path": "5fda36b70d4b105d2b9038f6/5fda39fd0d4b105d2b90395b/freesurfer",
        "task_id": "5fda39fd0d4b105d2b90395b"
       },
       {
        "app": {},
        "datatype": "neuro/freesurfer",
        "finish_date": {},
        "output": {
         "archive": {
          "desc": "",
          "project": "5fda367856422f36d2f97a51"
         },
         "datatype": "58cb22c8e13a50849b25882e",
         "datatype_tags": [],
         "id": "freesurfer",
         "meta": {
          "freesurfer_version": "7.1.0",
          "subject": "13"
         },
         "subdir": "output",
         "tags": [
          "12_16_2020"
         ]
        },
        "path": "5fda36b60d4b105d2b9038f0/5fda39fc0d4b105d2b903958/freesurfer",
        "task_id": "5fda39fc0d4b105d2b903958"
       },
       {
        "app": {},
        "datatype": "neuro/freesurfer",
        "finish_date": {},
        "output": {
         "archive": {
          "desc": "",
          "project": "5fda367856422f36d2f97a51"
         },
         "datatype": "58cb22c8e13a50849b25882e",
         "datatype_tags": [],
         "id": "freesurfer",
         "meta": {
          "freesurfer_version": "7.1.0",
          "subject": "06"
         },
         "subdir": "output",
         "tags": [
          "12_16_2020"
         ]
        },
        "path": "5fda36b50d4b105d2b9038c6/5fda39fb0d4b105d2b903943/freesurfer",
        "task_id": "5fda39fb0d4b105d2b903943"
       },
       {
        "app": {},
        "datatype": "neuro/freesurfer",
        "finish_date": {},
        "output": {
         "archive": {
          "desc": "",
          "project": "5fda367856422f36d2f97a51"
         },
         "datatype": "58cb22c8e13a50849b25882e",
         "datatype_tags": [],
         "id": "freesurfer",
         "meta": {
          "freesurfer_version": "7.1.0",
          "subject": "04"
         },
         "subdir": "output",
         "tags": [
          "12_16_2020"
         ]
        },
        "path": "5fda36b40d4b105d2b9038ba/5fda39fb0d4b105d2b90393d/freesurfer",
        "task_id": "5fda39fb0d4b105d2b90393d"
       },
       {
        "app": {},
        "datatype": "neuro/freesurfer",
        "finish_date": {},
        "output": {
         "archive": {
          "desc": "",
          "project": "5fda367856422f36d2f97a51"
         },
         "datatype": "58cb22c8e13a50849b25882e",
         "datatype_tags": [],
         "id": "freesurfer",
         "meta": {
          "freesurfer_version": "7.1.0",
          "subject": "12"
         },
         "subdir": "output",
         "tags": [
          "12_16_2020"
         ]
        },
        "path": "5fda36b60d4b105d2b9038ea/5fda39fc0d4b105d2b903955/freesurfer",
        "task_id": "5fda39fc0d4b105d2b903955"
       },
       {
        "app": {},
        "datatype": "neuro/freesurfer",
        "finish_date": {},
        "output": {
         "archive": {
          "desc": "",
          "project": "5fda367856422f36d2f97a51"
         },
         "datatype": "58cb22c8e13a50849b25882e",
         "datatype_tags": [],
         "id": "freesurfer",
         "meta": {
          "freesurfer_version": "7.1.0",
          "subject": "15"
         },
         "subdir": "output",
         "tags": [
          "12_16_2020"
         ]
        },
        "path": "5fda36b70d4b105d2b9038fc/5fda39fd0d4b105d2b90395e/freesurfer",
        "task_id": "5fda39fd0d4b105d2b90395e"
       },
       {
        "app": {},
        "datatype": "neuro/freesurfer",
        "finish_date": {},
        "output": {
         "archive": {
          "desc": "",
          "project": "5fda367856422f36d2f97a51"
         },
         "datatype": "58cb22c8e13a50849b25882e",
         "datatype_tags": [],
         "id": "freesurfer",
         "meta": {
          "freesurfer_version": "7.1.0",
          "subject": "09"
         },
         "subdir": "output",
         "tags": [
          "12_16_2020"
         ]
        },
        "path": "5fda36b50d4b105d2b9038d8/5fda39fc0d4b105d2b90394c/freesurfer",
        "task_id": "5fda39fc0d4b105d2b90394c"
       },
       {
        "app": {},
        "datatype": "neuro/freesurfer",
        "finish_date": {},
        "output": {
         "archive": {
          "desc": "",
          "project": "5fda367856422f36d2f97a51"
         },
         "datatype": "58cb22c8e13a50849b25882e",
         "datatype_tags": [],
         "id": "freesurfer",
         "meta": {
          "freesurfer_version": "7.1.0",
          "subject": "01"
         },
         "subdir": "output",
         "tags": [
          "12_16_2020"
         ]
        },
        "path": "5fda36b30d4b105d2b9038a8/5fda39fb0d4b105d2b903934/freesurfer",
        "task_id": "5fda39fb0d4b105d2b903934"
       },
       {
        "app": {},
        "datatype": "neuro/freesurfer",
        "finish_date": {},
        "output": {
         "archive": {
          "desc": "",
          "project": "5fda367856422f36d2f97a51"
         },
         "datatype": "58cb22c8e13a50849b25882e",
         "datatype_tags": [],
         "id": "freesurfer",
         "meta": {
          "freesurfer_version": "7.1.0",
          "subject": "02"
         },
         "subdir": "output",
         "tags": [
          "12_16_2020"
         ]
        },
        "path": "5fda36b30d4b105d2b9038ae/5fda39fb0d4b105d2b903937/freesurfer",
        "task_id": "5fda39fb0d4b105d2b903937"
       },
       {
        "app": {},
        "datatype": "neuro/freesurfer",
        "finish_date": {},
        "output": {
         "archive": {
          "desc": "",
          "project": "5fda367856422f36d2f97a51"
         },
         "datatype": "58cb22c8e13a50849b25882e",
         "datatype_tags": [],
         "id": "freesurfer",
         "meta": {
          "freesurfer_version": "7.1.0",
          "subject": "10"
         },
         "subdir": "output",
         "tags": [
          "12_16_2020"
         ]
        },
        "path": "5fda36b60d4b105d2b9038de/5fda39fc0d4b105d2b90394f/freesurfer",
        "task_id": "5fda39fc0d4b105d2b90394f"
       },
       {
        "app": {},
        "datatype": "neuro/freesurfer",
        "finish_date": {},
        "output": {
         "archive": {
          "desc": "",
          "project": "5fda367856422f36d2f97a51"
         },
         "datatype": "58cb22c8e13a50849b25882e",
         "datatype_tags": [],
         "id": "freesurfer",
         "meta": {
          "freesurfer_version": "7.1.0",
          "subject": "05"
         },
         "subdir": "output",
         "tags": [
          "12_16_2020"
         ]
        },
        "path": "5fda36b40d4b105d2b9038c0/5fda39fb0d4b105d2b903940/freesurfer",
        "task_id": "5fda39fb0d4b105d2b903940"
       },
       {
        "app": {},
        "datatype": "neuro/freesurfer",
        "finish_date": {},
        "output": {
         "archive": {
          "desc": "",
          "project": "5fda367856422f36d2f97a51"
         },
         "datatype": "58cb22c8e13a50849b25882e",
         "datatype_tags": [],
         "id": "freesurfer",
         "meta": {
          "freesurfer_version": "7.1.0",
          "subject": "03"
         },
         "subdir": "output",
         "tags": [
          "12_16_2020"
         ]
        },
        "path": "5fda36b40d4b105d2b9038b4/5fda39fb0d4b105d2b90393a/freesurfer",
        "task_id": "5fda39fb0d4b105d2b90393a"
       },
       {
        "app": {},
        "datatype": "neuro/parc-stats",
        "finish_date": {},
        "output": {
         "archive": {
          "desc": "",
          "project": "5fda367856422f36d2f97a51"
         },
         "datatype": "5edd3b77c5972b8c47b3a2c3",
         "datatype_tags": [
          "freesurfer"
         ],
         "id": "parc-stats",
         "meta": {
          "freesurfer_version": "7.1.0",
          "subject": "14"
         },
         "subdir": "parc-stats",
         "tags": [
          "12_16_2020"
         ]
        },
        "path": "5fda36b70d4b105d2b9038f6/5fda612b0d4b105d2b903a67/parc-stats",
        "task_id": "5fda612b0d4b105d2b903a67"
       },
       {
        "app": {},
        "datatype": "neuro/parc-stats",
        "finish_date": {},
        "output": {
         "archive": {
          "desc": "",
          "project": "5fda367856422f36d2f97a51"
         },
         "datatype": "5edd3b77c5972b8c47b3a2c3",
         "datatype_tags": [
          "freesurfer"
         ],
         "id": "parc-stats",
         "meta": {
          "freesurfer_version": "7.1.0",
          "subject": "15"
         },
         "subdir": "parc-stats",
         "tags": [
          "12_16_2020"
         ]
        },
        "path": "5fda36b70d4b105d2b9038fc/5fda64d10d4b105d2b903aeb/parc-stats",
        "task_id": "5fda64d10d4b105d2b903aeb"
       },
       {
        "app": {},
        "datatype": "neuro/parc-stats",
        "finish_date": {},
        "output": {
         "archive": {
          "desc": "",
          "project": "5fda367856422f36d2f97a51"
         },
         "datatype": "5edd3b77c5972b8c47b3a2c3",
         "datatype_tags": [
          "freesurfer"
         ],
         "id": "parc-stats",
         "meta": {
          "freesurfer_version": "7.1.0",
          "subject": "03"
         },
         "subdir": "parc-stats",
         "tags": [
          "12_16_2020"
         ]
        },
        "path": "5fda36b40d4b105d2b9038b4/5fda68f70d4b105d2b903bc2/parc-stats",
        "task_id": "5fda68f70d4b105d2b903bc2"
       },
       {
        "app": {},
        "datatype": "neuro/parc-stats",
        "finish_date": {},
        "output": {
         "archive": {
          "desc": "",
          "project": "5fda367856422f36d2f97a51"
         },
         "datatype": "5edd3b77c5972b8c47b3a2c3",
         "datatype_tags": [
          "freesurfer"
         ],
         "id": "parc-stats",
         "meta": {
          "freesurfer_version": "7.1.0",
          "subject": "12"
         },
         "subdir": "parc-stats",
         "tags": [
          "12_16_2020"
         ]
        },
        "path": "5fda36b60d4b105d2b9038ea/5fda64d10d4b105d2b903ae5/parc-stats",
        "task_id": "5fda64d10d4b105d2b903ae5"
       },
       {
        "app": {},
        "datatype": "neuro/freesurfer",
        "finish_date": {},
        "output": {
         "archive": {
          "desc": "",
          "project": "5fda367856422f36d2f97a51"
         },
         "datatype": "58cb22c8e13a50849b25882e",
         "datatype_tags": [],
         "id": "freesurfer",
         "meta": {
          "freesurfer_version": "7.1.0",
          "subject": "08"
         },
         "subdir": "output",
         "tags": [
          "12_16_2020"
         ]
        },
        "path": "5fda36b50d4b105d2b9038d2/5fda39fc0d4b105d2b903949/freesurfer",
        "task_id": "5fda39fc0d4b105d2b903949"
       },
       {
        "app": {},
        "datatype": "neuro/parc-stats",
        "finish_date": {},
        "output": {
         "archive": {
          "desc": "",
          "project": "5fda367856422f36d2f97a51"
         },
         "datatype": "5edd3b77c5972b8c47b3a2c3",
         "datatype_tags": [
          "freesurfer"
         ],
         "id": "parc-stats",
         "meta": {
          "freesurfer_version": "7.1.0",
          "subject": "10"
         },
         "subdir": "parc-stats",
         "tags": [
          "12_16_2020"
         ]
        },
        "path": "5fda36b60d4b105d2b9038de/5fda67ee0d4b105d2b903bb9/parc-stats",
        "task_id": "5fda67ee0d4b105d2b903bb9"
       },
       {
        "app": {},
        "datatype": "neuro/parc-stats",
        "finish_date": {},
        "output": {
         "archive": {
          "desc": "",
          "project": "5fda367856422f36d2f97a51"
         },
         "datatype": "5edd3b77c5972b8c47b3a2c3",
         "datatype_tags": [
          "freesurfer"
         ],
         "id": "parc-stats",
         "meta": {
          "freesurfer_version": "7.1.0",
          "subject": "05"
         },
         "subdir": "parc-stats",
         "tags": [
          "12_16_2020"
         ]
        },
        "path": "5fda36b40d4b105d2b9038c0/5fda67ed0d4b105d2b903bb6/parc-stats",
        "task_id": "5fda67ed0d4b105d2b903bb6"
       },
       {
        "app": {},
        "datatype": "neuro/parc-stats",
        "finish_date": {},
        "output": {
         "archive": {
          "desc": "",
          "project": "5fda367856422f36d2f97a51"
         },
         "datatype": "5edd3b77c5972b8c47b3a2c3",
         "datatype_tags": [
          "freesurfer"
         ],
         "id": "parc-stats",
         "meta": {
          "freesurfer_version": "7.1.0",
          "subject": "01"
         },
         "subdir": "parc-stats",
         "tags": [
          "12_16_2020"
         ]
        },
        "path": "5fda36b30d4b105d2b9038a8/5fda654a0d4b105d2b903b26/parc-stats",
        "task_id": "5fda654a0d4b105d2b903b26"
       },
       {
        "app": {},
        "datatype": "neuro/parc-stats",
        "finish_date": {},
        "output": {
         "archive": {
          "desc": "",
          "project": "5fda367856422f36d2f97a51"
         },
         "datatype": "5edd3b77c5972b8c47b3a2c3",
         "datatype_tags": [
          "freesurfer"
         ],
         "id": "parc-stats",
         "meta": {
          "freesurfer_version": "7.1.0",
          "subject": "08"
         },
         "subdir": "parc-stats",
         "tags": [
          "12_16_2020"
         ]
        },
        "path": "5fda36b50d4b105d2b9038d2/5fda6b030d4b105d2b903c46/parc-stats",
        "task_id": "5fda6b030d4b105d2b903c46"
       },
       {
        "app": {},
        "datatype": "neuro/parc-stats",
        "finish_date": {},
        "output": {
         "archive": {
          "desc": "",
          "project": "5fda367856422f36d2f97a51"
         },
         "datatype": "5edd3b77c5972b8c47b3a2c3",
         "datatype_tags": [
          "freesurfer"
         ],
         "id": "parc-stats",
         "meta": {
          "freesurfer_version": "7.1.0",
          "subject": "13"
         },
         "subdir": "parc-stats",
         "tags": [
          "12_16_2020"
         ]
        },
        "path": "5fda36b60d4b105d2b9038f0/5fda654a0d4b105d2b903b29/parc-stats",
        "task_id": "5fda654a0d4b105d2b903b29"
       },
       {
        "app": {},
        "datatype": "neuro/parc-stats",
        "finish_date": {},
        "output": {
         "archive": {
          "desc": "",
          "project": "5fda367856422f36d2f97a51"
         },
         "datatype": "5edd3b77c5972b8c47b3a2c3",
         "datatype_tags": [
          "freesurfer"
         ],
         "id": "parc-stats",
         "meta": {
          "freesurfer_version": "7.1.0",
          "subject": "04"
         },
         "subdir": "parc-stats",
         "tags": [
          "12_16_2020"
         ]
        },
        "path": "5fda36b40d4b105d2b9038ba/5fda64080d4b105d2b903a8f/parc-stats",
        "task_id": "5fda64080d4b105d2b903a8f"
       },
       {
        "app": {},
        "datatype": "neuro/parc-stats",
        "finish_date": {},
        "output": {
         "archive": {
          "desc": "",
          "project": "5fda367856422f36d2f97a51"
         },
         "datatype": "5edd3b77c5972b8c47b3a2c3",
         "datatype_tags": [
          "freesurfer"
         ],
         "id": "parc-stats",
         "meta": {
          "freesurfer_version": "7.1.0",
          "subject": "09"
         },
         "subdir": "parc-stats",
         "tags": [
          "12_16_2020"
         ]
        },
        "path": "5fda36b50d4b105d2b9038d8/5fda64d00d4b105d2b903ae1/parc-stats",
        "task_id": "5fda64d00d4b105d2b903ae1"
       },
       {
        "app": {},
        "datatype": "neuro/parc-stats",
        "finish_date": {},
        "output": {
         "archive": {
          "desc": "",
          "project": "5fda367856422f36d2f97a51"
         },
         "datatype": "5edd3b77c5972b8c47b3a2c3",
         "datatype_tags": [
          "freesurfer"
         ],
         "id": "parc-stats",
         "meta": {
          "freesurfer_version": "7.1.0",
          "subject": "06"
         },
         "subdir": "parc-stats",
         "tags": [
          "12_16_2020"
         ]
        },
        "path": "5fda36b50d4b105d2b9038c6/5fda64090d4b105d2b903a94/parc-stats",
        "task_id": "5fda64090d4b105d2b903a94"
       },
       {
        "app": {},
        "datatype": "neuro/parc-stats",
        "finish_date": {},
        "output": {
         "archive": {
          "desc": "",
          "project": "5fda367856422f36d2f97a51"
         },
         "datatype": "5edd3b77c5972b8c47b3a2c3",
         "datatype_tags": [
          "freesurfer"
         ],
         "id": "parc-stats",
         "meta": {
          "freesurfer_version": "7.1.0",
          "subject": "02"
         },
         "subdir": "parc-stats",
         "tags": [
          "12_16_2020"
         ]
        },
        "path": "5fda36b30d4b105d2b9038ae/5fda65c50d4b105d2b903b72/parc-stats",
        "task_id": "5fda65c50d4b105d2b903b72"
       },
       {
        "app": {},
        "datatype": "neuro/freesurfer",
        "finish_date": {},
        "output": {
         "archive": {
          "desc": "",
          "project": "5fda367856422f36d2f97a51"
         },
         "datatype": "58cb22c8e13a50849b25882e",
         "datatype_tags": [],
         "id": "freesurfer",
         "meta": {
          "freesurfer_version": "7.1.0",
          "subject": "11"
         },
         "subdir": "output",
         "tags": [
          "12_16_2020"
         ]
        },
        "path": "5fda36b60d4b105d2b9038e4/5fda39fc0d4b105d2b903952/freesurfer",
        "task_id": "5fda39fc0d4b105d2b903952"
       },
       {
        "app": {},
        "datatype": "neuro/parc-stats",
        "finish_date": {},
        "output": {
         "archive": {
          "desc": "",
          "project": "5fda367856422f36d2f97a51"
         },
         "datatype": "5edd3b77c5972b8c47b3a2c3",
         "datatype_tags": [
          "freesurfer"
         ],
         "id": "parc-stats",
         "meta": {
          "freesurfer_version": "7.1.0",
          "subject": "11"
         },
         "subdir": "parc-stats",
         "tags": [
          "12_16_2020"
         ]
        },
        "path": "5fda36b60d4b105d2b9038e4/5fda76470d4b105d2b903c93/parc-stats",
        "task_id": "5fda76470d4b105d2b903c93"
       },
       {
        "app": {},
        "datatype": "neuro/parc-stats",
        "finish_date": {},
        "output": {
         "archive": {
          "desc": "",
          "project": "5fda367856422f36d2f97a51"
         },
         "datatype": "5edd3b77c5972b8c47b3a2c3",
         "datatype_tags": [
          "freesurfer"
         ],
         "id": "parc-stats",
         "meta": {
          "freesurfer_version": "7.1.0",
          "subject": "07"
         },
         "subdir": "parc-stats",
         "tags": [
          "12_16_2020"
         ]
        },
        "path": "5fda36b50d4b105d2b9038cc/5fda77340d4b105d2b903ce4/parc-stats",
        "task_id": "5fda77340d4b105d2b903ce4"
       },
       {
        "app": {},
        "datatype": "neuro/freesurfer",
        "finish_date": "2020-12-16T22:06:41.430Z",
        "output": {
         "archive": {
          "desc": "",
          "project": "5fda367856422f36d2f97a51"
         },
         "datatype": "58cb22c8e13a50849b25882e",
         "datatype_tags": [],
         "id": "freesurfer",
         "meta": {
          "freesurfer_version": "7.1.0",
          "nifti_headers": {
           "aux_file": "",
           "base_affine": [
            [
             -1,
             0,
             0,
             103.5
            ],
            [
             0,
             1,
             0,
             -127.5
            ],
            [
             0,
             0,
             1,
             -84.5
            ],
            [
             0,
             0,
             0,
             1
            ]
           ],
           "bitpix": 32,
           "cal_max": 0,
           "cal_min": 0,
           "data_type": "",
           "datatype": 16,
           "db_name": "",
           "descrip": "FreeSurfer Jan 18 2017",
           "dim": [
            3,
            208,
            256,
            170,
            1,
            1,
            1,
            1
           ],
           "dim_info": 0,
           "extents": 0,
           "glmax": 0,
           "glmin": 0,
           "intent_code": 0,
           "intent_name": "",
           "intent_p1": 0,
           "intent_p2": 0,
           "intent_p3": 0,
           "magic": "n+1",
           "pixdim": [
            1,
            1,
            1,
            1,
            1,
            1,
            1,
            1
           ],
           "qform_code": 1,
           "qoffset_x": -101.6240005493164,
           "qoffset_y": -112.5,
           "qoffset_z": -121.62449645996094,
           "quatern_b": 0,
           "quatern_c": 0,
           "quatern_d": 0,
           "regular": "",
           "scl_inter": null,
           "scl_slope": null,
           "session_error": 0,
           "sform_code": 1,
           "sizeof_hdr": 348,
           "slice_code": 0,
           "slice_duration": 0,
           "slice_end": 0,
           "slice_start": 0,
           "srow_x": [
            1,
            0,
            0,
            -101.6240005493164
           ],
           "srow_y": [
            0,
            1,
            0,
            -112.5
           ],
           "srow_z": [
            0,
            0,
            1,
            -121.62449645996094
           ],
           "toffset": 0,
           "vox_offset": 0,
           "xyzt_units": 10
          },
          "subject": "delete"
         },
         "subdir": "output",
         "tags": [
          "12_16_2020"
         ]
        },
        "path": "5fda60350d4b105d2b903a56/5fda60360d4b105d2b903a59/freesurfer",
        "task_id": "5fda60360d4b105d2b903a59"
       },
       {
        "app": {},
        "datatype": "neuro/freesurfer",
        "finish_date": "2020-12-16T22:29:14.389Z",
        "output": {
         "archive": {
          "desc": "",
          "project": "5fda367856422f36d2f97a51"
         },
         "datatype": "58cb22c8e13a50849b25882e",
         "datatype_tags": [],
         "id": "freesurfer",
         "meta": {
          "freesurfer_version": "7.1.0",
          "subject": "16"
         },
         "subdir": "output",
         "tags": [
          "12_16_2020"
         ]
        },
        "path": "5fda36b70d4b105d2b903902/5fda39fd0d4b105d2b903961/freesurfer",
        "task_id": "5fda39fd0d4b105d2b903961"
       },
       {
        "app": {},
        "datatype": "neuro/freesurfer",
        "finish_date": "2020-12-16T22:32:23.475Z",
        "output": {
         "archive": {
          "desc": "",
          "project": "5fda367856422f36d2f97a51"
         },
         "datatype": "58cb22c8e13a50849b25882e",
         "datatype_tags": [],
         "id": "freesurfer",
         "meta": {
          "subject": "17"
         },
         "subdir": "output",
         "tags": [
          "12_16_2020"
         ]
        },
        "path": "5fda36b70d4b105d2b903908/5fda39fd0d4b105d2b903964/freesurfer",
        "task_id": "5fda39fd0d4b105d2b903964"
       },
       {
        "app": {},
        "datatype": "neuro/parc-stats",
        "finish_date": "2020-12-16T22:32:44.146Z",
        "output": {
         "archive": {
          "desc": "",
          "project": "5fda367856422f36d2f97a51"
         },
         "datatype": "5edd3b77c5972b8c47b3a2c3",
         "datatype_tags": [
          "freesurfer"
         ],
         "id": "parc-stats",
         "meta": {
          "freesurfer_version": "7.1.0",
          "nifti_headers": {
           "aux_file": "",
           "base_affine": [
            [
             -1,
             0,
             0,
             103.5
            ],
            [
             0,
             1,
             0,
             -127.5
            ],
            [
             0,
             0,
             1,
             -84.5
            ],
            [
             0,
             0,
             0,
             1
            ]
           ],
           "bitpix": 32,
           "cal_max": 0,
           "cal_min": 0,
           "data_type": "",
           "datatype": 16,
           "db_name": "",
           "descrip": "FreeSurfer Jan 18 2017",
           "dim": [
            3,
            208,
            256,
            170,
            1,
            1,
            1,
            1
           ],
           "dim_info": 0,
           "extents": 0,
           "glmax": 0,
           "glmin": 0,
           "intent_code": 0,
           "intent_name": "",
           "intent_p1": 0,
           "intent_p2": 0,
           "intent_p3": 0,
           "magic": "n+1",
           "pixdim": [
            1,
            1,
            1,
            1,
            1,
            1,
            1,
            1
           ],
           "qform_code": 1,
           "qoffset_x": -101.6240005493164,
           "qoffset_y": -112.5,
           "qoffset_z": -121.62449645996094,
           "quatern_b": 0,
           "quatern_c": 0,
           "quatern_d": 0,
           "regular": "",
           "scl_inter": null,
           "scl_slope": null,
           "session_error": 0,
           "sform_code": 1,
           "sizeof_hdr": 348,
           "slice_code": 0,
           "slice_duration": 0,
           "slice_end": 0,
           "slice_start": 0,
           "srow_x": [
            1,
            0,
            0,
            -101.6240005493164
           ],
           "srow_y": [
            0,
            1,
            0,
            -112.5
           ],
           "srow_z": [
            0,
            0,
            1,
            -121.62449645996094
           ],
           "toffset": 0,
           "vox_offset": 0,
           "xyzt_units": 10
          },
          "subject": "delete"
         },
         "subdir": "parc-stats",
         "tags": [
          "12_16_2020"
         ]
        },
        "path": "5fda60350d4b105d2b903a56/5fda8a3f0d4b105d2b903d9c/parc-stats",
        "task_id": "5fda8a3f0d4b105d2b903d9c"
       },
       {
        "app": {},
        "datatype": "neuro/freesurfer",
        "finish_date": "2020-12-16T22:34:06.129Z",
        "output": {
         "archive": {
          "desc": "",
          "project": "5fda367856422f36d2f97a51"
         },
         "datatype": "58cb22c8e13a50849b25882e",
         "datatype_tags": [],
         "id": "freesurfer",
         "meta": {
          "freesurfer_version": "7.1.0",
          "subject": "18"
         },
         "subdir": "output",
         "tags": [
          "12_16_2020"
         ]
        },
        "path": "5fda36b80d4b105d2b90390e/5fda39fd0d4b105d2b903967/freesurfer",
        "task_id": "5fda39fd0d4b105d2b903967"
       },
       {
        "app": {},
        "datatype": "neuro/freesurfer",
        "finish_date": "2020-12-16T22:35:27.820Z",
        "output": {
         "archive": {
          "desc": "",
          "project": "5fda367856422f36d2f97a51"
         },
         "datatype": "58cb22c8e13a50849b25882e",
         "datatype_tags": [],
         "id": "freesurfer",
         "meta": {
          "freesurfer_version": "7.1.0",
          "subject": "20"
         },
         "subdir": "output",
         "tags": [
          "12_16_2020"
         ]
        },
        "path": "5fda36b80d4b105d2b90391a/5fda39fd0d4b105d2b90396d/freesurfer",
        "task_id": "5fda39fd0d4b105d2b90396d"
       },
       {
        "app": {},
        "datatype": "neuro/freesurfer",
        "finish_date": "2020-12-16T22:35:27.820Z",
        "output": {
         "archive": {
          "desc": "",
          "project": "5fda367856422f36d2f97a51"
         },
         "datatype": "58cb22c8e13a50849b25882e",
         "datatype_tags": [],
         "id": "freesurfer",
         "meta": {
          "subject": "20"
         },
         "subdir": "output",
         "tags": [
          "12_16_2020"
         ]
        },
        "path": "5fda36b80d4b105d2b90391a/5fda39fd0d4b105d2b90396d/freesurfer",
        "task_id": "5fda39fd0d4b105d2b90396d"
       },
       {
        "app": {},
        "datatype": "neuro/parc-stats",
        "finish_date": "2020-12-16T22:35:34.505Z",
        "output": {
         "archive": {
          "desc": "",
          "project": "5fda367856422f36d2f97a51"
         },
         "datatype": "5edd3b77c5972b8c47b3a2c3",
         "datatype_tags": [
          "freesurfer"
         ],
         "id": "parc-stats",
         "meta": {
          "freesurfer_version": "7.1.0",
          "subject": "16"
         },
         "subdir": "parc-stats",
         "tags": [
          "12_16_2020"
         ]
        },
        "path": "5fda36b70d4b105d2b903902/5fda8b010d4b105d2b903dab/parc-stats",
        "task_id": "5fda8b010d4b105d2b903dab"
       },
       {
        "app": {},
        "datatype": "neuro/parc-stats",
        "finish_date": "2020-12-16T22:37:10.609Z",
        "output": {
         "archive": {
          "desc": "",
          "project": "5fda367856422f36d2f97a51"
         },
         "datatype": "5edd3b77c5972b8c47b3a2c3",
         "datatype_tags": [
          "freesurfer"
         ],
         "id": "parc-stats",
         "meta": {
          "freesurfer_version": "7.1.0",
          "subject": "17"
         },
         "subdir": "parc-stats",
         "tags": [
          "12_16_2020"
         ]
        },
        "path": "5fda36b70d4b105d2b903908/5fda8bb00d4b105d2b903dd0/parc-stats",
        "task_id": "5fda8bb00d4b105d2b903dd0"
       },
       {
        "app": {},
        "datatype": "neuro/parc-stats",
        "finish_date": "2020-12-16T22:43:25.046Z",
        "output": {
         "archive": {
          "desc": "",
          "project": "5fda367856422f36d2f97a51"
         },
         "datatype": "5edd3b77c5972b8c47b3a2c3",
         "datatype_tags": [
          "freesurfer"
         ],
         "id": "parc-stats",
         "meta": {
          "freesurfer_version": "7.1.0",
          "subject": "18"
         },
         "subdir": "parc-stats",
         "tags": [
          "12_16_2020"
         ]
        },
        "path": "5fda36b80d4b105d2b90390e/5fda8bb00d4b105d2b903dd3/parc-stats",
        "task_id": "5fda8bb00d4b105d2b903dd3"
       },
       {
        "app": {},
        "datatype": "neuro/parc-stats",
        "finish_date": "2020-12-16T22:45:44.542Z",
        "output": {
         "archive": {
          "desc": "",
          "project": "5fda367856422f36d2f97a51"
         },
         "datatype": "5edd3b77c5972b8c47b3a2c3",
         "datatype_tags": [
          "freesurfer"
         ],
         "id": "parc-stats",
         "meta": {
          "freesurfer_version": "7.1.0",
          "subject": "20"
         },
         "subdir": "parc-stats",
         "tags": [
          "12_16_2020"
         ]
        },
        "path": "5fda36b80d4b105d2b90391a/5fda8d900d4b105d2b903df6/parc-stats",
        "task_id": "5fda8d900d4b105d2b903df6"
       },
       {
        "app": {},
        "datatype": "neuro/freesurfer",
        "finish_date": "2020-12-16T22:54:00.960Z",
        "output": {
         "archive": {
          "desc": "",
          "project": "5fda367856422f36d2f97a51"
         },
         "datatype": "58cb22c8e13a50849b25882e",
         "datatype_tags": [],
         "id": "freesurfer",
         "meta": {
          "freesurfer_version": "7.1.0",
          "subject": "19"
         },
         "subdir": "output",
         "tags": [
          "12_16_2020"
         ]
        },
        "path": "5fda36b80d4b105d2b903914/5fda39fd0d4b105d2b90396a/freesurfer",
        "task_id": "5fda39fd0d4b105d2b90396a"
       },
       {
        "app": {},
        "datatype": "neuro/parc-stats",
        "finish_date": "2020-12-17T03:20:44.058Z",
        "output": {
         "archive": {
          "desc": "",
          "project": "5fda367856422f36d2f97a51"
         },
         "datatype": "5edd3b77c5972b8c47b3a2c3",
         "datatype_tags": [
          "freesurfer"
         ],
         "id": "parc-stats",
         "meta": {
          "freesurfer_version": "7.1.0",
          "subject": "19"
         },
         "subdir": "parc-stats",
         "tags": [
          "12_16_2020"
         ]
        },
        "path": "5fda36b80d4b105d2b903914/5fdab6a50d4b105d2b903fd0/parc-stats",
        "task_id": "5fdab6a50d4b105d2b903fd0"
       },
       {
        "app": {},
        "datatype": "neuro/func/task",
        "finish_date": "2020-12-17T05:51:58.994Z",
        "output": {
         "archive": {
          "desc": "",
          "project": "5fda367856422f36d2f97a51"
         },
         "datatype": "59b685a08e5d38b0b331ddc5",
         "datatype_tags": [
          "run4",
          "preprocessed"
         ],
         "id": "bold_img",
         "meta": {
          "EchoTime": 0.03,
          "EffectiveEchoSpacing": 0.000370002,
          "FlipAngle": 90,
          "ImageType": [
           "ORIGINAL",
           "PRIMARY",
           "M",
           "ND",
           "NORM",
           "MOS"
          ],
          "MagneticFieldStrength": 3,
          "Manufacturer": "Siemens",
          "ManufacturersModelName": "TrioTim",
          "PhaseEncodingDirection": "j-",
          "PulseSequenceType": "Gradient Echo EPI",
          "RepetitionTime": 2.5,
          "SliceTiming": [
           0,
           1.2875,
           0.065,
           1.3525,
           0.13,
           1.415,
           0.1925,
           1.48,
           0.2575,
           1.545,
           0.3225,
           1.61,
           0.3875,
           1.6725,
           0.45,
           1.7375,
           0.515,
           1.8025,
           0.58,
           1.8675,
           0.645,
           1.93,
           0.7075,
           1.995,
           0.7725,
           2.06,
           0.8375,
           2.125,
           0.9025,
           2.1875,
           0.965,
           2.2525,
           1.03,
           2.3175,
           1.095,
           2.3825,
           1.16,
           2.445,
           1.2225
          ],
          "TaskName": "Experimental Run 4",
          "freesurfer_version": "7.1.0",
          "nifti_headers": {
           "aux_file": "",
           "base_affine": [
            [
             -2,
             0,
             0,
             71
            ],
            [
             0,
             2,
             0,
             -86
            ],
            [
             0,
             0,
             3,
             -69
            ],
            [
             0,
             0,
             0,
             1
            ]
           ],
           "bitpix": 16,
           "cal_max": 1832.5079345703125,
           "cal_min": -97.96730041503906,
           "data_type": "",
           "datatype": 4,
           "db_name": "",
           "descrip": "xform matrices modified by FixHeaderApplyTransforms (niworkflows v1.3.2).",
           "dim": [
            4,
            72,
            87,
            47,
            260,
            1,
            1,
            1
           ],
           "dim_info": 0,
           "extents": 0,
           "glmax": 0,
           "glmin": 0,
           "intent_code": 0,
           "intent_name": "",
           "intent_p1": 0,
           "intent_p2": 0,
           "intent_p3": 0,
           "magic": "n+1",
           "pixdim": [
            1,
            2,
            2,
            3,
            2.5,
            1,
            1,
            1
           ],
           "qform_code": 2,
           "qoffset_x": -72.8313980102539,
           "qoffset_y": -7.847199440002441,
           "qoffset_z": -69.9315414428711,
           "quatern_b": 0,
           "quatern_c": 0,
           "quatern_d": 0,
           "regular": "r",
           "scl_inter": null,
           "scl_slope": null,
           "session_error": 0,
           "sform_code": 2,
           "sizeof_hdr": 348,
           "slice_code": 0,
           "slice_duration": 0,
           "slice_end": 0,
           "slice_start": 0,
           "srow_x": [
            2,
            0,
            0,
            -72.8313980102539
           ],
           "srow_y": [
            0,
            2,
            0,
            -7.847199440002441
           ],
           "srow_z": [
            0,
            0,
            3,
            -69.9315414428711
           ],
           "toffset": 0,
           "vox_offset": 0,
           "xyzt_units": 10
          },
          "space": "T1w",
          "subject": "12",
          "task": "run4"
         },
         "subdir": "output",
         "tags": [
          "12_16_2020"
         ]
        },
        "path": "5fda36b60d4b105d2b9038ea/5fdacda40d4b105d2b9040c7/bold_img",
        "task_id": "5fdacda40d4b105d2b9040c7"
       },
       {
        "app": {},
        "datatype": "neuro/anat/t1w",
        "finish_date": "2020-12-17T05:52:00.162Z",
        "output": {
         "archive": {
          "desc": "",
          "project": "5fda367856422f36d2f97a51"
         },
         "datatype": "58c33bcee13a50849b25879a",
         "datatype_tags": [],
         "desc": "preprocessed t1 (same alignment as the original t1, but level adjusted - editme)",
         "id": "anat",
         "meta": {
          "EchoTime": 0.03,
          "EffectiveEchoSpacing": 0.000370002,
          "FlipAngle": 90,
          "ImageType": [
           "ORIGINAL",
           "PRIMARY",
           "M",
           "ND",
           "NORM",
           "MOS"
          ],
          "MagneticFieldStrength": 3,
          "Manufacturer": "Siemens",
          "ManufacturersModelName": "TrioTim",
          "PhaseEncodingDirection": "j-",
          "PulseSequenceType": "Gradient Echo EPI",
          "RepetitionTime": 2.5,
          "SkullStripped": false,
          "SliceTiming": [
           0,
           1.2875,
           0.065,
           1.3525,
           0.13,
           1.415,
           0.1925,
           1.48,
           0.2575,
           1.545,
           0.3225,
           1.61,
           0.3875,
           1.6725,
           0.45,
           1.7375,
           0.515,
           1.8025,
           0.58,
           1.8675,
           0.645,
           1.93,
           0.7075,
           1.995,
           0.7725,
           2.06,
           0.8375,
           2.125,
           0.9025,
           2.1875,
           0.965,
           2.2525,
           1.03,
           2.3175,
           1.095,
           2.3825,
           1.16,
           2.445,
           1.2225
          ],
          "TaskName": "Experimental Run 4",
          "freesurfer_version": "7.1.0",
          "nifti_headers": {
           "aux_file": "",
           "base_affine": [
            [
             -0.9999964833259583,
             0,
             0,
             95.49966415762901
            ],
            [
             0,
             0.9375,
             0,
             -119.53125
            ],
            [
             0,
             0,
             0.9375,
             -119.53125
            ],
            [
             0,
             0,
             0,
             1
            ]
           ],
           "bitpix": 32,
           "cal_max": 0,
           "cal_min": 0,
           "data_type": "",
           "datatype": 16,
           "db_name": "",
           "descrip": "xform matrices modified by CopyXForm (niworkflows v1.3.2).",
           "dim": [
            3,
            192,
            256,
            256,
            1,
            1,
            1,
            1
           ],
           "dim_info": 0,
           "extents": 0,
           "glmax": 0,
           "glmin": 0,
           "intent_code": 0,
           "intent_name": "",
           "intent_p1": 0,
           "intent_p2": 0,
           "intent_p3": 0,
           "magic": "n+1",
           "pixdim": [
            1,
            0.9999964833259583,
            0.9375,
            0.9375,
            1.899999976158142,
            1,
            1,
            1
           ],
           "qform_code": 1,
           "qoffset_x": -106.8313980102539,
           "qoffset_y": -72.51982116699219,
           "qoffset_z": -57.964046478271484,
           "quatern_b": -0.24343162775039673,
           "quatern_c": 0.009764671325683594,
           "quatern_d": -0.02813512086868286,
           "regular": "",
           "scl_inter": null,
           "scl_slope": null,
           "session_error": 0,
           "sform_code": 1,
           "sizeof_hdr": 348,
           "slice_code": 0,
           "slice_duration": 0,
           "slice_end": 0,
           "slice_start": 0,
           "srow_x": [
            0.9982226490974426,
            0.04668537154793739,
            0.030591456219553947,
            -106.8313980102539
           ],
           "srow_y": [
            -0.059305645525455475,
            0.8249052166938782,
            0.4419800043106079,
            -72.51982116699219
           ],
           "srow_z": [
            -0.005234955344349146,
            -0.44301027059555054,
            0.8262106776237488,
            -57.964046478271484
           ],
           "toffset": 0,
           "vox_offset": 0,
           "xyzt_units": 2
          },
          "subject": "12",
          "task": "run4"
         },
         "subdir": "output",
         "tags": [
          "12_16_2020"
         ]
        },
        "path": "5fda36b60d4b105d2b9038ea/5fdacda40d4b105d2b9040c7/anat",
        "task_id": "5fdacda40d4b105d2b9040c7"
       },
       {
        "app": {},
        "datatype": "neuro/func/task",
        "finish_date": "2020-12-17T05:52:01.338Z",
        "output": {
         "archive": {
          "desc": "",
          "project": "5fda367856422f36d2f97a51"
         },
         "datatype": "59b685a08e5d38b0b331ddc5",
         "datatype_tags": [
          "run4",
          "preprocessed"
         ],
         "id": "bold_img",
         "meta": {
          "EchoTime": 0.03,
          "EffectiveEchoSpacing": 0.000390006,
          "FlipAngle": 90,
          "ImageType": [
           "ORIGINAL",
           "PRIMARY",
           "M",
           "ND",
           "NORM",
           "MOS"
          ],
          "MagneticFieldStrength": 3,
          "Manufacturer": "Siemens",
          "ManufacturersModelName": "TrioTim",
          "PhaseEncodingDirection": "j-",
          "PulseSequenceType": "Gradient Echo EPI",
          "RepetitionTime": 2.5,
          "SliceTiming": [
           0,
           1.2875,
           0.065,
           1.3525,
           0.1275,
           1.415,
           0.1925,
           1.48,
           0.2575,
           1.545,
           0.3225,
           1.6075,
           0.385,
           1.6725,
           0.45,
           1.7375,
           0.515,
           1.8025,
           0.58,
           1.865,
           0.6425,
           1.93,
           0.7075,
           1.995,
           0.7725,
           2.06,
           0.8375,
           2.1225,
           0.9,
           2.1875,
           0.965,
           2.2525,
           1.03,
           2.3175,
           1.095,
           2.38,
           1.1575,
           2.445,
           1.2225
          ],
          "TaskName": "Experimental Run 4",
          "freesurfer_version": "7.1.0",
          "nifti_headers": {
           "aux_file": "",
           "base_affine": [
            [
             -2,
             0,
             0,
             69
            ],
            [
             0,
             2,
             0,
             -83
            ],
            [
             0,
             0,
             3,
             -70.5
            ],
            [
             0,
             0,
             0,
             1
            ]
           ],
           "bitpix": 16,
           "cal_max": 1171.6385498046875,
           "cal_min": -58.23539733886719,
           "data_type": "",
           "datatype": 4,
           "db_name": "",
           "descrip": "xform matrices modified by FixHeaderApplyTransforms (niworkflows v1.3.2).",
           "dim": [
            4,
            70,
            84,
            48,
            260,
            1,
            1,
            1
           ],
           "dim_info": 0,
           "extents": 0,
           "glmax": 0,
           "glmin": 0,
           "intent_code": 0,
           "intent_name": "",
           "intent_p1": 0,
           "intent_p2": 0,
           "intent_p3": 0,
           "magic": "n+1",
           "pixdim": [
            1,
            2,
            2,
            3,
            2.5,
            1,
            1,
            1
           ],
           "qform_code": 2,
           "qoffset_x": -68.23706817626953,
           "qoffset_y": -8.104426383972168,
           "qoffset_z": -81.49185943603516,
           "quatern_b": 0,
           "quatern_c": 0,
           "quatern_d": 0,
           "regular": "r",
           "scl_inter": null,
           "scl_slope": null,
           "session_error": 0,
           "sform_code": 2,
           "sizeof_hdr": 348,
           "slice_code": 0,
           "slice_duration": 0,
           "slice_end": 0,
           "slice_start": 0,
           "srow_x": [
            2,
            0,
            0,
            -68.23706817626953
           ],
           "srow_y": [
            0,
            2,
            0,
            -8.104426383972168
           ],
           "srow_z": [
            0,
            0,
            3,
            -81.49185943603516
           ],
           "toffset": 0,
           "vox_offset": 0,
           "xyzt_units": 10
          },
          "space": "T1w",
          "subject": "17",
          "task": "run4"
         },
         "subdir": "output",
         "tags": [
          "12_16_2020"
         ]
        },
        "path": "5fda36b70d4b105d2b903908/5fdacda50d4b105d2b9040ec/bold_img",
        "task_id": "5fdacda50d4b105d2b9040ec"
       },
       {
        "app": {},
        "datatype": "neuro/anat/t1w",
        "finish_date": "2020-12-17T05:52:02.465Z",
        "output": {
         "archive": {
          "desc": "",
          "project": "5fda367856422f36d2f97a51"
         },
         "datatype": "58c33bcee13a50849b25879a",
         "datatype_tags": [],
         "desc": "preprocessed t1 (same alignment as the original t1, but level adjusted - editme)",
         "id": "anat",
         "meta": {
          "EchoTime": 0.03,
          "EffectiveEchoSpacing": 0.000390006,
          "FlipAngle": 90,
          "ImageType": [
           "ORIGINAL",
           "PRIMARY",
           "M",
           "ND",
           "NORM",
           "MOS"
          ],
          "MagneticFieldStrength": 3,
          "Manufacturer": "Siemens",
          "ManufacturersModelName": "TrioTim",
          "PhaseEncodingDirection": "j-",
          "PulseSequenceType": "Gradient Echo EPI",
          "RepetitionTime": 2.5,
          "SkullStripped": false,
          "SliceTiming": [
           0,
           1.2875,
           0.065,
           1.3525,
           0.1275,
           1.415,
           0.1925,
           1.48,
           0.2575,
           1.545,
           0.3225,
           1.6075,
           0.385,
           1.6725,
           0.45,
           1.7375,
           0.515,
           1.8025,
           0.58,
           1.865,
           0.6425,
           1.93,
           0.7075,
           1.995,
           0.7725,
           2.06,
           0.8375,
           2.1225,
           0.9,
           2.1875,
           0.965,
           2.2525,
           1.03,
           2.3175,
           1.095,
           2.38,
           1.1575,
           2.445,
           1.2225
          ],
          "TaskName": "Experimental Run 4",
          "freesurfer_version": "7.1.0",
          "nifti_headers": {
           "aux_file": "",
           "base_affine": [
            [
             -0.9999986290931702,
             0,
             0,
             95.49986907839775
            ],
            [
             0,
             0.9374999403953552,
             0,
             -119.53124240040779
            ],
            [
             0,
             0,
             0.9375,
             -119.53125
            ],
            [
             0,
             0,
             0,
             1
            ]
           ],
           "bitpix": 32,
           "cal_max": 0,
           "cal_min": 0,
           "data_type": "",
           "datatype": 16,
           "db_name": "",
           "descrip": "xform matrices modified by CopyXForm (niworkflows v1.3.2).",
           "dim": [
            3,
            192,
            256,
            256,
            1,
            1,
            1,
            1
           ],
           "dim_info": 0,
           "extents": 0,
           "glmax": 0,
           "glmin": 0,
           "intent_code": 0,
           "intent_name": "",
           "intent_p1": 0,
           "intent_p2": 0,
           "intent_p3": 0,
           "magic": "n+1",
           "pixdim": [
            1,
            0.9999986290931702,
            0.9374999403953552,
            0.9375,
            1.899999976158142,
            1,
            1,
            1
           ],
           "qform_code": 1,
           "qoffset_x": -114.23706817626953,
           "qoffset_y": -71.82034301757812,
           "qoffset_z": -90.5604476928711,
           "quatern_b": -0.16613107919692993,
           "quatern_c": 0.01571744680404663,
           "quatern_d": -0.05661005899310112,
           "regular": "",
           "scl_inter": null,
           "scl_slope": null,
           "session_error": 0,
           "sform_code": 1,
           "sizeof_hdr": 348,
           "slice_code": 0,
           "slice_duration": 0,
           "slice_end": 0,
           "slice_start": 0,
           "srow_x": [
            0.9930951595306396,
            0.09958698600530624,
            0.04664285480976105,
            -114.23706817626953
           ],
           "srow_y": [
            -0.11667059361934662,
            0.8797420263290405,
            0.3049531579017639,
            -71.82034301757812
           ],
           "srow_z": [
            -0.012133601121604443,
            -0.3082897663116455,
            0.8852876424789429,
            -90.5604476928711
           ],
           "toffset": 0,
           "vox_offset": 0,
           "xyzt_units": 2
          },
          "subject": "17",
          "task": "run4"
         },
         "subdir": "output",
         "tags": [
          "12_16_2020"
         ]
        },
        "path": "5fda36b70d4b105d2b903908/5fdacda50d4b105d2b9040ec/anat",
        "task_id": "5fdacda50d4b105d2b9040ec"
       },
       {
        "app": {},
        "datatype": "neuro/func/task",
        "finish_date": "2020-12-17T05:52:05.330Z",
        "output": {
         "archive": {
          "desc": "",
          "project": "5fda367856422f36d2f97a51"
         },
         "datatype": "59b685a08e5d38b0b331ddc5",
         "datatype_tags": [
          "run4",
          "preprocessed"
         ],
         "id": "bold_img",
         "meta": {
          "EchoTime": 0.03,
          "EffectiveEchoSpacing": 0.000370002,
          "FlipAngle": 90,
          "ImageType": [
           "ORIGINAL",
           "PRIMARY",
           "M",
           "ND",
           "NORM",
           "MOS"
          ],
          "MagneticFieldStrength": 3,
          "Manufacturer": "Siemens",
          "ManufacturersModelName": "TrioTim",
          "PhaseEncodingDirection": "j-",
          "PulseSequenceType": "Gradient Echo EPI",
          "RepetitionTime": 2.5,
          "SliceTiming": [
           0,
           1.285,
           0.0625,
           1.35,
           0.1275,
           1.415,
           0.1925,
           1.48,
           0.255,
           1.5425,
           0.32,
           1.6075,
           0.385,
           1.6725,
           0.45,
           1.735,
           0.5125,
           1.8,
           0.5775,
           1.865,
           0.6425,
           1.93,
           0.7075,
           1.9925,
           0.77,
           2.0575,
           0.835,
           2.1225,
           0.9,
           2.1875,
           0.965,
           2.25,
           1.0275,
           2.315,
           1.0925,
           2.38,
           1.1575,
           2.445,
           1.2225
          ],
          "TaskName": "Experimental Run 4",
          "freesurfer_version": "7.1.0",
          "nifti_headers": {
           "aux_file": "",
           "base_affine": [
            [
             -2,
             0,
             0,
             66
            ],
            [
             0,
             2,
             0,
             -85
            ],
            [
             0,
             0,
             3,
             -70.5
            ],
            [
             0,
             0,
             0,
             1
            ]
           ],
           "bitpix": 16,
           "cal_max": 1650.6982421875,
           "cal_min": -99.54867553710938,
           "data_type": "",
           "datatype": 4,
           "db_name": "",
           "descrip": "xform matrices modified by FixHeaderApplyTransforms (niworkflows v1.3.2).",
           "dim": [
            4,
            67,
            86,
            48,
            260,
            1,
            1,
            1
           ],
           "dim_info": 0,
           "extents": 0,
           "glmax": 0,
           "glmin": 0,
           "intent_code": 0,
           "intent_name": "",
           "intent_p1": 0,
           "intent_p2": 0,
           "intent_p3": 0,
           "magic": "n+1",
           "pixdim": [
            1,
            2,
            2,
            3,
            2.5,
            1,
            1,
            1
           ],
           "qform_code": 2,
           "qoffset_x": -70.17710876464844,
           "qoffset_y": -14.291061401367188,
           "qoffset_z": -82.07884216308594,
           "quatern_b": 0,
           "quatern_c": 0,
           "quatern_d": 0,
           "regular": "r",
           "scl_inter": null,
           "scl_slope": null,
           "session_error": 0,
           "sform_code": 2,
           "sizeof_hdr": 348,
           "slice_code": 0,
           "slice_duration": 0,
           "slice_end": 0,
           "slice_start": 0,
           "srow_x": [
            2,
            0,
            0,
            -70.17710876464844
           ],
           "srow_y": [
            0,
            2,
            0,
            -14.291061401367188
           ],
           "srow_z": [
            0,
            0,
            3,
            -82.07884216308594
           ],
           "toffset": 0,
           "vox_offset": 0,
           "xyzt_units": 10
          },
          "space": "T1w",
          "subject": "10",
          "task": "run4"
         },
         "subdir": "output",
         "tags": [
          "12_16_2020"
         ]
        },
        "path": "5fda36b60d4b105d2b9038de/5fdacda40d4b105d2b9040b7/bold_img",
        "task_id": "5fdacda40d4b105d2b9040b7"
       },
       {
        "app": {},
        "datatype": "neuro/anat/t1w",
        "finish_date": "2020-12-17T05:52:06.599Z",
        "output": {
         "archive": {
          "desc": "",
          "project": "5fda367856422f36d2f97a51"
         },
         "datatype": "58c33bcee13a50849b25879a",
         "datatype_tags": [],
         "desc": "preprocessed t1 (same alignment as the original t1, but level adjusted - editme)",
         "id": "anat",
         "meta": {
          "EchoTime": 0.03,
          "EffectiveEchoSpacing": 0.000370002,
          "FlipAngle": 90,
          "ImageType": [
           "ORIGINAL",
           "PRIMARY",
           "M",
           "ND",
           "NORM",
           "MOS"
          ],
          "MagneticFieldStrength": 3,
          "Manufacturer": "Siemens",
          "ManufacturersModelName": "TrioTim",
          "PhaseEncodingDirection": "j-",
          "PulseSequenceType": "Gradient Echo EPI",
          "RepetitionTime": 2.5,
          "SkullStripped": false,
          "SliceTiming": [
           0,
           1.2875,
           0.065,
           1.35,
           0.1275,
           1.415,
           0.1925,
           1.48,
           0.2575,
           1.545,
           0.3225,
           1.6075,
           0.385,
           1.6725,
           0.45,
           1.7375,
           0.515,
           1.8025,
           0.58,
           1.865,
           0.6425,
           1.93,
           0.7075,
           1.995,
           0.7725,
           2.06,
           0.8375,
           2.1225,
           0.9,
           2.1875,
           0.965,
           2.2525,
           1.03,
           2.3175,
           1.095,
           2.38,
           1.1575,
           2.445,
           1.2225
          ],
          "TaskName": "Experimental Run 4",
          "freesurfer_version": "7.1.0",
          "nifti_headers": {
           "aux_file": "",
           "base_affine": [
            [
             -1.0000020265579224,
             0,
             0,
             95.50019353628159
            ],
            [
             0,
             0.9375,
             0,
             -119.53125
            ],
            [
             0,
             0,
             0.9375,
             -119.53125
            ],
            [
             0,
             0,
             0,
             1
            ]
           ],
           "bitpix": 32,
           "cal_max": 0,
           "cal_min": 0,
           "data_type": "",
           "datatype": 16,
           "db_name": "",
           "descrip": "xform matrices modified by CopyXForm (niworkflows v1.3.2).",
           "dim": [
            3,
            192,
            256,
            256,
            1,
            1,
            1,
            1
           ],
           "dim_info": 0,
           "extents": 0,
           "glmax": 0,
           "glmin": 0,
           "intent_code": 0,
           "intent_name": "",
           "intent_p1": 0,
           "intent_p2": 0,
           "intent_p3": 0,
           "magic": "n+1",
           "pixdim": [
            1,
            1.0000020265579224,
            0.9375,
            0.9375,
            1.899999976158142,
            1,
            1,
            1
           ],
           "qform_code": 1,
           "qoffset_x": -116.0077896118164,
           "qoffset_y": -63.17991638183594,
           "qoffset_z": -85.04377746582031,
           "quatern_b": -0.19640102982521057,
           "quatern_c": 0.05993436276912689,
           "quatern_d": -0.056530870497226715,
           "regular": "",
           "scl_inter": null,
           "scl_slope": null,
           "session_error": 0,
           "sform_code": 1,
           "sizeof_hdr": 348,
           "slice_code": 0,
           "slice_duration": 0,
           "slice_end": 0,
           "slice_start": 0,
           "srow_x": [
            0.9864262938499451,
            0.08149250596761703,
            0.1306161731481552,
            -116.0077896118164
           ],
           "srow_y": [
            -0.13401028513908386,
            0.8591829538345337,
            0.35345005989074707,
            -63.17991638183594
           ],
           "srow_z": [
            -0.09491322934627533,
            -0.36615556478500366,
            0.8584396839141846,
            -85.04377746582031
           ],
           "toffset": 0,
           "vox_offset": 0,
           "xyzt_units": 2
          },
          "subject": "11",
          "task": "run4"
         },
         "subdir": "output",
         "tags": [
          "12_16_2020"
         ]
        },
        "path": "5fda36b60d4b105d2b9038e4/5fdacda40d4b105d2b9040bc/anat",
        "task_id": "5fdacda40d4b105d2b9040bc"
       },
       {
        "app": {},
        "datatype": "neuro/func/task",
        "finish_date": "2020-12-17T05:52:12.263Z",
        "output": {
         "archive": {
          "desc": "",
          "project": "5fda367856422f36d2f97a51"
         },
         "datatype": "59b685a08e5d38b0b331ddc5",
         "datatype_tags": [
          "run4",
          "preprocessed"
         ],
         "id": "bold_img",
         "meta": {
          "EchoTime": 0.03,
          "EffectiveEchoSpacing": 0.000370002,
          "FlipAngle": 90,
          "ImageType": [
           "ORIGINAL",
           "PRIMARY",
           "M",
           "ND",
           "NORM",
           "MOS"
          ],
          "MagneticFieldStrength": 3,
          "Manufacturer": "Siemens",
          "ManufacturersModelName": "TrioTim",
          "PhaseEncodingDirection": "j-",
          "PulseSequenceType": "Gradient Echo EPI",
          "RepetitionTime": 2.5,
          "SliceTiming": [
           0,
           1.2875,
           0.065,
           1.35,
           0.1275,
           1.415,
           0.1925,
           1.48,
           0.2575,
           1.545,
           0.3225,
           1.6075,
           0.385,
           1.6725,
           0.45,
           1.7375,
           0.515,
           1.8025,
           0.58,
           1.865,
           0.6425,
           1.93,
           0.7075,
           1.995,
           0.7725,
           2.06,
           0.8375,
           2.1225,
           0.9,
           2.1875,
           0.965,
           2.2525,
           1.03,
           2.3175,
           1.095,
           2.38,
           1.1575,
           2.445,
           1.2225
          ],
          "TaskName": "Experimental Run 4",
          "freesurfer_version": "7.1.0",
          "nifti_headers": {
           "aux_file": "",
           "base_affine": [
            [
             -2,
             0,
             0,
             73
            ],
            [
             0,
             2,
             0,
             -89
            ],
            [
             0,
             0,
             3,
             -72
            ],
            [
             0,
             0,
             0,
             1
            ]
           ],
           "bitpix": 16,
           "cal_max": 1981.5745849609375,
           "cal_min": -102.58302307128906,
           "data_type": "",
           "datatype": 4,
           "db_name": "",
           "descrip": "xform matrices modified by FixHeaderApplyTransforms (niworkflows v1.3.2).",
           "dim": [
            4,
            74,
            90,
            49,
            260,
            1,
            1,
            1
           ],
           "dim_info": 0,
           "extents": 0,
           "glmax": 0,
           "glmin": 0,
           "intent_code": 0,
           "intent_name": "",
           "intent_p1": 0,
           "intent_p2": 0,
           "intent_p3": 0,
           "magic": "n+1",
           "pixdim": [
            1,
            2,
            2,
            3,
            2.5,
            1,
            1,
            1
           ],
           "qform_code": 2,
           "qoffset_x": -70.0077896118164,
           "qoffset_y": -8.775880813598633,
           "qoffset_z": -91.5418701171875,
           "quatern_b": 0,
           "quatern_c": 0,
           "quatern_d": 0,
           "regular": "r",
           "scl_inter": null,
           "scl_slope": null,
           "session_error": 0,
           "sform_code": 2,
           "sizeof_hdr": 348,
           "slice_code": 0,
           "slice_duration": 0,
           "slice_end": 0,
           "slice_start": 0,
           "srow_x": [
            2,
            0,
            0,
            -70.0077896118164
           ],
           "srow_y": [
            0,
            2,
            0,
            -8.775880813598633
           ],
           "srow_z": [
            0,
            0,
            3,
            -91.5418701171875
           ],
           "toffset": 0,
           "vox_offset": 0,
           "xyzt_units": 10
          },
          "space": "T1w",
          "subject": "11",
          "task": "run4"
         },
         "subdir": "output",
         "tags": [
          "12_16_2020"
         ]
        },
        "path": "5fda36b60d4b105d2b9038e4/5fdacda40d4b105d2b9040bc/bold_img",
        "task_id": "5fdacda40d4b105d2b9040bc"
       },
       {
        "app": {},
        "datatype": "neuro/anat/t1w",
        "finish_date": "2020-12-17T05:52:13.444Z",
        "output": {
         "archive": {
          "desc": "",
          "project": "5fda367856422f36d2f97a51"
         },
         "datatype": "58c33bcee13a50849b25879a",
         "datatype_tags": [],
         "desc": "preprocessed t1 (same alignment as the original t1, but level adjusted - editme)",
         "id": "anat",
         "meta": {
          "EchoTime": 0.03,
          "EffectiveEchoSpacing": 0.000370002,
          "FlipAngle": 90,
          "ImageType": [
           "ORIGINAL",
           "PRIMARY",
           "M",
           "ND",
           "NORM",
           "MOS"
          ],
          "MagneticFieldStrength": 3,
          "Manufacturer": "Siemens",
          "ManufacturersModelName": "TrioTim",
          "PhaseEncodingDirection": "j-",
          "PulseSequenceType": "Gradient Echo EPI",
          "RepetitionTime": 2.5,
          "SkullStripped": false,
          "SliceTiming": [
           0,
           1.285,
           0.0625,
           1.35,
           0.1275,
           1.415,
           0.1925,
           1.48,
           0.255,
           1.5425,
           0.32,
           1.6075,
           0.385,
           1.6725,
           0.45,
           1.735,
           0.5125,
           1.8,
           0.5775,
           1.865,
           0.6425,
           1.93,
           0.7075,
           1.9925,
           0.77,
           2.0575,
           0.835,
           2.1225,
           0.9,
           2.1875,
           0.965,
           2.25,
           1.0275,
           2.315,
           1.0925,
           2.38,
           1.1575,
           2.445,
           1.2225
          ],
          "TaskName": "Experimental Run 4",
          "freesurfer_version": "7.1.0",
          "nifti_headers": {
           "aux_file": "",
           "base_affine": [
            [
             -1.0000052452087402,
             0,
             0,
             95.50050091743469
            ],
            [
             0,
             0.9375,
             0,
             -119.53125
            ],
            [
             0,
             0,
             0.9375,
             -119.53125
            ],
            [
             0,
             0,
             0,
             1
            ]
           ],
           "bitpix": 32,
           "cal_max": 0,
           "cal_min": 0,
           "data_type": "",
           "datatype": 16,
           "db_name": "",
           "descrip": "xform matrices modified by CopyXForm (niworkflows v1.3.2).",
           "dim": [
            3,
            192,
            256,
            256,
            1,
            1,
            1,
            1
           ],
           "dim_info": 0,
           "extents": 0,
           "glmax": 0,
           "glmin": 0,
           "intent_code": 0,
           "intent_name": "",
           "intent_p1": 0,
           "intent_p2": 0,
           "intent_p3": 0,
           "magic": "n+1",
           "pixdim": [
            1,
            1.0000052452087402,
            0.9375,
            0.9375,
            1.899999976158142,
            1,
            1,
            1
           ],
           "qform_code": 1,
           "qoffset_x": -95.48477935791016,
           "qoffset_y": -82.29106140136719,
           "qoffset_z": -76.97712707519531,
           "quatern_b": -0.18967276811599731,
           "quatern_c": -0.02116280607879162,
           "quatern_d": 0.008355975151062012,
           "regular": "",
           "scl_inter": null,
           "scl_slope": null,
           "session_error": 0,
           "sform_code": 1,
           "sizeof_hdr": 348,
           "slice_code": 0,
           "slice_duration": 0,
           "slice_end": 0,
           "slice_start": 0,
           "srow_x": [
            0.9989698529243469,
            -0.007852651178836823,
            -0.04192119091749191,
            -95.48477935791016
           ],
           "srow_y": [
            0.02443232201039791,
            0.8699145317077637,
            0.3487553596496582,
            -82.29106140136719
           ],
           "srow_z": [
            0.03837652876973152,
            -0.3494184911251068,
            0.8692057132720947,
            -76.97712707519531
           ],
           "toffset": 0,
           "vox_offset": 0,
           "xyzt_units": 2
          },
          "subject": "10",
          "task": "run4"
         },
         "subdir": "output",
         "tags": [
          "12_16_2020"
         ]
        },
        "path": "5fda36b60d4b105d2b9038de/5fdacda40d4b105d2b9040b7/anat",
        "task_id": "5fdacda40d4b105d2b9040b7"
       },
       {
        "app": {},
        "datatype": "neuro/func/task",
        "finish_date": "2020-12-17T05:53:07.511Z",
        "output": {
         "archive": {
          "desc": "",
          "project": "5fda367856422f36d2f97a51"
         },
         "datatype": "59b685a08e5d38b0b331ddc5",
         "datatype_tags": [
          "run4",
          "preprocessed"
         ],
         "id": "bold_img",
         "meta": {
          "EchoTime": 0.03,
          "EffectiveEchoSpacing": 0.000390006,
          "FlipAngle": 90,
          "ImageType": [
           "ORIGINAL",
           "PRIMARY",
           "M",
           "ND",
           "NORM",
           "MOS"
          ],
          "MagneticFieldStrength": 3,
          "Manufacturer": "Siemens",
          "ManufacturersModelName": "TrioTim",
          "PhaseEncodingDirection": "j-",
          "PulseSequenceType": "Gradient Echo EPI",
          "RepetitionTime": 2.5,
          "SliceTiming": [
           0,
           1.2875,
           0.065,
           1.3525,
           0.13,
           1.4175,
           0.195,
           1.48,
           0.2575,
           1.545,
           0.3225,
           1.61,
           0.3875,
           1.675,
           0.4525,
           1.7375,
           0.515,
           1.8025,
           0.58,
           1.8675,
           0.645,
           1.9325,
           0.7075,
           1.995,
           0.7725,
           2.06,
           0.8375,
           2.125,
           0.9025,
           2.1875,
           0.965,
           2.2525,
           1.03,
           2.3175,
           1.095,
           2.3825,
           1.16,
           2.445,
           1.2225
          ],
          "TaskName": "Experimental Run 4",
          "freesurfer_version": "7.1.0",
          "nifti_headers": {
           "aux_file": "",
           "base_affine": [
            [
             -2,
             0,
             0,
             71
            ],
            [
             0,
             2,
             0,
             -86
            ],
            [
             0,
             0,
             3,
             -70.5
            ],
            [
             0,
             0,
             0,
             1
            ]
           ],
           "bitpix": 16,
           "cal_max": 1793.707763671875,
           "cal_min": -121.72209930419922,
           "data_type": "",
           "datatype": 4,
           "db_name": "",
           "descrip": "xform matrices modified by FixHeaderApplyTransforms (niworkflows v1.3.2).",
           "dim": [
            4,
            72,
            87,
            48,
            260,
            1,
            1,
            1
           ],
           "dim_info": 0,
           "extents": 0,
           "glmax": 0,
           "glmin": 0,
           "intent_code": 0,
           "intent_name": "",
           "intent_p1": 0,
           "intent_p2": 0,
           "intent_p3": 0,
           "magic": "n+1",
           "pixdim": [
            1,
            2,
            2,
            3,
            2.5,
            1,
            1,
            1
           ],
           "qform_code": 2,
           "qoffset_x": -75.55901336669922,
           "qoffset_y": 0.9899753332138062,
           "qoffset_z": -85.84687042236328,
           "quatern_b": 0,
           "quatern_c": 0,
           "quatern_d": 0,
           "regular": "r",
           "scl_inter": null,
           "scl_slope": null,
           "session_error": 0,
           "sform_code": 2,
           "sizeof_hdr": 348,
           "slice_code": 0,
           "slice_duration": 0,
           "slice_end": 0,
           "slice_start": 0,
           "srow_x": [
            2,
            0,
            0,
            -75.55901336669922
           ],
           "srow_y": [
            0,
            2,
            0,
            0.9899753332138062
           ],
           "srow_z": [
            0,
            0,
            3,
            -85.84687042236328
           ],
           "toffset": 0,
           "vox_offset": 0,
           "xyzt_units": 10
          },
          "space": "T1w",
          "subject": "15",
          "task": "run4"
         },
         "subdir": "output",
         "tags": [
          "12_16_2020"
         ]
        },
        "path": "5fda36b70d4b105d2b9038fc/5fdacda40d4b105d2b9040d6/bold_img",
        "task_id": "5fdacda40d4b105d2b9040d6"
       },
       {
        "app": {},
        "datatype": "neuro/anat/t1w",
        "finish_date": "2020-12-17T05:53:08.826Z",
        "output": {
         "archive": {
          "desc": "",
          "project": "5fda367856422f36d2f97a51"
         },
         "datatype": "58c33bcee13a50849b25879a",
         "datatype_tags": [],
         "desc": "preprocessed t1 (same alignment as the original t1, but level adjusted - editme)",
         "id": "anat",
         "meta": {
          "EchoTime": 0.03,
          "EffectiveEchoSpacing": 0.000390006,
          "FlipAngle": 90,
          "ImageType": [
           "ORIGINAL",
           "PRIMARY",
           "M",
           "ND",
           "NORM",
           "MOS"
          ],
          "MagneticFieldStrength": 3,
          "Manufacturer": "Siemens",
          "ManufacturersModelName": "TrioTim",
          "PhaseEncodingDirection": "j-",
          "PulseSequenceType": "Gradient Echo EPI",
          "RepetitionTime": 2.5,
          "SkullStripped": false,
          "SliceTiming": [
           0,
           1.2875,
           0.065,
           1.3525,
           0.13,
           1.4175,
           0.195,
           1.48,
           0.2575,
           1.545,
           0.3225,
           1.61,
           0.3875,
           1.675,
           0.4525,
           1.7375,
           0.515,
           1.8025,
           0.58,
           1.8675,
           0.645,
           1.9325,
           0.7075,
           1.995,
           0.7725,
           2.06,
           0.8375,
           2.125,
           0.9025,
           2.1875,
           0.965,
           2.2525,
           1.03,
           2.3175,
           1.095,
           2.3825,
           1.16,
           2.445,
           1.2225
          ],
          "TaskName": "Experimental Run 4",
          "freesurfer_version": "7.1.0",
          "nifti_headers": {
           "aux_file": "",
           "base_affine": [
            [
             -0.9999977350234985,
             0,
             0,
             95.49978369474411
            ],
            [
             0,
             0.9374999403953552,
             0,
             -119.53124240040779
            ],
            [
             0,
             0,
             0.9375,
             -119.53125
            ],
            [
             0,
             0,
             0,
             1
            ]
           ],
           "bitpix": 32,
           "cal_max": 0,
           "cal_min": 0,
           "data_type": "",
           "datatype": 16,
           "db_name": "",
           "descrip": "xform matrices modified by CopyXForm (niworkflows v1.3.2).",
           "dim": [
            3,
            192,
            256,
            256,
            1,
            1,
            1,
            1
           ],
           "dim_info": 0,
           "extents": 0,
           "glmax": 0,
           "glmin": 0,
           "intent_code": 0,
           "intent_name": "",
           "intent_p1": 0,
           "intent_p2": 0,
           "intent_p3": 0,
           "magic": "n+1",
           "pixdim": [
            1,
            0.9999977350234985,
            0.9374999403953552,
            0.9375,
            1.899999976158142,
            1,
            1,
            1
           ],
           "qform_code": 1,
           "qoffset_x": -111.55901336669922,
           "qoffset_y": -49.027587890625,
           "qoffset_z": -111.2898941040039,
           "quatern_b": -0.1105046421289444,
           "quatern_c": 0.004631504882127047,
           "quatern_d": -0.041618749499320984,
           "regular": "",
           "scl_inter": null,
           "scl_slope": null,
           "session_error": 0,
           "sform_code": 1,
           "sizeof_hdr": 348,
           "slice_code": 0,
           "slice_duration": 0,
           "slice_end": 0,
           "slice_start": 0,
           "srow_x": [
            0.9964905977249146,
            0.07652872800827026,
            0.017246467992663383,
            -111.55901336669922
           ],
           "srow_y": [
            -0.08367767930030823,
            0.9113560914993286,
            0.20538295805454254,
            -49.027587890625
           ],
           "srow_z": [
            2.6076975245814538e-08,
            -0.2061057984828949,
            0.9145636558532715,
            -111.2898941040039
           ],
           "toffset": 0,
           "vox_offset": 0,
           "xyzt_units": 2
          },
          "subject": "15",
          "task": "run4"
         },
         "subdir": "output",
         "tags": [
          "12_16_2020"
         ]
        },
        "path": "5fda36b70d4b105d2b9038fc/5fdacda40d4b105d2b9040d6/anat",
        "task_id": "5fdacda40d4b105d2b9040d6"
       },
       {
        "app": {},
        "datatype": "neuro/anat/t1w",
        "finish_date": "2020-12-17T05:54:10.745Z",
        "output": {
         "archive": {
          "desc": "",
          "project": "5fda367856422f36d2f97a51"
         },
         "datatype": "58c33bcee13a50849b25879a",
         "datatype_tags": [],
         "desc": "preprocessed t1 (same alignment as the original t1, but level adjusted - editme)",
         "id": "anat",
         "meta": {
          "EchoTime": 0.03,
          "EffectiveEchoSpacing": 0.000390006,
          "FlipAngle": 90,
          "ImageType": [
           "ORIGINAL",
           "PRIMARY",
           "M",
           "ND",
           "NORM",
           "MOS"
          ],
          "MagneticFieldStrength": 3,
          "Manufacturer": "Siemens",
          "ManufacturersModelName": "TrioTim",
          "PhaseEncodingDirection": "j-",
          "PulseSequenceType": "Gradient Echo EPI",
          "RepetitionTime": 2.5,
          "SkullStripped": false,
          "SliceTiming": [
           0,
           1.2875,
           0.065,
           1.3525,
           0.13,
           1.415,
           0.1925,
           1.48,
           0.2575,
           1.545,
           0.3225,
           1.61,
           0.3875,
           1.6725,
           0.45,
           1.7375,
           0.515,
           1.8025,
           0.58,
           1.8675,
           0.6425,
           1.93,
           0.7075,
           1.995,
           0.7725,
           2.06,
           0.8375,
           2.1225,
           0.9,
           2.1875,
           0.965,
           2.2525,
           1.03,
           2.3175,
           1.095,
           2.38,
           1.1575,
           2.445,
           1.2225
          ],
          "TaskName": "Experimental Run 4",
          "freesurfer_version": "7.1.0",
          "nifti_headers": {
           "aux_file": "",
           "base_affine": [
            [
             -1.0000003576278687,
             0,
             0,
             95.50003415346146
            ],
            [
             0,
             0.9374999403953552,
             0,
             -119.53124240040779
            ],
            [
             0,
             0,
             0.9375,
             -119.53125
            ],
            [
             0,
             0,
             0,
             1
            ]
           ],
           "bitpix": 32,
           "cal_max": 0,
           "cal_min": 0,
           "data_type": "",
           "datatype": 16,
           "db_name": "",
           "descrip": "xform matrices modified by CopyXForm (niworkflows v1.3.2).",
           "dim": [
            3,
            192,
            256,
            256,
            1,
            1,
            1,
            1
           ],
           "dim_info": 0,
           "extents": 0,
           "glmax": 0,
           "glmin": 0,
           "intent_code": 0,
           "intent_name": "",
           "intent_p1": 0,
           "intent_p2": 0,
           "intent_p3": 0,
           "magic": "n+1",
           "pixdim": [
            1,
            1.0000003576278687,
            0.9374999403953552,
            0.9375,
            1.899999976158142,
            1,
            1,
            1
           ],
           "qform_code": 1,
           "qoffset_x": -107.34193420410156,
           "qoffset_y": -69.85533142089844,
           "qoffset_z": -83.67616271972656,
           "quatern_b": -0.19918568432331085,
           "quatern_c": 0.008522480726242065,
           "quatern_d": -0.04188940301537514,
           "regular": "",
           "scl_inter": null,
           "scl_slope": null,
           "session_error": 0,
           "sform_code": 1,
           "sizeof_hdr": 348,
           "slice_code": 0,
           "slice_duration": 0,
           "slice_end": 0,
           "slice_start": 0,
           "srow_x": [
            0.9963456392288208,
            0.07371258735656738,
            0.03128910809755325,
            -107.34193420410156
           ],
           "srow_y": [
            -0.0854170173406601,
            0.8598193526268005,
            0.3649716377258301,
            -69.85533142089844
           ],
           "srow_z": [
            2.980233304583635e-08,
            -0.3663104176521301,
            0.8629733324050903,
            -83.67616271972656
           ],
           "toffset": 0,
           "vox_offset": 0,
           "xyzt_units": 2
          },
          "subject": "16",
          "task": "run4"
         },
         "subdir": "output",
         "tags": [
          "12_16_2020"
         ]
        },
        "path": "5fda36b70d4b105d2b903902/5fdacda50d4b105d2b9040e1/anat",
        "task_id": "5fdacda50d4b105d2b9040e1"
       },
       {
        "app": {},
        "datatype": "neuro/func/task",
        "finish_date": "2020-12-17T05:54:11.802Z",
        "output": {
         "archive": {
          "desc": "",
          "project": "5fda367856422f36d2f97a51"
         },
         "datatype": "59b685a08e5d38b0b331ddc5",
         "datatype_tags": [
          "run4",
          "preprocessed"
         ],
         "id": "bold_img",
         "meta": {
          "EchoTime": 0.03,
          "EffectiveEchoSpacing": 0.000390006,
          "FlipAngle": 90,
          "ImageType": [
           "ORIGINAL",
           "PRIMARY",
           "M",
           "ND",
           "NORM",
           "MOS"
          ],
          "MagneticFieldStrength": 3,
          "Manufacturer": "Siemens",
          "ManufacturersModelName": "TrioTim",
          "PhaseEncodingDirection": "j-",
          "PulseSequenceType": "Gradient Echo EPI",
          "RepetitionTime": 2.5,
          "SliceTiming": [
           0,
           1.2875,
           0.065,
           1.3525,
           0.13,
           1.415,
           0.1925,
           1.48,
           0.2575,
           1.545,
           0.3225,
           1.61,
           0.3875,
           1.6725,
           0.45,
           1.7375,
           0.515,
           1.8025,
           0.58,
           1.8675,
           0.6425,
           1.93,
           0.7075,
           1.995,
           0.7725,
           2.06,
           0.8375,
           2.1225,
           0.9,
           2.1875,
           0.965,
           2.2525,
           1.03,
           2.3175,
           1.095,
           2.38,
           1.1575,
           2.445,
           1.2225
          ],
          "TaskName": "Experimental Run 4",
          "freesurfer_version": "7.1.0",
          "nifti_headers": {
           "aux_file": "",
           "base_affine": [
            [
             -2,
             0,
             0,
             72
            ],
            [
             0,
             2,
             0,
             -80
            ],
            [
             0,
             0,
             3,
             -73.5
            ],
            [
             0,
             0,
             0,
             1
            ]
           ],
           "bitpix": 16,
           "cal_max": 1228.403076171875,
           "cal_min": -88.80166625976562,
           "data_type": "",
           "datatype": 4,
           "db_name": "",
           "descrip": "xform matrices modified by FixHeaderApplyTransforms (niworkflows v1.3.2).",
           "dim": [
            4,
            73,
            81,
            50,
            260,
            1,
            1,
            1
           ],
           "dim_info": 0,
           "extents": 0,
           "glmax": 0,
           "glmin": 0,
           "intent_code": 0,
           "intent_name": "",
           "intent_p1": 0,
           "intent_p2": 0,
           "intent_p3": 0,
           "magic": "n+1",
           "pixdim": [
            1,
            2,
            2,
            3,
            2.5,
            1,
            1,
            1
           ],
           "qform_code": 2,
           "qoffset_x": -71.34193420410156,
           "qoffset_y": -4.169981956481934,
           "qoffset_z": -90.08531951904297,
           "quatern_b": 0,
           "quatern_c": 0,
           "quatern_d": 0,
           "regular": "r",
           "scl_inter": null,
           "scl_slope": null,
           "session_error": 0,
           "sform_code": 2,
           "sizeof_hdr": 348,
           "slice_code": 0,
           "slice_duration": 0,
           "slice_end": 0,
           "slice_start": 0,
           "srow_x": [
            2,
            0,
            0,
            -71.34193420410156
           ],
           "srow_y": [
            0,
            2,
            0,
            -4.169981956481934
           ],
           "srow_z": [
            0,
            0,
            3,
            -90.08531951904297
           ],
           "toffset": 0,
           "vox_offset": 0,
           "xyzt_units": 10
          },
          "space": "T1w",
          "subject": "16",
          "task": "run4"
         },
         "subdir": "output",
         "tags": [
          "12_16_2020"
         ]
        },
        "path": "5fda36b70d4b105d2b903902/5fdacda50d4b105d2b9040e1/bold_img",
        "task_id": "5fdacda50d4b105d2b9040e1"
       },
       {
        "app": {},
        "datatype": "neuro/anat/t1w",
        "finish_date": "2020-12-17T06:07:35.276Z",
        "output": {
         "archive": {
          "desc": "",
          "project": "5fda367856422f36d2f97a51"
         },
         "datatype": "58c33bcee13a50849b25879a",
         "datatype_tags": [],
         "desc": "preprocessed t1 (same alignment as the original t1, but level adjusted - editme)",
         "id": "anat",
         "meta": {
          "EchoTime": 0.03,
          "EffectiveEchoSpacing": 0.000370002,
          "FlipAngle": 90,
          "ImageType": [
           "ORIGINAL",
           "PRIMARY",
           "M",
           "ND",
           "NORM",
           "MOS"
          ],
          "MagneticFieldStrength": 3,
          "Manufacturer": "Siemens",
          "ManufacturersModelName": "TrioTim",
          "PhaseEncodingDirection": "j-",
          "PulseSequenceType": "Gradient Echo EPI",
          "RepetitionTime": 2.5,
          "SkullStripped": false,
          "SliceTiming": [
           0,
           1.285,
           0.0625,
           1.35,
           0.1275,
           1.415,
           0.1925,
           1.48,
           0.2575,
           1.5425,
           0.32,
           1.6075,
           0.385,
           1.6725,
           0.45,
           1.7375,
           0.515,
           1.8,
           0.5775,
           1.865,
           0.6425,
           1.93,
           0.7075,
           1.995,
           0.7725,
           2.0575,
           0.835,
           2.1225,
           0.9,
           2.1875,
           0.965,
           2.2525,
           1.03,
           2.315,
           1.0925,
           2.38,
           1.1575,
           2.445,
           1.2225
          ],
          "TaskName": "Experimental Run 4",
          "freesurfer_version": "7.1.0",
          "nifti_headers": {
           "aux_file": "",
           "base_affine": [
            [
             -0.9999998211860657,
             0,
             0,
             95.49998292326927
            ],
            [
             0,
             0.9375,
             0,
             -119.53125
            ],
            [
             0,
             0,
             0.9375,
             -119.53125
            ],
            [
             0,
             0,
             0,
             1
            ]
           ],
           "bitpix": 32,
           "cal_max": 0,
           "cal_min": 0,
           "data_type": "",
           "datatype": 16,
           "db_name": "",
           "descrip": "xform matrices modified by CopyXForm (niworkflows v1.3.2).",
           "dim": [
            3,
            192,
            256,
            256,
            1,
            1,
            1,
            1
           ],
           "dim_info": 0,
           "extents": 0,
           "glmax": 0,
           "glmin": 0,
           "intent_code": 0,
           "intent_name": "",
           "intent_p1": 0,
           "intent_p2": 0,
           "intent_p3": 0,
           "magic": "n+1",
           "pixdim": [
            1,
            0.9999998211860657,
            0.9375,
            0.9375,
            1.899999976158142,
            1,
            1,
            1
           ],
           "qform_code": 1,
           "qoffset_x": -99.990234375,
           "qoffset_y": -78.58868408203125,
           "qoffset_z": -102.93902587890625,
           "quatern_b": -0.19580821692943573,
           "quatern_c": 0.007351054344326258,
           "quatern_d": -0.036788538098335266,
           "regular": "",
           "scl_inter": null,
           "scl_slope": null,
           "session_error": 0,
           "sform_code": 1,
           "sizeof_hdr": 348,
           "slice_code": 0,
           "slice_duration": 0,
           "slice_end": 0,
           "slice_start": 0,
           "srow_x": [
            0.9971849322319031,
            0.06489485502243042,
            0.027013080194592476,
            -99.990234375
           ],
           "srow_y": [
            -0.07497873902320862,
            0.8630732893943787,
            0.35926276445388794,
            -78.58868408203125
           ],
           "srow_z": [
            4.09781861776537e-08,
            -0.36027687788009644,
            0.865509569644928,
            -102.93902587890625
           ],
           "toffset": 0,
           "vox_offset": 0,
           "xyzt_units": 2
          },
          "subject": "13",
          "task": "run4"
         },
         "subdir": "output",
         "tags": [
          "12_16_2020"
         ]
        },
        "path": "5fda36b60d4b105d2b9038f0/5fdacda40d4b105d2b9040cc/anat",
        "task_id": "5fdacda40d4b105d2b9040cc"
       },
       {
        "app": {},
        "datatype": "neuro/func/task",
        "finish_date": "2020-12-17T06:07:44.683Z",
        "output": {
         "archive": {
          "desc": "",
          "project": "5fda367856422f36d2f97a51"
         },
         "datatype": "59b685a08e5d38b0b331ddc5",
         "datatype_tags": [
          "run4",
          "preprocessed"
         ],
         "id": "bold_img",
         "meta": {
          "EchoTime": 0.03,
          "EffectiveEchoSpacing": 0.000370002,
          "FlipAngle": 90,
          "ImageType": [
           "ORIGINAL",
           "PRIMARY",
           "M",
           "ND",
           "NORM",
           "MOS"
          ],
          "MagneticFieldStrength": 3,
          "Manufacturer": "Siemens",
          "ManufacturersModelName": "TrioTim",
          "PhaseEncodingDirection": "j-",
          "PulseSequenceType": "Gradient Echo EPI",
          "RepetitionTime": 2.5,
          "SliceTiming": [
           0,
           1.285,
           0.0625,
           1.35,
           0.1275,
           1.415,
           0.1925,
           1.48,
           0.2575,
           1.5425,
           0.32,
           1.6075,
           0.385,
           1.6725,
           0.45,
           1.7375,
           0.515,
           1.8,
           0.5775,
           1.865,
           0.6425,
           1.93,
           0.7075,
           1.995,
           0.7725,
           2.0575,
           0.835,
           2.1225,
           0.9,
           2.1875,
           0.965,
           2.2525,
           1.03,
           2.315,
           1.0925,
           2.38,
           1.1575,
           2.445,
           1.2225
          ],
          "TaskName": "Experimental Run 4",
          "freesurfer_version": "7.1.0",
          "nifti_headers": {
           "aux_file": "",
           "base_affine": [
            [
             -2,
             0,
             0,
             74
            ],
            [
             0,
             2,
             0,
             -83
            ],
            [
             0,
             0,
             3,
             -66
            ],
            [
             0,
             0,
             0,
             1
            ]
           ],
           "bitpix": 16,
           "cal_max": 1511.8936767578125,
           "cal_min": -83.18594360351562,
           "data_type": "",
           "datatype": 4,
           "db_name": "",
           "descrip": "xform matrices modified by FixHeaderApplyTransforms (niworkflows v1.3.2).",
           "dim": [
            4,
            75,
            84,
            45,
            260,
            1,
            1,
            1
           ],
           "dim_info": 0,
           "extents": 0,
           "glmax": 0,
           "glmin": 0,
           "intent_code": 0,
           "intent_name": "",
           "intent_p1": 0,
           "intent_p2": 0,
           "intent_p3": 0,
           "magic": "n+1",
           "pixdim": [
            1,
            2,
            2,
            3,
            2.5,
            1,
            1,
            1
           ],
           "qform_code": 2,
           "qoffset_x": -67.990234375,
           "qoffset_y": -14.909623146057129,
           "qoffset_z": -98.80963134765625,
           "quatern_b": 0,
           "quatern_c": 0,
           "quatern_d": 0,
           "regular": "r",
           "scl_inter": null,
           "scl_slope": null,
           "session_error": 0,
           "sform_code": 2,
           "sizeof_hdr": 348,
           "slice_code": 0,
           "slice_duration": 0,
           "slice_end": 0,
           "slice_start": 0,
           "srow_x": [
            2,
            0,
            0,
            -67.990234375
           ],
           "srow_y": [
            0,
            2,
            0,
            -14.909623146057129
           ],
           "srow_z": [
            0,
            0,
            3,
            -98.80963134765625
           ],
           "toffset": 0,
           "vox_offset": 0,
           "xyzt_units": 10
          },
          "space": "T1w",
          "subject": "13",
          "task": "run4"
         },
         "subdir": "output",
         "tags": [
          "12_16_2020"
         ]
        },
        "path": "5fda36b60d4b105d2b9038f0/5fdacda40d4b105d2b9040cc/bold_img",
        "task_id": "5fdacda40d4b105d2b9040cc"
       },
       {
        "app": {},
        "datatype": "neuro/func/task",
        "finish_date": "2020-12-17T06:17:21.320Z",
        "output": {
         "archive": {
          "desc": "",
          "project": "5fda367856422f36d2f97a51"
         },
         "datatype": "59b685a08e5d38b0b331ddc5",
         "datatype_tags": [
          "run4",
          "preprocessed"
         ],
         "id": "bold_img",
         "meta": {
          "EchoTime": 0.03,
          "EffectiveEchoSpacing": 0.000370002,
          "FlipAngle": 90,
          "ImageType": [
           "ORIGINAL",
           "PRIMARY",
           "M",
           "ND",
           "NORM",
           "MOS"
          ],
          "MagneticFieldStrength": 3,
          "Manufacturer": "Siemens",
          "ManufacturersModelName": "TrioTim",
          "PhaseEncodingDirection": "j-",
          "PulseSequenceType": "Gradient Echo EPI",
          "RepetitionTime": 2.5,
          "SliceTiming": [
           0,
           1.2875,
           0.065,
           1.3525,
           0.13,
           1.415,
           0.1925,
           1.48,
           0.2575,
           1.545,
           0.3225,
           1.61,
           0.3875,
           1.6725,
           0.45,
           1.7375,
           0.515,
           1.8025,
           0.58,
           1.8675,
           0.6425,
           1.93,
           0.7075,
           1.995,
           0.7725,
           2.06,
           0.8375,
           2.1225,
           0.9,
           2.1875,
           0.965,
           2.2525,
           1.03,
           2.3175,
           1.095,
           2.38,
           1.1575,
           2.445,
           1.2225
          ],
          "TaskName": "Experimental Run 4",
          "freesurfer_version": "7.1.0",
          "nifti_headers": {
           "aux_file": "",
           "base_affine": [
            [
             -2,
             0,
             0,
             71
            ],
            [
             0,
             2,
             0,
             -85
            ],
            [
             0,
             0,
             3,
             -70.5
            ],
            [
             0,
             0,
             0,
             1
            ]
           ],
           "bitpix": 16,
           "cal_max": 1412.99560546875,
           "cal_min": -89.52996826171875,
           "data_type": "",
           "datatype": 4,
           "db_name": "",
           "descrip": "xform matrices modified by FixHeaderApplyTransforms (niworkflows v1.3.2).",
           "dim": [
            4,
            72,
            86,
            48,
            260,
            1,
            1,
            1
           ],
           "dim_info": 0,
           "extents": 0,
           "glmax": 0,
           "glmin": 0,
           "intent_code": 0,
           "intent_name": "",
           "intent_p1": 0,
           "intent_p2": 0,
           "intent_p3": 0,
           "magic": "n+1",
           "pixdim": [
            1,
            2,
            2,
            3,
            2.5,
            1,
            1,
            1
           ],
           "qform_code": 2,
           "qoffset_x": -73.45471954345703,
           "qoffset_y": -15.803787231445312,
           "qoffset_z": -69.41313171386719,
           "quatern_b": 0,
           "quatern_c": 0,
           "quatern_d": 0,
           "regular": "r",
           "scl_inter": null,
           "scl_slope": null,
           "session_error": 0,
           "sform_code": 2,
           "sizeof_hdr": 348,
           "slice_code": 0,
           "slice_duration": 0,
           "slice_end": 0,
           "slice_start": 0,
           "srow_x": [
            2,
            0,
            0,
            -73.45471954345703
           ],
           "srow_y": [
            0,
            2,
            0,
            -15.803787231445312
           ],
           "srow_z": [
            0,
            0,
            3,
            -69.41313171386719
           ],
           "toffset": 0,
           "vox_offset": 0,
           "xyzt_units": 10
          },
          "space": "T1w",
          "subject": "01",
          "task": "run4"
         },
         "subdir": "output",
         "tags": [
          "12_16_2020"
         ]
        },
        "path": "5fda36b30d4b105d2b9038a8/5fdacda20d4b105d2b90405a/bold_img",
        "task_id": "5fdacda20d4b105d2b90405a"
       },
       {
        "app": {},
        "datatype": "neuro/anat/t1w",
        "finish_date": "2020-12-17T06:17:23.698Z",
        "output": {
         "archive": {
          "desc": "",
          "project": "5fda367856422f36d2f97a51"
         },
         "datatype": "58c33bcee13a50849b25879a",
         "datatype_tags": [],
         "desc": "preprocessed t1 (same alignment as the original t1, but level adjusted - editme)",
         "id": "anat",
         "meta": {
          "EchoTime": 0.03,
          "EffectiveEchoSpacing": 0.000370002,
          "FlipAngle": 90,
          "ImageType": [
           "ORIGINAL",
           "PRIMARY",
           "M",
           "ND",
           "NORM",
           "MOS"
          ],
          "MagneticFieldStrength": 3,
          "Manufacturer": "Siemens",
          "ManufacturersModelName": "TrioTim",
          "PhaseEncodingDirection": "j-",
          "PulseSequenceType": "Gradient Echo EPI",
          "RepetitionTime": 2.5,
          "SkullStripped": false,
          "SliceTiming": [
           0,
           1.2875,
           0.065,
           1.3525,
           0.13,
           1.415,
           0.1925,
           1.48,
           0.2575,
           1.545,
           0.3225,
           1.61,
           0.3875,
           1.6725,
           0.45,
           1.7375,
           0.515,
           1.8025,
           0.58,
           1.8675,
           0.6425,
           1.93,
           0.7075,
           1.995,
           0.7725,
           2.06,
           0.8375,
           2.1225,
           0.9,
           2.1875,
           0.965,
           2.2525,
           1.03,
           2.3175,
           1.095,
           2.38,
           1.1575,
           2.445,
           1.2225
          ],
          "TaskName": "Experimental Run 4",
          "freesurfer_version": "7.1.0",
          "nifti_headers": {
           "aux_file": "",
           "base_affine": [
            [
             -0.9999998211860657,
             0,
             0,
             95.49998292326927
            ],
            [
             0,
             0.9375,
             0,
             -119.53125
            ],
            [
             0,
             0,
             0.9375,
             -119.53125
            ],
            [
             0,
             0,
             0,
             1
            ]
           ],
           "bitpix": 32,
           "cal_max": 0,
           "cal_min": 0,
           "data_type": "",
           "datatype": 16,
           "db_name": "",
           "descrip": "xform matrices modified by CopyXForm (niworkflows v1.3.2).",
           "dim": [
            3,
            192,
            256,
            256,
            1,
            1,
            1,
            1
           ],
           "dim_info": 0,
           "extents": 0,
           "glmax": 0,
           "glmin": 0,
           "intent_code": 0,
           "intent_name": "",
           "intent_p1": 0,
           "intent_p2": 0,
           "intent_p3": 0,
           "magic": "n+1",
           "pixdim": [
            1,
            0.9999998211860657,
            0.9375,
            0.9375,
            1.899999976158142,
            1,
            1,
            1
           ],
           "qform_code": 1,
           "qoffset_x": -96.31549835205078,
           "qoffset_y": -79.80378723144531,
           "qoffset_z": -78.58184814453125,
           "quatern_b": -0.18476609885692596,
           "quatern_c": -0.00782835390418768,
           "quatern_d": 0.003855943214148283,
           "regular": "",
           "scl_inter": null,
           "scl_slope": null,
           "session_error": 0,
           "sform_code": 1,
           "sizeof_hdr": 348,
           "slice_code": 0,
           "slice_duration": 0,
           "slice_end": 0,
           "slice_start": 0,
           "srow_x": [
            0.9998475313186646,
            -0.004393105395138264,
            -0.015760714188218117,
            -96.31549835205078
           ],
           "srow_y": [
            0.010471636429429054,
            0.873462438583374,
            0.34040164947509766,
            -79.80378723144531
           ],
           "srow_z": [
            0.01396163459867239,
            -0.3405148386955261,
            0.8733753561973572,
            -78.58184814453125
           ],
           "toffset": 0,
           "vox_offset": 0,
           "xyzt_units": 2
          },
          "subject": "01",
          "task": "run4"
         },
         "subdir": "output",
         "tags": [
          "12_16_2020"
         ]
        },
        "path": "5fda36b30d4b105d2b9038a8/5fdacda20d4b105d2b90405a/anat",
        "task_id": "5fdacda20d4b105d2b90405a"
       },
       {
        "app": {},
        "datatype": "neuro/anat/t1w",
        "finish_date": "2020-12-17T06:27:46.629Z",
        "output": {
         "archive": {
          "desc": "",
          "project": "5fda367856422f36d2f97a51"
         },
         "datatype": "58c33bcee13a50849b25879a",
         "datatype_tags": [],
         "desc": "preprocessed t1 (same alignment as the original t1, but level adjusted - editme)",
         "id": "anat",
         "meta": {
          "EchoTime": 0.03,
          "EffectiveEchoSpacing": 0.000370002,
          "FlipAngle": 90,
          "ImageType": [
           "ORIGINAL",
           "PRIMARY",
           "M",
           "ND",
           "NORM",
           "MOS"
          ],
          "MagneticFieldStrength": 3,
          "Manufacturer": "Siemens",
          "ManufacturersModelName": "TrioTim",
          "PhaseEncodingDirection": "j-",
          "PulseSequenceType": "Gradient Echo EPI",
          "RepetitionTime": 2.5,
          "SkullStripped": false,
          "SliceTiming": [
           0,
           1.2875,
           0.065,
           1.3525,
           0.13,
           1.415,
           0.1925,
           1.48,
           0.2575,
           1.545,
           0.3225,
           1.61,
           0.3875,
           1.6725,
           0.45,
           1.7375,
           0.515,
           1.8025,
           0.58,
           1.8675,
           0.645,
           1.93,
           0.7075,
           1.995,
           0.7725,
           2.06,
           0.8375,
           2.125,
           0.9025,
           2.1875,
           0.965,
           2.2525,
           1.03,
           2.3175,
           1.095,
           2.3825,
           1.16,
           2.445,
           1.2225
          ],
          "TaskName": "Experimental Run 4",
          "freesurfer_version": "7.1.0",
          "nifti_headers": {
           "aux_file": "",
           "base_affine": [
            [
             -0.9999984502792358,
             0,
             0,
             95.49985200166702
            ],
            [
             0,
             0.9375,
             0,
             -119.53125
            ],
            [
             0,
             0,
             0.9375,
             -119.53125
            ],
            [
             0,
             0,
             0,
             1
            ]
           ],
           "bitpix": 32,
           "cal_max": 0,
           "cal_min": 0,
           "data_type": "",
           "datatype": 16,
           "db_name": "",
           "descrip": "xform matrices modified by CopyXForm (niworkflows v1.3.2).",
           "dim": [
            3,
            192,
            256,
            256,
            1,
            1,
            1,
            1
           ],
           "dim_info": 0,
           "extents": 0,
           "glmax": 0,
           "glmin": 0,
           "intent_code": 0,
           "intent_name": "",
           "intent_p1": 0,
           "intent_p2": 0,
           "intent_p3": 0,
           "magic": "n+1",
           "pixdim": [
            1,
            0.9999984502792358,
            0.9375,
            0.9375,
            1.899999976158142,
            1,
            1,
            1
           ],
           "qform_code": 1,
           "qoffset_x": -135.05624389648438,
           "qoffset_y": -24.4517822265625,
           "qoffset_z": -60.50559997558594,
           "quatern_b": -0.2349705845117569,
           "quatern_c": 0.02968369424343109,
           "quatern_d": -0.12176739424467087,
           "regular": "",
           "scl_inter": null,
           "scl_slope": null,
           "session_error": 0,
           "sform_code": 1,
           "sizeof_hdr": 348,
           "slice_code": 0,
           "slice_duration": 0,
           "slice_end": 0,
           "slice_start": 0,
           "srow_x": [
            0.9685816764831543,
            0.2069912999868393,
            0.10729409754276276,
            -135.05624389648438
           ],
           "srow_y": [
            -0.24868950247764587,
            0.8061778545379639,
            0.41788288950920105,
            -24.4517822265625
           ],
           "srow_z": [
            -1.4901138101208744e-08,
            -0.43143725395202637,
            0.8323269486427307,
            -60.50559997558594
           ],
           "toffset": 0,
           "vox_offset": 0,
           "xyzt_units": 2
          },
          "subject": "14",
          "task": "run4"
         },
         "subdir": "output",
         "tags": [
          "12_16_2020"
         ]
        },
        "path": "5fda36b70d4b105d2b9038f6/5fdacda40d4b105d2b9040d1/anat",
        "task_id": "5fdacda40d4b105d2b9040d1"
       },
       {
        "app": {},
        "datatype": "neuro/func/task",
        "finish_date": "2020-12-17T06:27:47.494Z",
        "output": {
         "archive": {
          "desc": "",
          "project": "5fda367856422f36d2f97a51"
         },
         "datatype": "59b685a08e5d38b0b331ddc5",
         "datatype_tags": [
          "run4",
          "preprocessed"
         ],
         "id": "bold_img",
         "meta": {
          "EchoTime": 0.03,
          "EffectiveEchoSpacing": 0.000370002,
          "FlipAngle": 90,
          "ImageType": [
           "ORIGINAL",
           "PRIMARY",
           "M",
           "ND",
           "NORM",
           "MOS"
          ],
          "MagneticFieldStrength": 3,
          "Manufacturer": "Siemens",
          "ManufacturersModelName": "TrioTim",
          "PhaseEncodingDirection": "j-",
          "PulseSequenceType": "Gradient Echo EPI",
          "RepetitionTime": 2.5,
          "SliceTiming": [
           0,
           1.2875,
           0.065,
           1.3525,
           0.13,
           1.415,
           0.1925,
           1.48,
           0.2575,
           1.545,
           0.3225,
           1.61,
           0.3875,
           1.6725,
           0.45,
           1.7375,
           0.515,
           1.8025,
           0.58,
           1.8675,
           0.645,
           1.93,
           0.7075,
           1.995,
           0.7725,
           2.06,
           0.8375,
           2.125,
           0.9025,
           2.1875,
           0.965,
           2.2525,
           1.03,
           2.3175,
           1.095,
           2.3825,
           1.16,
           2.445,
           1.2225
          ],
          "TaskName": "Experimental Run 4",
          "freesurfer_version": "7.1.0",
          "nifti_headers": {
           "aux_file": "",
           "base_affine": [
            [
             -2,
             0,
             0,
             70
            ],
            [
             0,
             2,
             0,
             -82
            ],
            [
             0,
             0,
             3,
             -69
            ],
            [
             0,
             0,
             0,
             1
            ]
           ],
           "bitpix": 16,
           "cal_max": 1097.3876953125,
           "cal_min": -59.3312873840332,
           "data_type": "",
           "datatype": 4,
           "db_name": "",
           "descrip": "xform matrices modified by FixHeaderApplyTransforms (niworkflows v1.3.2).",
           "dim": [
            4,
            71,
            83,
            47,
            260,
            1,
            1,
            1
           ],
           "dim_info": 0,
           "extents": 0,
           "glmax": 0,
           "glmin": 0,
           "intent_code": 0,
           "intent_name": "",
           "intent_p1": 0,
           "intent_p2": 0,
           "intent_p3": 0,
           "magic": "n+1",
           "pixdim": [
            1,
            2,
            2,
            3,
            2.5,
            1,
            1,
            1
           ],
           "qform_code": 2,
           "qoffset_x": -73.05624389648438,
           "qoffset_y": 30.04852294921875,
           "qoffset_z": -80.52210235595703,
           "quatern_b": 0,
           "quatern_c": 0,
           "quatern_d": 0,
           "regular": "r",
           "scl_inter": null,
           "scl_slope": null,
           "session_error": 0,
           "sform_code": 2,
           "sizeof_hdr": 348,
           "slice_code": 0,
           "slice_duration": 0,
           "slice_end": 0,
           "slice_start": 0,
           "srow_x": [
            2,
            0,
            0,
            -73.05624389648438
           ],
           "srow_y": [
            0,
            2,
            0,
            30.04852294921875
           ],
           "srow_z": [
            0,
            0,
            3,
            -80.52210235595703
           ],
           "toffset": 0,
           "vox_offset": 0,
           "xyzt_units": 10
          },
          "space": "T1w",
          "subject": "14",
          "task": "run4"
         },
         "subdir": "output",
         "tags": [
          "12_16_2020"
         ]
        },
        "path": "5fda36b70d4b105d2b9038f6/5fdacda40d4b105d2b9040d1/bold_img",
        "task_id": "5fdacda40d4b105d2b9040d1"
       },
       {
        "app": {},
        "datatype": "neuro/anat/t1w",
        "finish_date": "2020-12-17T06:38:14.933Z",
        "output": {
         "archive": {
          "desc": "",
          "project": "5fda367856422f36d2f97a51"
         },
         "datatype": "58c33bcee13a50849b25879a",
         "datatype_tags": [],
         "desc": "preprocessed t1 (same alignment as the original t1, but level adjusted - editme)",
         "id": "anat",
         "meta": {
          "EchoTime": 0.03,
          "EffectiveEchoSpacing": 0.000390006,
          "FlipAngle": 90,
          "ImageType": [
           "ORIGINAL",
           "PRIMARY",
           "M",
           "ND",
           "NORM",
           "MOS"
          ],
          "MagneticFieldStrength": 3,
          "Manufacturer": "Siemens",
          "ManufacturersModelName": "TrioTim",
          "PhaseEncodingDirection": "j-",
          "PulseSequenceType": "Gradient Echo EPI",
          "RepetitionTime": 2.5,
          "SkullStripped": false,
          "SliceTiming": [
           0,
           1.2875,
           0.065,
           1.35,
           0.1275,
           1.415,
           0.1925,
           1.48,
           0.2575,
           1.545,
           0.32,
           1.6075,
           0.385,
           1.6725,
           0.45,
           1.7375,
           0.515,
           1.8,
           0.5775,
           1.865,
           0.6425,
           1.93,
           0.7075,
           1.995,
           0.7725,
           2.0575,
           0.835,
           2.1225,
           0.9,
           2.1875,
           0.965,
           2.2525,
           1.03,
           2.315,
           1.0925,
           2.38,
           1.1575,
           2.445,
           1.2225
          ],
          "TaskName": "Experimental Run 4",
          "freesurfer_version": "7.1.0",
          "nifti_headers": {
           "aux_file": "",
           "base_affine": [
            [
             -0.9999984502792358,
             0,
             0,
             95.49985200166702
            ],
            [
             0,
             0.9375,
             0,
             -119.53125
            ],
            [
             0,
             0,
             0.9375000596046448,
             -119.53125759959221
            ],
            [
             0,
             0,
             0,
             1
            ]
           ],
           "bitpix": 32,
           "cal_max": 0,
           "cal_min": 0,
           "data_type": "",
           "datatype": 16,
           "db_name": "",
           "descrip": "xform matrices modified by CopyXForm (niworkflows v1.3.2).",
           "dim": [
            3,
            192,
            256,
            256,
            1,
            1,
            1,
            1
           ],
           "dim_info": 0,
           "extents": 0,
           "glmax": 0,
           "glmin": 0,
           "intent_code": 0,
           "intent_name": "",
           "intent_p1": 0,
           "intent_p2": 0,
           "intent_p3": 0,
           "magic": "n+1",
           "pixdim": [
            1,
            0.9999984502792358,
            0.9375,
            0.9375000596046448,
            1.899999976158142,
            1,
            1,
            1
           ],
           "qform_code": 1,
           "qoffset_x": -99.90779876708984,
           "qoffset_y": -89.81268310546875,
           "qoffset_z": -64.77822875976562,
           "quatern_b": -0.18823817372322083,
           "quatern_c": -0.00032851099967956543,
           "quatern_d": 0.0017141401767730713,
           "regular": "",
           "scl_inter": null,
           "scl_slope": null,
           "session_error": 0,
           "sform_code": 1,
           "sizeof_hdr": 348,
           "slice_code": 0,
           "slice_duration": 0,
           "slice_end": 0,
           "slice_start": 0,
           "srow_x": [
            0.9999923706054688,
            -0.0030406054574996233,
            -0.001209945883601904,
            -99.90779876708984
           ],
           "srow_y": [
            0.0034906603395938873,
            0.8710564970970154,
            0.34663552045822144,
            -89.81268310546875
           ],
           "srow_z": [
            -5.750908016466383e-08,
            -0.3466376066207886,
            0.8710618019104004,
            -64.77822875976562
           ],
           "toffset": 0,
           "vox_offset": 0,
           "xyzt_units": 2
          },
          "subject": "18",
          "task": "run4"
         },
         "subdir": "output",
         "tags": [
          "12_16_2020"
         ]
        },
        "path": "5fda36b80d4b105d2b90390e/5fdacda50d4b105d2b9040f7/anat",
        "task_id": "5fdacda50d4b105d2b9040f7"
       },
       {
        "app": {},
        "datatype": "neuro/func/task",
        "finish_date": "2020-12-17T06:38:15.754Z",
        "output": {
         "archive": {
          "desc": "",
          "project": "5fda367856422f36d2f97a51"
         },
         "datatype": "59b685a08e5d38b0b331ddc5",
         "datatype_tags": [
          "run4",
          "preprocessed"
         ],
         "id": "bold_img",
         "meta": {
          "EchoTime": 0.03,
          "EffectiveEchoSpacing": 0.000390006,
          "FlipAngle": 90,
          "ImageType": [
           "ORIGINAL",
           "PRIMARY",
           "M",
           "ND",
           "NORM",
           "MOS"
          ],
          "MagneticFieldStrength": 3,
          "Manufacturer": "Siemens",
          "ManufacturersModelName": "TrioTim",
          "PhaseEncodingDirection": "j-",
          "PulseSequenceType": "Gradient Echo EPI",
          "RepetitionTime": 2.5,
          "SliceTiming": [
           0,
           1.2875,
           0.065,
           1.35,
           0.1275,
           1.415,
           0.1925,
           1.48,
           0.2575,
           1.545,
           0.32,
           1.6075,
           0.385,
           1.6725,
           0.45,
           1.7375,
           0.515,
           1.8,
           0.5775,
           1.865,
           0.6425,
           1.93,
           0.7075,
           1.995,
           0.7725,
           2.0575,
           0.835,
           2.1225,
           0.9,
           2.1875,
           0.965,
           2.2525,
           1.03,
           2.315,
           1.0925,
           2.38,
           1.1575,
           2.445,
           1.2225
          ],
          "TaskName": "Experimental Run 4",
          "freesurfer_version": "7.1.0",
          "nifti_headers": {
           "aux_file": "",
           "base_affine": [
            [
             -2,
             0,
             0,
             63
            ],
            [
             0,
             2,
             0,
             -80
            ],
            [
             0,
             0,
             3,
             -67.5
            ],
            [
             0,
             0,
             0,
             1
            ]
           ],
           "bitpix": 16,
           "cal_max": 1890.3895263671875,
           "cal_min": -94.33429718017578,
           "data_type": "",
           "datatype": 4,
           "db_name": "",
           "descrip": "xform matrices modified by FixHeaderApplyTransforms (niworkflows v1.3.2).",
           "dim": [
            4,
            64,
            81,
            46,
            260,
            1,
            1,
            1
           ],
           "dim_info": 0,
           "extents": 0,
           "glmax": 0,
           "glmin": 0,
           "intent_code": 0,
           "intent_name": "",
           "intent_p1": 0,
           "intent_p2": 0,
           "intent_p3": 0,
           "magic": "n+1",
           "pixdim": [
            1,
            2,
            2,
            3,
            2.5,
            1,
            1,
            1
           ],
           "qform_code": 2,
           "qoffset_x": -66.99169158935547,
           "qoffset_y": -13.81268310546875,
           "qoffset_z": -60.17082977294922,
           "quatern_b": 0,
           "quatern_c": 0,
           "quatern_d": 0,
           "regular": "r",
           "scl_inter": null,
           "scl_slope": null,
           "session_error": 0,
           "sform_code": 2,
           "sizeof_hdr": 348,
           "slice_code": 0,
           "slice_duration": 0,
           "slice_end": 0,
           "slice_start": 0,
           "srow_x": [
            2,
            0,
            0,
            -66.99169158935547
           ],
           "srow_y": [
            0,
            2,
            0,
            -13.81268310546875
           ],
           "srow_z": [
            0,
            0,
            3,
            -60.17082977294922
           ],
           "toffset": 0,
           "vox_offset": 0,
           "xyzt_units": 10
          },
          "space": "T1w",
          "subject": "18",
          "task": "run4"
         },
         "subdir": "output",
         "tags": [
          "12_16_2020"
         ]
        },
        "path": "5fda36b80d4b105d2b90390e/5fdacda50d4b105d2b9040f7/bold_img",
        "task_id": "5fdacda50d4b105d2b9040f7"
       },
       {
        "app": {},
        "datatype": "neuro/func/task",
        "finish_date": "2020-12-17T08:21:09.253Z",
        "output": {
         "archive": {
          "desc": "",
          "project": "5fda367856422f36d2f97a51"
         },
         "datatype": "59b685a08e5d38b0b331ddc5",
         "datatype_tags": [
          "run4",
          "preprocessed"
         ],
         "id": "bold_img",
         "meta": {
          "EchoTime": 0.03,
          "EffectiveEchoSpacing": 0.000370002,
          "FlipAngle": 90,
          "ImageType": [
           "ORIGINAL",
           "PRIMARY",
           "M",
           "ND",
           "NORM",
           "MOS"
          ],
          "MagneticFieldStrength": 3,
          "Manufacturer": "Siemens",
          "ManufacturersModelName": "TrioTim",
          "PhaseEncodingDirection": "j-",
          "PulseSequenceType": "Gradient Echo EPI",
          "RepetitionTime": 2.5,
          "SliceTiming": [
           0,
           1.2875,
           0.065,
           1.3525,
           0.13,
           1.4175,
           0.195,
           1.48,
           0.2575,
           1.545,
           0.3225,
           1.61,
           0.3875,
           1.675,
           0.4525,
           1.7375,
           0.515,
           1.8025,
           0.58,
           1.8675,
           0.645,
           1.9325,
           0.7075,
           1.995,
           0.7725,
           2.06,
           0.8375,
           2.125,
           0.9025,
           2.1875,
           0.965,
           2.2525,
           1.03,
           2.3175,
           1.095,
           2.3825,
           1.16,
           2.445,
           1.2225
          ],
          "TaskName": "Localizer",
          "freesurfer_version": "7.1.0",
          "nifti_headers": {
           "aux_file": "",
           "base_affine": [
            [
             -2,
             0,
             0,
             69
            ],
            [
             0,
             2,
             0,
             -81
            ],
            [
             0,
             0,
             3,
             -70.5
            ],
            [
             0,
             0,
             0,
             1
            ]
           ],
           "bitpix": 16,
           "cal_max": 1293.283447265625,
           "cal_min": -70.84413146972656,
           "data_type": "",
           "datatype": 4,
           "db_name": "",
           "descrip": "xform matrices modified by FixHeaderApplyTransforms (niworkflows v1.3.2).",
           "dim": [
            4,
            70,
            82,
            48,
            260,
            1,
            1,
            1
           ],
           "dim_info": 0,
           "extents": 0,
           "glmax": 0,
           "glmin": 0,
           "intent_code": 0,
           "intent_name": "",
           "intent_p1": 0,
           "intent_p2": 0,
           "intent_p3": 0,
           "magic": "n+1",
           "pixdim": [
            1,
            2,
            2,
            3,
            2.5,
            1,
            1,
            1
           ],
           "qform_code": 2,
           "qoffset_x": -75.18374633789062,
           "qoffset_y": -2.4254555702209473,
           "qoffset_z": -68.60855865478516,
           "quatern_b": 0,
           "quatern_c": 0,
           "quatern_d": 0,
           "regular": "r",
           "scl_inter": null,
           "scl_slope": null,
           "session_error": 0,
           "sform_code": 2,
           "sizeof_hdr": 348,
           "slice_code": 0,
           "slice_duration": 0,
           "slice_end": 0,
           "slice_start": 0,
           "srow_x": [
            2,
            0,
            0,
            -75.18374633789062
           ],
           "srow_y": [
            0,
            2,
            0,
            -2.4254555702209473
           ],
           "srow_z": [
            0,
            0,
            3,
            -68.60855865478516
           ],
           "toffset": 0,
           "vox_offset": 0,
           "xyzt_units": 10
          },
          "space": "T1w",
          "subject": "02",
          "task": "run4"
         },
         "subdir": "output",
         "tags": [
          "12_16_2020"
         ]
        },
        "path": "5fda36b30d4b105d2b9038ae/5fdacda20d4b105d2b904065/bold_img",
        "task_id": "5fdacda20d4b105d2b904065"
       },
       {
        "app": {},
        "datatype": "neuro/anat/t1w",
        "finish_date": "2020-12-17T08:21:15.535Z",
        "output": {
         "archive": {
          "desc": "",
          "project": "5fda367856422f36d2f97a51"
         },
         "datatype": "58c33bcee13a50849b25879a",
         "datatype_tags": [],
         "desc": "preprocessed t1 (same alignment as the original t1, but level adjusted - editme)",
         "id": "anat",
         "meta": {
          "EchoTime": 0.03,
          "EffectiveEchoSpacing": 0.000370002,
          "FlipAngle": 90,
          "ImageType": [
           "ORIGINAL",
           "PRIMARY",
           "M",
           "ND",
           "NORM",
           "MOS"
          ],
          "MagneticFieldStrength": 3,
          "Manufacturer": "Siemens",
          "ManufacturersModelName": "TrioTim",
          "PhaseEncodingDirection": "j-",
          "PulseSequenceType": "Gradient Echo EPI",
          "RepetitionTime": 2.5,
          "SkullStripped": false,
          "SliceTiming": [
           0,
           1.2875,
           0.065,
           1.3525,
           0.13,
           1.4175,
           0.195,
           1.48,
           0.2575,
           1.545,
           0.3225,
           1.61,
           0.3875,
           1.675,
           0.4525,
           1.7375,
           0.515,
           1.8025,
           0.58,
           1.8675,
           0.645,
           1.9325,
           0.7075,
           1.995,
           0.7725,
           2.06,
           0.8375,
           2.125,
           0.9025,
           2.1875,
           0.965,
           2.2525,
           1.03,
           2.3175,
           1.095,
           2.3825,
           1.16,
           2.445,
           1.2225
          ],
          "TaskName": "Localizer",
          "freesurfer_version": "7.1.0",
          "nifti_headers": {
           "aux_file": "",
           "base_affine": [
            [
             -1.0000004768371582,
             0,
             0,
             95.50004553794861
            ],
            [
             0,
             0.9375,
             0,
             -119.53125
            ],
            [
             0,
             0,
             0.9375,
             -119.53125
            ],
            [
             0,
             0,
             0,
             1
            ]
           ],
           "bitpix": 32,
           "cal_max": 0,
           "cal_min": 0,
           "data_type": "",
           "datatype": 16,
           "db_name": "",
           "descrip": "xform matrices modified by CopyXForm (niworkflows v1.3.2).",
           "dim": [
            3,
            192,
            256,
            256,
            1,
            1,
            1,
            1
           ],
           "dim_info": 0,
           "extents": 0,
           "glmax": 0,
           "glmin": 0,
           "intent_code": 0,
           "intent_name": "",
           "intent_p1": 0,
           "intent_p2": 0,
           "intent_p3": 0,
           "magic": "n+1",
           "pixdim": [
            1,
            1.0000004768371582,
            0.9375,
            0.9375,
            1.899999976158142,
            1,
            1,
            1
           ],
           "qform_code": 1,
           "qoffset_x": -119.18374633789062,
           "qoffset_y": -63.835418701171875,
           "qoffset_z": -61.3758659362793,
           "quatern_b": -0.22215034067630768,
           "quatern_c": -0.002669244073331356,
           "quatern_d": -0.06678680330514908,
           "regular": "",
           "scl_inter": null,
           "scl_slope": null,
           "session_error": 0,
           "sform_code": 1,
           "sizeof_hdr": 348,
           "slice_code": 0,
           "slice_duration": 0,
           "slice_end": 0,
           "slice_start": 0,
           "srow_x": [
            0.991065263748169,
            0.12292076647281647,
            0.022950533777475357,
            -119.18374633789062
           ],
           "srow_y": [
            -0.12874364852905273,
            0.8366038799285889,
            0.405502587556839,
            -63.835418701171875
           ],
           "srow_z": [
            0.03486628085374832,
            -0.4048340916633606,
            0.8449539542198181,
            -61.3758659362793
           ],
           "toffset": 0,
           "vox_offset": 0,
           "xyzt_units": 2
          },
          "subject": "02",
          "task": "run4"
         },
         "subdir": "output",
         "tags": [
          "12_16_2020"
         ]
        },
        "path": "5fda36b30d4b105d2b9038ae/5fdacda20d4b105d2b904065/anat",
        "task_id": "5fdacda20d4b105d2b904065"
       },
       {
        "app": {},
        "datatype": "neuro/func/task",
        "finish_date": "2020-12-17T08:22:05.774Z",
        "output": {
         "archive": {
          "desc": "",
          "project": "5fda367856422f36d2f97a51"
         },
         "datatype": "59b685a08e5d38b0b331ddc5",
         "datatype_tags": [
          "run4",
          "preprocessed"
         ],
         "id": "bold_img",
         "meta": {
          "EchoTime": 0.03,
          "EffectiveEchoSpacing": 0.000370002,
          "FlipAngle": 90,
          "ImageType": [
           "ORIGINAL",
           "PRIMARY",
           "M",
           "ND",
           "NORM",
           "MOS"
          ],
          "MagneticFieldStrength": 3,
          "Manufacturer": "Siemens",
          "ManufacturersModelName": "TrioTim",
          "PhaseEncodingDirection": "j-",
          "PulseSequenceType": "Gradient Echo EPI",
          "RepetitionTime": 2.5,
          "SliceTiming": [
           0,
           1.2875,
           0.065,
           1.3525,
           0.13,
           1.4175,
           0.1925,
           1.48,
           0.2575,
           1.545,
           0.3225,
           1.61,
           0.3875,
           1.6725,
           0.45,
           1.7375,
           0.515,
           1.8025,
           0.58,
           1.8675,
           0.645,
           1.93,
           0.7075,
           1.995,
           0.7725,
           2.06,
           0.8375,
           2.125,
           0.9025,
           2.1875,
           0.965,
           2.2525,
           1.03,
           2.3175,
           1.095,
           2.3825,
           1.16,
           2.445,
           1.2225
          ],
          "TaskName": "Experimental Run 4",
          "freesurfer_version": "7.1.0",
          "nifti_headers": {
           "aux_file": "",
           "base_affine": [
            [
             -2,
             0,
             0,
             72
            ],
            [
             0,
             2,
             0,
             -82
            ],
            [
             0,
             0,
             3,
             -69
            ],
            [
             0,
             0,
             0,
             1
            ]
           ],
           "bitpix": 16,
           "cal_max": 1741.568115234375,
           "cal_min": -89.73536682128906,
           "data_type": "",
           "datatype": 4,
           "db_name": "",
           "descrip": "xform matrices modified by FixHeaderApplyTransforms (niworkflows v1.3.2).",
           "dim": [
            4,
            73,
            83,
            47,
            260,
            1,
            1,
            1
           ],
           "dim_info": 0,
           "extents": 0,
           "glmax": 0,
           "glmin": 0,
           "intent_code": 0,
           "intent_name": "",
           "intent_p1": 0,
           "intent_p2": 0,
           "intent_p3": 0,
           "magic": "n+1",
           "pixdim": [
            1,
            2,
            2,
            3,
            2.5,
            1,
            1,
            1
           ],
           "qform_code": 2,
           "qoffset_x": -81.7459487915039,
           "qoffset_y": -4.52402400970459,
           "qoffset_z": -85.02325439453125,
           "quatern_b": 0,
           "quatern_c": 0,
           "quatern_d": 0,
           "regular": "r",
           "scl_inter": null,
           "scl_slope": null,
           "session_error": 0,
           "sform_code": 2,
           "sizeof_hdr": 348,
           "slice_code": 0,
           "slice_duration": 0,
           "slice_end": 0,
           "slice_start": 0,
           "srow_x": [
            2,
            0,
            0,
            -81.7459487915039
           ],
           "srow_y": [
            0,
            2,
            0,
            -4.52402400970459
           ],
           "srow_z": [
            0,
            0,
            3,
            -85.02325439453125
           ],
           "toffset": 0,
           "vox_offset": 0,
           "xyzt_units": 10
          },
          "space": "T1w",
          "subject": "04",
          "task": "run4"
         },
         "subdir": "output",
         "tags": [
          "12_16_2020"
         ]
        },
        "path": "5fda36b40d4b105d2b9038ba/5fdacda30d4b105d2b90407b/bold_img",
        "task_id": "5fdacda30d4b105d2b90407b"
       },
       {
        "app": {},
        "datatype": "neuro/anat/t1w",
        "finish_date": "2020-12-17T08:22:07.923Z",
        "output": {
         "archive": {
          "desc": "",
          "project": "5fda367856422f36d2f97a51"
         },
         "datatype": "58c33bcee13a50849b25879a",
         "datatype_tags": [],
         "desc": "preprocessed t1 (same alignment as the original t1, but level adjusted - editme)",
         "id": "anat",
         "meta": {
          "EchoTime": 0.03,
          "EffectiveEchoSpacing": 0.000370002,
          "FlipAngle": 90,
          "ImageType": [
           "ORIGINAL",
           "PRIMARY",
           "M",
           "ND",
           "NORM",
           "MOS"
          ],
          "MagneticFieldStrength": 3,
          "Manufacturer": "Siemens",
          "ManufacturersModelName": "TrioTim",
          "PhaseEncodingDirection": "j-",
          "PulseSequenceType": "Gradient Echo EPI",
          "RepetitionTime": 2.5,
          "SkullStripped": false,
          "SliceTiming": [
           0,
           1.2875,
           0.065,
           1.3525,
           0.13,
           1.4175,
           0.1925,
           1.48,
           0.2575,
           1.545,
           0.3225,
           1.61,
           0.3875,
           1.6725,
           0.45,
           1.7375,
           0.515,
           1.8025,
           0.58,
           1.8675,
           0.645,
           1.93,
           0.7075,
           1.995,
           0.7725,
           2.06,
           0.8375,
           2.125,
           0.9025,
           2.1875,
           0.965,
           2.2525,
           1.03,
           2.3175,
           1.095,
           2.3825,
           1.16,
           2.445,
           1.2225
          ],
          "TaskName": "Experimental Run 4",
          "freesurfer_version": "7.1.0",
          "nifti_headers": {
           "aux_file": "",
           "base_affine": [
            [
             -0.9999984502792358,
             0,
             0,
             95.49985200166702
            ],
            [
             0,
             0.9375,
             0,
             -119.53125
            ],
            [
             0,
             0,
             0.9375,
             -119.53125
            ],
            [
             0,
             0,
             0,
             1
            ]
           ],
           "bitpix": 32,
           "cal_max": 0,
           "cal_min": 0,
           "data_type": "",
           "datatype": 16,
           "db_name": "",
           "descrip": "xform matrices modified by CopyXForm (niworkflows v1.3.2).",
           "dim": [
            3,
            192,
            256,
            256,
            1,
            1,
            1,
            1
           ],
           "dim_info": 0,
           "extents": 0,
           "glmax": 0,
           "glmin": 0,
           "intent_code": 0,
           "intent_name": "",
           "intent_p1": 0,
           "intent_p2": 0,
           "intent_p3": 0,
           "magic": "n+1",
           "pixdim": [
            1,
            0.9999984502792358,
            0.9375,
            0.9375,
            1.899999976158142,
            1,
            1,
            1
           ],
           "qform_code": 1,
           "qoffset_x": -111.36163330078125,
           "qoffset_y": -63.5657958984375,
           "qoffset_z": -104.8027114868164,
           "quatern_b": -0.1571236252784729,
           "quatern_c": -0.034329477697610855,
           "quatern_d": -0.05051016807556152,
           "regular": "",
           "scl_inter": null,
           "scl_slope": null,
           "session_error": 0,
           "sform_code": 1,
           "sizeof_hdr": 348,
           "slice_code": 0,
           "slice_duration": 0,
           "slice_end": 0,
           "slice_start": 0,
           "srow_x": [
            0.9925388693809509,
            0.10346489399671555,
            -0.04856594651937485,
            -111.36163330078125
           ],
           "srow_y": [
            -0.0887865349650383,
            0.8864266872406006,
            0.2936418354511261,
            -63.5657958984375
           ],
           "srow_z": [
            0.08354891836643219,
            -0.2871393859386444,
            0.8890005946159363,
            -104.8027114868164
           ],
           "toffset": 0,
           "vox_offset": 0,
           "xyzt_units": 2
          },
          "subject": "04",
          "task": "run4"
         },
         "subdir": "output",
         "tags": [
          "12_16_2020"
         ]
        },
        "path": "5fda36b40d4b105d2b9038ba/5fdacda30d4b105d2b90407b/anat",
        "task_id": "5fdacda30d4b105d2b90407b"
       },
       {
        "app": {},
        "datatype": "neuro/func/task",
        "finish_date": "2020-12-17T08:23:09.289Z",
        "output": {
         "archive": {
          "desc": "",
          "project": "5fda367856422f36d2f97a51"
         },
         "datatype": "59b685a08e5d38b0b331ddc5",
         "datatype_tags": [
          "run4",
          "preprocessed"
         ],
         "id": "bold_img",
         "meta": {
          "EchoTime": 0.03,
          "EffectiveEchoSpacing": 0.000370002,
          "FlipAngle": 90,
          "ImageType": [
           "ORIGINAL",
           "PRIMARY",
           "M",
           "ND",
           "NORM",
           "MOS"
          ],
          "MagneticFieldStrength": 3,
          "Manufacturer": "Siemens",
          "ManufacturersModelName": "TrioTim",
          "PhaseEncodingDirection": "j-",
          "PulseSequenceType": "Gradient Echo EPI",
          "RepetitionTime": 2.5,
          "SliceTiming": [
           0,
           1.285,
           0.0625,
           1.35,
           0.1275,
           1.415,
           0.1925,
           1.48,
           0.2575,
           1.5425,
           0.32,
           1.6075,
           0.385,
           1.6725,
           0.45,
           1.7375,
           0.515,
           1.8,
           0.5775,
           1.865,
           0.6425,
           1.93,
           0.7075,
           1.995,
           0.7725,
           2.0575,
           0.835,
           2.1225,
           0.9,
           2.1875,
           0.965,
           2.2525,
           1.0275,
           2.315,
           1.0925,
           2.38,
           1.1575,
           2.445,
           1.2225
          ],
          "TaskName": "Experimental Run 4",
          "freesurfer_version": "7.1.0",
          "nifti_headers": {
           "aux_file": "",
           "base_affine": [
            [
             -2,
             0,
             0,
             71
            ],
            [
             0,
             2,
             0,
             -80
            ],
            [
             0,
             0,
             3,
             -70.5
            ],
            [
             0,
             0,
             0,
             1
            ]
           ],
           "bitpix": 16,
           "cal_max": 1744.45947265625,
           "cal_min": -126.9283676147461,
           "data_type": "",
           "datatype": 4,
           "db_name": "",
           "descrip": "xform matrices modified by FixHeaderApplyTransforms (niworkflows v1.3.2).",
           "dim": [
            4,
            72,
            81,
            48,
            260,
            1,
            1,
            1
           ],
           "dim_info": 0,
           "extents": 0,
           "glmax": 0,
           "glmin": 0,
           "intent_code": 0,
           "intent_name": "",
           "intent_p1": 0,
           "intent_p2": 0,
           "intent_p3": 0,
           "magic": "n+1",
           "pixdim": [
            1,
            2,
            2,
            3,
            2.5,
            1,
            1,
            1
           ],
           "qform_code": 2,
           "qoffset_x": -75.24183654785156,
           "qoffset_y": 0.18226762115955353,
           "qoffset_z": -81.86811828613281,
           "quatern_b": 0,
           "quatern_c": 0,
           "quatern_d": 0,
           "regular": "r",
           "scl_inter": null,
           "scl_slope": null,
           "session_error": 0,
           "sform_code": 2,
           "sizeof_hdr": 348,
           "slice_code": 0,
           "slice_duration": 0,
           "slice_end": 0,
           "slice_start": 0,
           "srow_x": [
            2,
            0,
            0,
            -75.24183654785156
           ],
           "srow_y": [
            0,
            2,
            0,
            0.18226762115955353
           ],
           "srow_z": [
            0,
            0,
            3,
            -81.86811828613281
           ],
           "toffset": 0,
           "vox_offset": 0,
           "xyzt_units": 10
          },
          "space": "T1w",
          "subject": "06",
          "task": "run4"
         },
         "subdir": "output",
         "tags": [
          "12_16_2020"
         ]
        },
        "path": "5fda36b50d4b105d2b9038c6/5fdacda30d4b105d2b904091/bold_img",
        "task_id": "5fdacda30d4b105d2b904091"
       },
       {
        "app": {},
        "datatype": "neuro/anat/t1w",
        "finish_date": "2020-12-17T08:23:13.183Z",
        "output": {
         "archive": {
          "desc": "",
          "project": "5fda367856422f36d2f97a51"
         },
         "datatype": "58c33bcee13a50849b25879a",
         "datatype_tags": [],
         "desc": "preprocessed t1 (same alignment as the original t1, but level adjusted - editme)",
         "id": "anat",
         "meta": {
          "EchoTime": 0.03,
          "EffectiveEchoSpacing": 0.000370002,
          "FlipAngle": 90,
          "ImageType": [
           "ORIGINAL",
           "PRIMARY",
           "M",
           "ND",
           "NORM",
           "MOS"
          ],
          "MagneticFieldStrength": 3,
          "Manufacturer": "Siemens",
          "ManufacturersModelName": "TrioTim",
          "PhaseEncodingDirection": "j-",
          "PulseSequenceType": "Gradient Echo EPI",
          "RepetitionTime": 2.5,
          "SkullStripped": false,
          "SliceTiming": [
           0,
           1.285,
           0.0625,
           1.35,
           0.1275,
           1.415,
           0.1925,
           1.48,
           0.2575,
           1.5425,
           0.32,
           1.6075,
           0.385,
           1.6725,
           0.45,
           1.7375,
           0.515,
           1.8,
           0.5775,
           1.865,
           0.6425,
           1.93,
           0.7075,
           1.995,
           0.7725,
           2.0575,
           0.835,
           2.1225,
           0.9,
           2.1875,
           0.965,
           2.2525,
           1.0275,
           2.315,
           1.0925,
           2.38,
           1.1575,
           2.445,
           1.2225
          ],
          "TaskName": "Experimental Run 4",
          "freesurfer_version": "7.1.0",
          "nifti_headers": {
           "aux_file": "",
           "base_affine": [
            [
             -0.9999998211860657,
             0,
             0,
             95.49998292326927
            ],
            [
             0,
             0.9375,
             0,
             -119.53125
            ],
            [
             0,
             0,
             0.9375000596046448,
             -119.53125759959221
            ],
            [
             0,
             0,
             0,
             1
            ]
           ],
           "bitpix": 32,
           "cal_max": 0,
           "cal_min": 0,
           "data_type": "",
           "datatype": 16,
           "db_name": "",
           "descrip": "xform matrices modified by CopyXForm (niworkflows v1.3.2).",
           "dim": [
            3,
            192,
            256,
            256,
            1,
            1,
            1,
            1
           ],
           "dim_info": 0,
           "extents": 0,
           "glmax": 0,
           "glmin": 0,
           "intent_code": 0,
           "intent_name": "",
           "intent_p1": 0,
           "intent_p2": 0,
           "intent_p3": 0,
           "magic": "n+1",
           "pixdim": [
            1,
            0.9999998211860657,
            0.9375,
            0.9375000596046448,
            1.899999976158142,
            1,
            1,
            1
           ],
           "qform_code": 1,
           "qoffset_x": -100.37577819824219,
           "qoffset_y": -75.48472595214844,
           "qoffset_z": -73.7550048828125,
           "quatern_b": -0.21813388168811798,
           "quatern_c": 0.006150141358375549,
           "quatern_d": 0.00048141187289729714,
           "regular": "",
           "scl_inter": null,
           "scl_slope": null,
           "session_error": 0,
           "sform_code": 1,
           "sizeof_hdr": 348,
           "slice_code": 0,
           "slice_duration": 0,
           "slice_end": 0,
           "slice_start": 0,
           "srow_x": [
            0.9999237060546875,
            -0.0033963071182370186,
            0.011056700721383095,
            -100.37577819824219
           ],
           "srow_y": [
            -0.0017434891778975725,
            0.8482825756072998,
            0.39914941787719727,
            -75.48472595214844
           ],
           "srow_z": [
            -0.012213860638439655,
            -0.39913830161094666,
            0.8482121229171753,
            -73.7550048828125
           ],
           "toffset": 0,
           "vox_offset": 0,
           "xyzt_units": 2
          },
          "subject": "06",
          "task": "run4"
         },
         "subdir": "output",
         "tags": [
          "12_16_2020"
         ]
        },
        "path": "5fda36b50d4b105d2b9038c6/5fdacda30d4b105d2b904091/anat",
        "task_id": "5fdacda30d4b105d2b904091"
       },
       {
        "app": {},
        "datatype": "neuro/func/task",
        "finish_date": "2020-12-17T08:26:24.257Z",
        "output": {
         "archive": {
          "desc": "",
          "project": "5fda367856422f36d2f97a51"
         },
         "datatype": "59b685a08e5d38b0b331ddc5",
         "datatype_tags": [
          "run4",
          "preprocessed"
         ],
         "id": "bold_img",
         "meta": {
          "EchoTime": 0.03,
          "EffectiveEchoSpacing": 0.000390006,
          "FlipAngle": 90,
          "ImageType": [
           "ORIGINAL",
           "PRIMARY",
           "M",
           "ND",
           "NORM",
           "MOS"
          ],
          "MagneticFieldStrength": 3,
          "Manufacturer": "Siemens",
          "ManufacturersModelName": "TrioTim",
          "PhaseEncodingDirection": "j-",
          "PulseSequenceType": "Gradient Echo EPI",
          "RepetitionTime": 2.5,
          "SliceTiming": [
           0,
           1.2875,
           0.065,
           1.3525,
           0.1275,
           1.415,
           0.1925,
           1.48,
           0.2575,
           1.545,
           0.3225,
           1.6075,
           0.385,
           1.6725,
           0.45,
           1.7375,
           0.515,
           1.8025,
           0.58,
           1.865,
           0.6425,
           1.93,
           0.7075,
           1.995,
           0.7725,
           2.06,
           0.8375,
           2.1225,
           0.9,
           2.1875,
           0.965,
           2.2525,
           1.03,
           2.3175,
           1.095,
           2.38,
           1.1575,
           2.445,
           1.2225
          ],
          "TaskName": "Experimental Run 4",
          "freesurfer_version": "7.1.0",
          "nifti_headers": {
           "aux_file": "",
           "base_affine": [
            [
             -2,
             0,
             0,
             67
            ],
            [
             0,
             2,
             0,
             -78
            ],
            [
             0,
             0,
             3,
             -67.5
            ],
            [
             0,
             0,
             0,
             1
            ]
           ],
           "bitpix": 16,
           "cal_max": 1130.0146484375,
           "cal_min": -68.0512924194336,
           "data_type": "",
           "datatype": 4,
           "db_name": "",
           "descrip": "xform matrices modified by FixHeaderApplyTransforms (niworkflows v1.3.2).",
           "dim": [
            4,
            68,
            79,
            46,
            260,
            1,
            1,
            1
           ],
           "dim_info": 0,
           "extents": 0,
           "glmax": 0,
           "glmin": 0,
           "intent_code": 0,
           "intent_name": "",
           "intent_p1": 0,
           "intent_p2": 0,
           "intent_p3": 0,
           "magic": "n+1",
           "pixdim": [
            1,
            2,
            2,
            3,
            2.5,
            1,
            1,
            1
           ],
           "qform_code": 2,
           "qoffset_x": -79.9210205078125,
           "qoffset_y": -10.631865501403809,
           "qoffset_z": -72.41883087158203,
           "quatern_b": 0,
           "quatern_c": 0,
           "quatern_d": 0,
           "regular": "r",
           "scl_inter": null,
           "scl_slope": null,
           "session_error": 0,
           "sform_code": 2,
           "sizeof_hdr": 348,
           "slice_code": 0,
           "slice_duration": 0,
           "slice_end": 0,
           "slice_start": 0,
           "srow_x": [
            2,
            0,
            0,
            -79.9210205078125
           ],
           "srow_y": [
            0,
            2,
            0,
            -10.631865501403809
           ],
           "srow_z": [
            0,
            0,
            3,
            -72.41883087158203
           ],
           "toffset": 0,
           "vox_offset": 0,
           "xyzt_units": 10
          },
          "space": "T1w",
          "subject": "20",
          "task": "run4"
         },
         "subdir": "output",
         "tags": [
          "12_16_2020"
         ]
        },
        "path": "5fda36b80d4b105d2b90391a/5fdacda50d4b105d2b904113/bold_img",
        "task_id": "5fdacda50d4b105d2b904113"
       },
       {
        "app": {},
        "datatype": "neuro/anat/t1w",
        "finish_date": "2020-12-17T08:27:28.993Z",
        "output": {
         "archive": {
          "desc": "",
          "project": "5fda367856422f36d2f97a51"
         },
         "datatype": "58c33bcee13a50849b25879a",
         "datatype_tags": [],
         "desc": "preprocessed t1 (same alignment as the original t1, but level adjusted - editme)",
         "id": "anat",
         "meta": {
          "EchoTime": 0.03,
          "EffectiveEchoSpacing": 0.000390006,
          "FlipAngle": 90,
          "ImageType": [
           "ORIGINAL",
           "PRIMARY",
           "M",
           "ND",
           "NORM",
           "MOS"
          ],
          "MagneticFieldStrength": 3,
          "Manufacturer": "Siemens",
          "ManufacturersModelName": "TrioTim",
          "PhaseEncodingDirection": "j-",
          "PulseSequenceType": "Gradient Echo EPI",
          "RepetitionTime": 2.5,
          "SkullStripped": false,
          "SliceTiming": [
           0,
           1.2875,
           0.065,
           1.3525,
           0.1275,
           1.415,
           0.1925,
           1.48,
           0.2575,
           1.545,
           0.3225,
           1.6075,
           0.385,
           1.6725,
           0.45,
           1.7375,
           0.515,
           1.8025,
           0.58,
           1.865,
           0.6425,
           1.93,
           0.7075,
           1.995,
           0.7725,
           2.06,
           0.8375,
           2.1225,
           0.9,
           2.1875,
           0.965,
           2.2525,
           1.03,
           2.3175,
           1.095,
           2.38,
           1.1575,
           2.445,
           1.2225
          ],
          "TaskName": "Experimental Run 4",
          "freesurfer_version": "7.1.0",
          "nifti_headers": {
           "aux_file": "",
           "base_affine": [
            [
             -0.9999986886978149,
             0,
             0,
             95.49987477064133
            ],
            [
             0,
             0.9375,
             0,
             -119.53125
            ],
            [
             0,
             0,
             0.9375,
             -119.53125
            ],
            [
             0,
             0,
             0,
             1
            ]
           ],
           "bitpix": 32,
           "cal_max": 0,
           "cal_min": 0,
           "data_type": "",
           "datatype": 16,
           "db_name": "",
           "descrip": "xform matrices modified by CopyXForm (niworkflows v1.3.2).",
           "dim": [
            3,
            192,
            256,
            256,
            1,
            1,
            1,
            1
           ],
           "dim_info": 0,
           "extents": 0,
           "glmax": 0,
           "glmin": 0,
           "intent_code": 0,
           "intent_name": "",
           "intent_p1": 0,
           "intent_p2": 0,
           "intent_p3": 0,
           "magic": "n+1",
           "pixdim": [
            1,
            0.9999986886978149,
            0.9375,
            0.9375,
            1.899999976158142,
            1,
            1,
            1
           ],
           "qform_code": 1,
           "qoffset_x": -123.9210205078125,
           "qoffset_y": -82.96476745605469,
           "qoffset_z": -73.68924713134766,
           "quatern_b": -0.17332160472869873,
           "quatern_c": 0.05419336259365082,
           "quatern_d": -0.02684102952480316,
           "regular": "",
           "scl_inter": null,
           "scl_slope": null,
           "session_error": 0,
           "sform_code": 1,
           "sizeof_hdr": 348,
           "slice_code": 0,
           "slice_duration": 0,
           "slice_end": 0,
           "slice_start": 0,
           "srow_x": [
            0.9926839470863342,
            0.03186006471514702,
            0.10860857367515564,
            -123.9210205078125
           ],
           "srow_y": [
            -0.0715554878115654,
            0.8798234462738037,
            0.3167281746864319,
            -82.96476745605469
           ],
           "srow_z": [
            -0.09724049270153046,
            -0.32218295335769653,
            0.8756675720214844,
            -73.68924713134766
           ],
           "toffset": 0,
           "vox_offset": 0,
           "xyzt_units": 2
          },
          "subject": "20",
          "task": "run4"
         },
         "subdir": "output",
         "tags": [
          "12_16_2020"
         ]
        },
        "path": "5fda36b80d4b105d2b90391a/5fdacda50d4b105d2b904113/anat",
        "task_id": "5fdacda50d4b105d2b904113"
       },
       {
        "app": {},
        "datatype": "neuro/func/task",
        "finish_date": "2020-12-17T08:29:26.396Z",
        "output": {
         "archive": {
          "desc": "",
          "project": "5fda367856422f36d2f97a51"
         },
         "datatype": "59b685a08e5d38b0b331ddc5",
         "datatype_tags": [
          "run4",
          "preprocessed"
         ],
         "id": "bold_img",
         "meta": {
          "EchoTime": 0.03,
          "EffectiveEchoSpacing": 0.000370002,
          "FlipAngle": 90,
          "ImageType": [
           "ORIGINAL",
           "PRIMARY",
           "M",
           "ND",
           "NORM",
           "MOS"
          ],
          "MagneticFieldStrength": 3,
          "Manufacturer": "Siemens",
          "ManufacturersModelName": "TrioTim",
          "PhaseEncodingDirection": "j-",
          "PulseSequenceType": "Gradient Echo EPI",
          "RepetitionTime": 2.5,
          "SliceTiming": [
           0,
           1.2875,
           0.065,
           1.3525,
           0.13,
           1.415,
           0.1925,
           1.48,
           0.2575,
           1.545,
           0.3225,
           1.61,
           0.3875,
           1.6725,
           0.45,
           1.7375,
           0.515,
           1.8025,
           0.58,
           1.8675,
           0.6425,
           1.93,
           0.7075,
           1.995,
           0.7725,
           2.06,
           0.8375,
           2.1225,
           0.9,
           2.1875,
           0.965,
           2.2525,
           1.03,
           2.3175,
           1.095,
           2.38,
           1.1575,
           2.445,
           1.2225
          ],
          "TaskName": "Experimental Run 4",
          "freesurfer_version": "7.1.0",
          "nifti_headers": {
           "aux_file": "",
           "base_affine": [
            [
             -2,
             0,
             0,
             73
            ],
            [
             0,
             2,
             0,
             -86
            ],
            [
             0,
             0,
             3,
             -72
            ],
            [
             0,
             0,
             0,
             1
            ]
           ],
           "bitpix": 16,
           "cal_max": 1121.8741455078125,
           "cal_min": -59.17783737182617,
           "data_type": "",
           "datatype": 4,
           "db_name": "",
           "descrip": "xform matrices modified by FixHeaderApplyTransforms (niworkflows v1.3.2).",
           "dim": [
            4,
            74,
            87,
            49,
            260,
            1,
            1,
            1
           ],
           "dim_info": 0,
           "extents": 0,
           "glmax": 0,
           "glmin": 0,
           "intent_code": 0,
           "intent_name": "",
           "intent_p1": 0,
           "intent_p2": 0,
           "intent_p3": 0,
           "magic": "n+1",
           "pixdim": [
            1,
            2,
            2,
            3,
            2.5,
            1,
            1,
            1
           ],
           "qform_code": 2,
           "qoffset_x": -76.31880187988281,
           "qoffset_y": 2.7487659454345703,
           "qoffset_z": -76.17489624023438,
           "quatern_b": 0,
           "quatern_c": 0,
           "quatern_d": 0,
           "regular": "r",
           "scl_inter": null,
           "scl_slope": null,
           "session_error": 0,
           "sform_code": 2,
           "sizeof_hdr": 348,
           "slice_code": 0,
           "slice_duration": 0,
           "slice_end": 0,
           "slice_start": 0,
           "srow_x": [
            2,
            0,
            0,
            -76.31880187988281
           ],
           "srow_y": [
            0,
            2,
            0,
            2.7487659454345703
           ],
           "srow_z": [
            0,
            0,
            3,
            -76.17489624023438
           ],
           "toffset": 0,
           "vox_offset": 0,
           "xyzt_units": 10
          },
          "space": "T1w",
          "subject": "05",
          "task": "run4"
         },
         "subdir": "output",
         "tags": [
          "12_16_2020"
         ]
        },
        "path": "5fda36b40d4b105d2b9038c0/5fdacda30d4b105d2b904086/bold_img",
        "task_id": "5fdacda30d4b105d2b904086"
       },
       {
        "app": {},
        "datatype": "neuro/anat/t1w",
        "finish_date": "2020-12-17T08:29:33.650Z",
        "output": {
         "archive": {
          "desc": "",
          "project": "5fda367856422f36d2f97a51"
         },
         "datatype": "58c33bcee13a50849b25879a",
         "datatype_tags": [],
         "desc": "preprocessed t1 (same alignment as the original t1, but level adjusted - editme)",
         "id": "anat",
         "meta": {
          "EchoTime": 0.03,
          "EffectiveEchoSpacing": 0.000370002,
          "FlipAngle": 90,
          "ImageType": [
           "ORIGINAL",
           "PRIMARY",
           "M",
           "ND",
           "NORM",
           "MOS"
          ],
          "MagneticFieldStrength": 3,
          "Manufacturer": "Siemens",
          "ManufacturersModelName": "TrioTim",
          "PhaseEncodingDirection": "j-",
          "PulseSequenceType": "Gradient Echo EPI",
          "RepetitionTime": 2.5,
          "SkullStripped": false,
          "SliceTiming": [
           0,
           1.2875,
           0.065,
           1.3525,
           0.13,
           1.415,
           0.1925,
           1.48,
           0.2575,
           1.545,
           0.3225,
           1.61,
           0.3875,
           1.6725,
           0.45,
           1.7375,
           0.515,
           1.8025,
           0.58,
           1.8675,
           0.6425,
           1.93,
           0.7075,
           1.995,
           0.7725,
           2.06,
           0.8375,
           2.1225,
           0.9,
           2.1875,
           0.965,
           2.2525,
           1.03,
           2.3175,
           1.095,
           2.38,
           1.1575,
           2.445,
           1.2225
          ],
          "TaskName": "Experimental Run 4",
          "freesurfer_version": "7.1.0",
          "nifti_headers": {
           "aux_file": "",
           "base_affine": [
            [
             -0.9999983310699463,
             0,
             0,
             95.49984061717987
            ],
            [
             0,
             0.9375,
             0,
             -119.53125
            ],
            [
             0,
             0,
             0.9375,
             -119.53125
            ],
            [
             0,
             0,
             0,
             1
            ]
           ],
           "bitpix": 32,
           "cal_max": 0,
           "cal_min": 0,
           "data_type": "",
           "datatype": 16,
           "db_name": "",
           "descrip": "xform matrices modified by CopyXForm (niworkflows v1.3.2).",
           "dim": [
            3,
            192,
            256,
            256,
            1,
            1,
            1,
            1
           ],
           "dim_info": 0,
           "extents": 0,
           "glmax": 0,
           "glmin": 0,
           "intent_code": 0,
           "intent_name": "",
           "intent_p1": 0,
           "intent_p2": 0,
           "intent_p3": 0,
           "magic": "n+1",
           "pixdim": [
            1,
            0.9999983310699463,
            0.9375,
            0.9375,
            1.899999976158142,
            1,
            1,
            1
           ],
           "qform_code": 1,
           "qoffset_x": -106.31880187988281,
           "qoffset_y": -64.91995239257812,
           "qoffset_z": -80.78230285644531,
           "quatern_b": -0.1881936639547348,
           "quatern_c": 0.004106402397155762,
           "quatern_d": -0.02142488770186901,
           "regular": "",
           "scl_inter": null,
           "scl_slope": null,
           "session_error": 0,
           "sform_code": 1,
           "sizeof_hdr": 348,
           "slice_code": 0,
           "slice_duration": 0,
           "slice_end": 0,
           "slice_start": 0,
           "srow_x": [
            0.9990465641021729,
            0.037995144724845886,
            0.015120116993784904,
            -106.31880187988281
           ],
           "srow_y": [
            -0.04361927509307861,
            0.8702327013015747,
            0.3463076651096344,
            -64.91995239257812
           ],
           "srow_z": [
            -1.2107173041897568e-08,
            -0.3466376066207886,
            0.8710618019104004,
            -80.78230285644531
           ],
           "toffset": 0,
           "vox_offset": 0,
           "xyzt_units": 2
          },
          "subject": "05",
          "task": "run4"
         },
         "subdir": "output",
         "tags": [
          "12_16_2020"
         ]
        },
        "path": "5fda36b40d4b105d2b9038c0/5fdacda30d4b105d2b904086/anat",
        "task_id": "5fdacda30d4b105d2b904086"
       },
       {
        "app": {},
        "datatype": "neuro/func/task",
        "finish_date": "2020-12-17T08:34:42.917Z",
        "output": {
         "archive": {
          "desc": "",
          "project": "5fda367856422f36d2f97a51"
         },
         "datatype": "59b685a08e5d38b0b331ddc5",
         "datatype_tags": [
          "run4",
          "preprocessed"
         ],
         "id": "bold_img",
         "meta": {
          "EchoTime": 0.03,
          "EffectiveEchoSpacing": 0.000390006,
          "FlipAngle": 90,
          "ImageType": [
           "ORIGINAL",
           "PRIMARY",
           "M",
           "ND",
           "NORM",
           "MOS"
          ],
          "MagneticFieldStrength": 3,
          "Manufacturer": "Siemens",
          "ManufacturersModelName": "TrioTim",
          "PhaseEncodingDirection": "j-",
          "PulseSequenceType": "Gradient Echo EPI",
          "RepetitionTime": 2.5,
          "SliceTiming": [
           0,
           1.2875,
           0.065,
           1.3525,
           0.13,
           1.4175,
           0.195,
           1.48,
           0.2575,
           1.545,
           0.3225,
           1.61,
           0.3875,
           1.675,
           0.4525,
           1.7375,
           0.515,
           1.8025,
           0.58,
           1.8675,
           0.645,
           1.9325,
           0.71,
           1.995,
           0.7725,
           2.06,
           0.8375,
           2.125,
           0.9025,
           2.19,
           0.9675,
           2.2525,
           1.03,
           2.3175,
           1.095,
           2.3825,
           1.16,
           2.4475,
           1.225
          ],
          "TaskName": "Experimental Run 4",
          "freesurfer_version": "7.1.0",
          "nifti_headers": {
           "aux_file": "",
           "base_affine": [
            [
             -2,
             0,
             0,
             72
            ],
            [
             0,
             2,
             0,
             -82
            ],
            [
             0,
             0,
             3,
             -70.5
            ],
            [
             0,
             0,
             0,
             1
            ]
           ],
           "bitpix": 16,
           "cal_max": 897.7833251953125,
           "cal_min": -53.81136703491211,
           "data_type": "",
           "datatype": 4,
           "db_name": "",
           "descrip": "xform matrices modified by FixHeaderApplyTransforms (niworkflows v1.3.2).",
           "dim": [
            4,
            73,
            83,
            48,
            260,
            1,
            1,
            1
           ],
           "dim_info": 0,
           "extents": 0,
           "glmax": 0,
           "glmin": 0,
           "intent_code": 0,
           "intent_name": "",
           "intent_p1": 0,
           "intent_p2": 0,
           "intent_p3": 0,
           "magic": "n+1",
           "pixdim": [
            1,
            2,
            2,
            3,
            2.5,
            1,
            1,
            1
           ],
           "qform_code": 2,
           "qoffset_x": -85.00684356689453,
           "qoffset_y": -2.083653450012207,
           "qoffset_z": -71.5100326538086,
           "quatern_b": 0,
           "quatern_c": 0,
           "quatern_d": 0,
           "regular": "r",
           "scl_inter": null,
           "scl_slope": null,
           "session_error": 0,
           "sform_code": 2,
           "sizeof_hdr": 348,
           "slice_code": 0,
           "slice_duration": 0,
           "slice_end": 0,
           "slice_start": 0,
           "srow_x": [
            2,
            0,
            0,
            -85.00684356689453
           ],
           "srow_y": [
            0,
            2,
            0,
            -2.083653450012207
           ],
           "srow_z": [
            0,
            0,
            3,
            -71.5100326538086
           ],
           "toffset": 0,
           "vox_offset": 0,
           "xyzt_units": 10
          },
          "space": "T1w",
          "subject": "19",
          "task": "run4"
         },
         "subdir": "output",
         "tags": [
          "12_16_2020"
         ]
        },
        "path": "5fda36b80d4b105d2b903914/5fdacda50d4b105d2b904105/bold_img",
        "task_id": "5fdacda50d4b105d2b904105"
       },
       {
        "app": {},
        "datatype": "neuro/anat/t1w",
        "finish_date": "2020-12-17T08:34:44.790Z",
        "output": {
         "archive": {
          "desc": "",
          "project": "5fda367856422f36d2f97a51"
         },
         "datatype": "58c33bcee13a50849b25879a",
         "datatype_tags": [],
         "desc": "preprocessed t1 (same alignment as the original t1, but level adjusted - editme)",
         "id": "anat",
         "meta": {
          "EchoTime": 0.03,
          "EffectiveEchoSpacing": 0.000390006,
          "FlipAngle": 90,
          "ImageType": [
           "ORIGINAL",
           "PRIMARY",
           "M",
           "ND",
           "NORM",
           "MOS"
          ],
          "MagneticFieldStrength": 3,
          "Manufacturer": "Siemens",
          "ManufacturersModelName": "TrioTim",
          "PhaseEncodingDirection": "j-",
          "PulseSequenceType": "Gradient Echo EPI",
          "RepetitionTime": 2.5,
          "SkullStripped": false,
          "SliceTiming": [
           0,
           1.2875,
           0.065,
           1.3525,
           0.13,
           1.4175,
           0.195,
           1.48,
           0.2575,
           1.545,
           0.3225,
           1.61,
           0.3875,
           1.675,
           0.4525,
           1.7375,
           0.515,
           1.8025,
           0.58,
           1.8675,
           0.645,
           1.9325,
           0.71,
           1.995,
           0.7725,
           2.06,
           0.8375,
           2.125,
           0.9025,
           2.19,
           0.9675,
           2.2525,
           1.03,
           2.3175,
           1.095,
           2.3825,
           1.16,
           2.4475,
           1.225
          ],
          "TaskName": "Experimental Run 4",
          "freesurfer_version": "7.1.0",
          "nifti_headers": {
           "aux_file": "",
           "base_affine": [
            [
             -0.9999949932098389,
             0,
             0,
             95.49952185153961
            ],
            [
             0,
             0.9375,
             0,
             -119.53125
            ],
            [
             0,
             0,
             0.9375,
             -119.53125
            ],
            [
             0,
             0,
             0,
             1
            ]
           ],
           "bitpix": 32,
           "cal_max": 0,
           "cal_min": 0,
           "data_type": "",
           "datatype": 16,
           "db_name": "",
           "descrip": "xform matrices modified by CopyXForm (niworkflows v1.3.2).",
           "dim": [
            3,
            192,
            256,
            256,
            1,
            1,
            1,
            1
           ],
           "dim_info": 0,
           "extents": 0,
           "glmax": 0,
           "glmin": 0,
           "intent_code": 0,
           "intent_name": "",
           "intent_p1": 0,
           "intent_p2": 0,
           "intent_p3": 0,
           "magic": "n+1",
           "pixdim": [
            1,
            0.9999949932098389,
            0.9375,
            0.9375,
            1.899999976158142,
            1,
            1,
            1
           ],
           "qform_code": 1,
           "qoffset_x": -119.00684356689453,
           "qoffset_y": -58.76023864746094,
           "qoffset_z": -90.4618148803711,
           "quatern_b": -0.1243916004896164,
           "quatern_c": 0.004343867301940918,
           "quatern_d": -0.034628093242645264,
           "regular": "",
           "scl_inter": null,
           "scl_slope": null,
           "session_error": 0,
           "sform_code": 1,
           "sizeof_hdr": 348,
           "slice_code": 0,
           "slice_duration": 0,
           "slice_end": 0,
           "slice_start": 0,
           "srow_x": [
            0.9975590705871582,
            0.06337039172649384,
            0.016152948141098022,
            -119.00684356689453
           ],
           "srow_y": [
            -0.06975609809160233,
            0.9062392711639404,
            0.23099753260612488,
            -58.76023864746094
           ],
           "srow_z": [
            -3.9115352734597764e-08,
            -0.2315616011619568,
            0.9084522128105164,
            -90.4618148803711
           ],
           "toffset": 0,
           "vox_offset": 0,
           "xyzt_units": 2
          },
          "subject": "19",
          "task": "run4"
         },
         "subdir": "output",
         "tags": [
          "12_16_2020"
         ]
        },
        "path": "5fda36b80d4b105d2b903914/5fdacda50d4b105d2b904105/anat",
        "task_id": "5fdacda50d4b105d2b904105"
       },
       {
        "app": {},
        "datatype": "neuro/func/task",
        "finish_date": "2020-12-17T08:43:11.336Z",
        "output": {
         "archive": {
          "desc": "",
          "project": "5fda367856422f36d2f97a51"
         },
         "datatype": "59b685a08e5d38b0b331ddc5",
         "datatype_tags": [
          "run4",
          "preprocessed"
         ],
         "id": "bold_img",
         "meta": {
          "EchoTime": 0.03,
          "EffectiveEchoSpacing": 0.000370002,
          "FlipAngle": 90,
          "ImageType": [
           "ORIGINAL",
           "PRIMARY",
           "M",
           "ND",
           "NORM",
           "MOS"
          ],
          "MagneticFieldStrength": 3,
          "Manufacturer": "Siemens",
          "ManufacturersModelName": "TrioTim",
          "PhaseEncodingDirection": "j-",
          "PulseSequenceType": "Gradient Echo EPI",
          "RepetitionTime": 2.5,
          "SliceTiming": [
           0,
           1.2875,
           0.065,
           1.3525,
           0.13,
           1.4175,
           0.195,
           1.48,
           0.2575,
           1.545,
           0.3225,
           1.61,
           0.3875,
           1.675,
           0.4525,
           1.7375,
           0.515,
           1.8025,
           0.58,
           1.8675,
           0.645,
           1.9325,
           0.71,
           1.995,
           0.7725,
           2.06,
           0.8375,
           2.125,
           0.9025,
           2.19,
           0.9675,
           2.2525,
           1.03,
           2.3175,
           1.095,
           2.3825,
           1.16,
           2.4475,
           1.225
          ],
          "TaskName": "Experimental Run 4",
          "freesurfer_version": "7.1.0",
          "nifti_headers": {
           "aux_file": "",
           "base_affine": [
            [
             -2,
             0,
             0,
             68
            ],
            [
             0,
             2,
             0,
             -76
            ],
            [
             0,
             0,
             3,
             -66
            ],
            [
             0,
             0,
             0,
             1
            ]
           ],
           "bitpix": 16,
           "cal_max": 1862.814697265625,
           "cal_min": -158.9741668701172,
           "data_type": "",
           "datatype": 4,
           "db_name": "",
           "descrip": "xform matrices modified by FixHeaderApplyTransforms (niworkflows v1.3.2).",
           "dim": [
            4,
            69,
            77,
            45,
            260,
            1,
            1,
            1
           ],
           "dim_info": 0,
           "extents": 0,
           "glmax": 0,
           "glmin": 0,
           "intent_code": 0,
           "intent_name": "",
           "intent_p1": 0,
           "intent_p2": 0,
           "intent_p3": 0,
           "magic": "n+1",
           "pixdim": [
            1,
            2,
            2,
            3,
            2.5,
            1,
            1,
            1
           ],
           "qform_code": 2,
           "qoffset_x": -66.22388458251953,
           "qoffset_y": 10.843875885009766,
           "qoffset_z": -72.46749114990234,
           "quatern_b": 0,
           "quatern_c": 0,
           "quatern_d": 0,
           "regular": "r",
           "scl_inter": null,
           "scl_slope": null,
           "session_error": 0,
           "sform_code": 2,
           "sizeof_hdr": 348,
           "slice_code": 0,
           "slice_duration": 0,
           "slice_end": 0,
           "slice_start": 0,
           "srow_x": [
            2,
            0,
            0,
            -66.22388458251953
           ],
           "srow_y": [
            0,
            2,
            0,
            10.843875885009766
           ],
           "srow_z": [
            0,
            0,
            3,
            -72.46749114990234
           ],
           "toffset": 0,
           "vox_offset": 0,
           "xyzt_units": 10
          },
          "space": "T1w",
          "subject": "08",
          "task": "run4"
         },
         "subdir": "output",
         "tags": [
          "12_16_2020"
         ]
        },
        "path": "5fda36b50d4b105d2b9038d2/5fdacda30d4b105d2b9040a7/bold_img",
        "task_id": "5fdacda30d4b105d2b9040a7"
       },
       {
        "app": {},
        "datatype": "neuro/anat/t1w",
        "finish_date": "2020-12-17T08:44:23.712Z",
        "output": {
         "archive": {
          "desc": "",
          "project": "5fda367856422f36d2f97a51"
         },
         "datatype": "58c33bcee13a50849b25879a",
         "datatype_tags": [],
         "desc": "preprocessed t1 (same alignment as the original t1, but level adjusted - editme)",
         "id": "anat",
         "meta": {
          "EchoTime": 0.03,
          "EffectiveEchoSpacing": 0.000370002,
          "FlipAngle": 90,
          "ImageType": [
           "ORIGINAL",
           "PRIMARY",
           "M",
           "ND",
           "NORM",
           "MOS"
          ],
          "MagneticFieldStrength": 3,
          "Manufacturer": "Siemens",
          "ManufacturersModelName": "TrioTim",
          "PhaseEncodingDirection": "j-",
          "PulseSequenceType": "Gradient Echo EPI",
          "RepetitionTime": 2.5,
          "SkullStripped": false,
          "SliceTiming": [
           0,
           1.2875,
           0.065,
           1.3525,
           0.13,
           1.4175,
           0.195,
           1.48,
           0.2575,
           1.545,
           0.3225,
           1.61,
           0.3875,
           1.675,
           0.4525,
           1.7375,
           0.515,
           1.8025,
           0.58,
           1.8675,
           0.645,
           1.9325,
           0.71,
           1.995,
           0.7725,
           2.06,
           0.8375,
           2.125,
           0.9025,
           2.19,
           0.9675,
           2.2525,
           1.03,
           2.3175,
           1.095,
           2.3825,
           1.16,
           2.4475,
           1.225
          ],
          "TaskName": "Experimental Run 4",
          "freesurfer_version": "7.1.0",
          "nifti_headers": {
           "aux_file": "",
           "base_affine": [
            [
             -0.9999983906745911,
             0,
             0,
             95.49984630942345
            ],
            [
             0,
             0.9375,
             0,
             -119.53125
            ],
            [
             0,
             0,
             0.9375,
             -119.53125
            ],
            [
             0,
             0,
             0,
             1
            ]
           ],
           "bitpix": 32,
           "cal_max": 0,
           "cal_min": 0,
           "data_type": "",
           "datatype": 16,
           "db_name": "",
           "descrip": "xform matrices modified by CopyXForm (niworkflows v1.3.2).",
           "dim": [
            3,
            192,
            256,
            256,
            1,
            1,
            1,
            1
           ],
           "dim_info": 0,
           "extents": 0,
           "glmax": 0,
           "glmin": 0,
           "intent_code": 0,
           "intent_name": "",
           "intent_p1": 0,
           "intent_p2": 0,
           "intent_p3": 0,
           "magic": "n+1",
           "pixdim": [
            1,
            0.9999983906745911,
            0.9375,
            0.9375,
            1.899999976158142,
            1,
            1,
            1
           ],
           "qform_code": 1,
           "qoffset_x": -94.22388458251953,
           "qoffset_y": -66.48941040039062,
           "qoffset_z": -59.92000198364258,
           "quatern_b": -0.22665096819400787,
           "quatern_c": 0.00039558112621307373,
           "quatern_d": -0.0016999095678329468,
           "regular": "",
           "scl_inter": null,
           "scl_slope": null,
           "session_error": 0,
           "sform_code": 1,
           "sizeof_hdr": 348,
           "slice_code": 0,
           "slice_duration": 0,
           "slice_end": 0,
           "slice_start": 0,
           "srow_x": [
            0.999992311000824,
            0.002936268225312233,
            0.0014448226429522038,
            -94.22388458251953
           ],
           "srow_y": [
            -0.003490649163722992,
            0.8411746025085449,
            0.41390925645828247,
            -66.48941040039062
           ],
           "srow_z": [
            3.4924541036929213e-10,
            -0.41391173005104065,
            0.8411796689033508,
            -59.92000198364258
           ],
           "toffset": 0,
           "vox_offset": 0,
           "xyzt_units": 2
          },
          "subject": "08",
          "task": "run4"
         },
         "subdir": "output",
         "tags": [
          "12_16_2020"
         ]
        },
        "path": "5fda36b50d4b105d2b9038d2/5fdacda30d4b105d2b9040a7/anat",
        "task_id": "5fdacda30d4b105d2b9040a7"
       },
       {
        "app": {},
        "datatype": "neuro/func/task",
        "finish_date": "2020-12-17T08:53:02.311Z",
        "output": {
         "archive": {
          "desc": "",
          "project": "5fda367856422f36d2f97a51"
         },
         "datatype": "59b685a08e5d38b0b331ddc5",
         "datatype_tags": [
          "run4",
          "preprocessed"
         ],
         "id": "bold_img",
         "meta": {
          "EchoTime": 0.03,
          "EffectiveEchoSpacing": 0.000370002,
          "FlipAngle": 90,
          "ImageType": [
           "ORIGINAL",
           "PRIMARY",
           "M",
           "ND",
           "NORM",
           "MOS"
          ],
          "MagneticFieldStrength": 3,
          "Manufacturer": "Siemens",
          "ManufacturersModelName": "TrioTim",
          "PhaseEncodingDirection": "j-",
          "PulseSequenceType": "Gradient Echo EPI",
          "RepetitionTime": 2.5,
          "SliceTiming": [
           0,
           1.285,
           0.0625,
           1.35,
           0.1275,
           1.415,
           0.1925,
           1.48,
           0.2575,
           1.5425,
           0.32,
           1.6075,
           0.385,
           1.6725,
           0.45,
           1.7375,
           0.515,
           1.8,
           0.5775,
           1.865,
           0.6425,
           1.93,
           0.7075,
           1.995,
           0.77,
           2.0575,
           0.835,
           2.1225,
           0.9,
           2.1875,
           0.965,
           2.25,
           1.0275,
           2.315,
           1.0925,
           2.38,
           1.1575,
           2.445,
           1.2225
          ],
          "TaskName": "Experimental Run 4",
          "freesurfer_version": "7.1.0",
          "nifti_headers": {
           "aux_file": "",
           "base_affine": [
            [
             -2,
             0,
             0,
             70
            ],
            [
             0,
             2,
             0,
             -86
            ],
            [
             0,
             0,
             3,
             -72
            ],
            [
             0,
             0,
             0,
             1
            ]
           ],
           "bitpix": 16,
           "cal_max": 1776.928466796875,
           "cal_min": -69.26036071777344,
           "data_type": "",
           "datatype": 4,
           "db_name": "",
           "descrip": "xform matrices modified by FixHeaderApplyTransforms (niworkflows v1.3.2).",
           "dim": [
            4,
            71,
            87,
            49,
            260,
            1,
            1,
            1
           ],
           "dim_info": 0,
           "extents": 0,
           "glmax": 0,
           "glmin": 0,
           "intent_code": 0,
           "intent_name": "",
           "intent_p1": 0,
           "intent_p2": 0,
           "intent_p3": 0,
           "magic": "n+1",
           "pixdim": [
            1,
            2,
            2,
            3,
            2.5,
            1,
            1,
            1
           ],
           "qform_code": 2,
           "qoffset_x": -70.2663345336914,
           "qoffset_y": -10.731301307678223,
           "qoffset_z": -80.16816711425781,
           "quatern_b": 0,
           "quatern_c": 0,
           "quatern_d": 0,
           "regular": "r",
           "scl_inter": null,
           "scl_slope": null,
           "session_error": 0,
           "sform_code": 2,
           "sizeof_hdr": 348,
           "slice_code": 0,
           "slice_duration": 0,
           "slice_end": 0,
           "slice_start": 0,
           "srow_x": [
            2,
            0,
            0,
            -70.2663345336914
           ],
           "srow_y": [
            0,
            2,
            0,
            -10.731301307678223
           ],
           "srow_z": [
            0,
            0,
            3,
            -80.16816711425781
           ],
           "toffset": 0,
           "vox_offset": 0,
           "xyzt_units": 10
          },
          "space": "T1w",
          "subject": "03",
          "task": "run4"
         },
         "subdir": "output",
         "tags": [
          "12_16_2020"
         ]
        },
        "path": "5fda36b40d4b105d2b9038b4/5fdacda20d4b105d2b904070/bold_img",
        "task_id": "5fdacda20d4b105d2b904070"
       },
       {
        "app": {},
        "datatype": "neuro/anat/t1w",
        "finish_date": "2020-12-17T08:53:08.377Z",
        "output": {
         "archive": {
          "desc": "",
          "project": "5fda367856422f36d2f97a51"
         },
         "datatype": "58c33bcee13a50849b25879a",
         "datatype_tags": [],
         "desc": "preprocessed t1 (same alignment as the original t1, but level adjusted - editme)",
         "id": "anat",
         "meta": {
          "EchoTime": 0.03,
          "EffectiveEchoSpacing": 0.000370002,
          "FlipAngle": 90,
          "ImageType": [
           "ORIGINAL",
           "PRIMARY",
           "M",
           "ND",
           "NORM",
           "MOS"
          ],
          "MagneticFieldStrength": 3,
          "Manufacturer": "Siemens",
          "ManufacturersModelName": "TrioTim",
          "PhaseEncodingDirection": "j-",
          "PulseSequenceType": "Gradient Echo EPI",
          "RepetitionTime": 2.5,
          "SkullStripped": false,
          "SliceTiming": [
           0,
           1.285,
           0.0625,
           1.35,
           0.1275,
           1.415,
           0.1925,
           1.48,
           0.2575,
           1.5425,
           0.32,
           1.6075,
           0.385,
           1.6725,
           0.45,
           1.7375,
           0.515,
           1.8,
           0.5775,
           1.865,
           0.6425,
           1.93,
           0.7075,
           1.995,
           0.77,
           2.0575,
           0.835,
           2.1225,
           0.9,
           2.1875,
           0.965,
           2.25,
           1.0275,
           2.315,
           1.0925,
           2.38,
           1.1575,
           2.445,
           1.2225
          ],
          "TaskName": "Experimental Run 4",
          "freesurfer_version": "7.1.0",
          "nifti_headers": {
           "aux_file": "",
           "base_affine": [
            [
             -1.0000061988830566,
             0,
             0,
             95.50059199333191
            ],
            [
             0,
             0.9375,
             0,
             -119.53125
            ],
            [
             0,
             0,
             0.9375,
             -119.53125
            ],
            [
             0,
             0,
             0,
             1
            ]
           ],
           "bitpix": 32,
           "cal_max": 0,
           "cal_min": 0,
           "data_type": "",
           "datatype": 16,
           "db_name": "",
           "descrip": "xform matrices modified by CopyXForm (niworkflows v1.3.2).",
           "dim": [
            3,
            192,
            256,
            256,
            1,
            1,
            1,
            1
           ],
           "dim_info": 0,
           "extents": 0,
           "glmax": 0,
           "glmin": 0,
           "intent_code": 0,
           "intent_name": "",
           "intent_p1": 0,
           "intent_p2": 0,
           "intent_p3": 0,
           "magic": "n+1",
           "pixdim": [
            1,
            1.0000061988830566,
            0.9375,
            0.9375,
            1.899999976158142,
            1,
            1,
            1
           ],
           "qform_code": 1,
           "qoffset_x": -108.2663345336914,
           "qoffset_y": -67.74436950683594,
           "qoffset_z": -86.55278015136719,
           "quatern_b": -0.17700251936912537,
           "quatern_c": 0.02920074574649334,
           "quatern_d": -0.029316799715161324,
           "regular": "",
           "scl_inter": null,
           "scl_slope": null,
           "session_error": 0,
           "sform_code": 1,
           "sizeof_hdr": 348,
           "slice_code": 0,
           "slice_duration": 0,
           "slice_end": 0,
           "slice_start": 0,
           "srow_x": [
            0.9965819120407104,
            0.04436209052801132,
            0.06356890499591827,
            -108.2663345336914
           ],
           "srow_y": [
            -0.06799440830945969,
            0.8771449327468872,
            0.3247455358505249,
            -67.74436950683594
           ],
           "srow_z": [
            -0.04705053195357323,
            -0.32795581221580505,
            0.8771576881408691,
            -86.55278015136719
           ],
           "toffset": 0,
           "vox_offset": 0,
           "xyzt_units": 2
          },
          "subject": "03",
          "task": "run4"
         },
         "subdir": "output",
         "tags": [
          "12_16_2020"
         ]
        },
        "path": "5fda36b40d4b105d2b9038b4/5fdacda20d4b105d2b904070/anat",
        "task_id": "5fdacda20d4b105d2b904070"
       },
       {
        "app": {},
        "datatype": "neuro/anat/t1w",
        "finish_date": "2020-12-17T08:58:45.413Z",
        "output": {
         "archive": {
          "desc": "",
          "project": "5fda367856422f36d2f97a51"
         },
         "datatype": "58c33bcee13a50849b25879a",
         "datatype_tags": [],
         "desc": "preprocessed t1 (same alignment as the original t1, but level adjusted - editme)",
         "id": "anat",
         "meta": {
          "EchoTime": 0.03,
          "EffectiveEchoSpacing": 0.000370002,
          "FlipAngle": 90,
          "ImageType": [
           "ORIGINAL",
           "PRIMARY",
           "M",
           "ND",
           "NORM",
           "MOS"
          ],
          "MagneticFieldStrength": 3,
          "Manufacturer": "Siemens",
          "ManufacturersModelName": "TrioTim",
          "PhaseEncodingDirection": "j-",
          "PulseSequenceType": "Gradient Echo EPI",
          "RepetitionTime": 2.5,
          "SkullStripped": false,
          "SliceTiming": [
           0,
           1.285,
           0.0625,
           1.35,
           0.1275,
           1.415,
           0.1925,
           1.48,
           0.2575,
           1.5425,
           0.32,
           1.6075,
           0.385,
           1.6725,
           0.45,
           1.7375,
           0.515,
           1.8,
           0.5775,
           1.865,
           0.6425,
           1.93,
           0.7075,
           1.995,
           0.7725,
           2.0575,
           0.835,
           2.1225,
           0.9,
           2.1875,
           0.965,
           2.2525,
           1.03,
           2.315,
           1.0925,
           2.38,
           1.1575,
           2.445,
           1.2225
          ],
          "TaskName": "Experimental Run 4",
          "freesurfer_version": "7.1.0",
          "nifti_headers": {
           "aux_file": "",
           "base_affine": [
            [
             -0.9999992251396179,
             0,
             0,
             95.49992600083351
            ],
            [
             0,
             0.9374999403953552,
             0,
             -119.53124240040779
            ],
            [
             0,
             0,
             0.9375,
             -119.53125
            ],
            [
             0,
             0,
             0,
             1
            ]
           ],
           "bitpix": 32,
           "cal_max": 0,
           "cal_min": 0,
           "data_type": "",
           "datatype": 16,
           "db_name": "",
           "descrip": "xform matrices modified by CopyXForm (niworkflows v1.3.2).",
           "dim": [
            3,
            192,
            256,
            256,
            1,
            1,
            1,
            1
           ],
           "dim_info": 0,
           "extents": 0,
           "glmax": 0,
           "glmin": 0,
           "intent_code": 0,
           "intent_name": "",
           "intent_p1": 0,
           "intent_p2": 0,
           "intent_p3": 0,
           "magic": "n+1",
           "pixdim": [
            1,
            0.9999992251396179,
            0.9374999403953552,
            0.9375,
            1.899999976158142,
            1,
            1,
            1
           ],
           "qform_code": 1,
           "qoffset_x": -113.5797119140625,
           "qoffset_y": -82.05648803710938,
           "qoffset_z": -86.10101318359375,
           "quatern_b": -0.19543544948101044,
           "quatern_c": -0.035244010388851166,
           "quatern_d": -0.06374862790107727,
           "regular": "",
           "scl_inter": null,
           "scl_slope": null,
           "session_error": 0,
           "sform_code": 1,
           "sizeof_hdr": 348,
           "slice_code": 0,
           "slice_duration": 0,
           "slice_end": 0,
           "slice_start": 0,
           "srow_x": [
            0.9893871545791626,
            0.12981481850147247,
            -0.041269075125455856,
            -113.5797119140625
           ],
           "srow_y": [
            -0.1109173446893692,
            0.8582645058631897,
            0.36259520053863525,
            -82.05648803710938
           ],
           "srow_z": [
            0.09385523945093155,
            -0.35416990518569946,
            0.863555371761322,
            -86.10101318359375
           ],
           "toffset": 0,
           "vox_offset": 0,
           "xyzt_units": 2
          },
          "subject": "07",
          "task": "run4"
         },
         "subdir": "output",
         "tags": [
          "12_16_2020"
         ]
        },
        "path": "5fda36b50d4b105d2b9038cc/5fdacda30d4b105d2b90409c/anat",
        "task_id": "5fdacda30d4b105d2b90409c"
       },
       {
        "app": {},
        "datatype": "neuro/func/task",
        "finish_date": "2020-12-17T08:58:46.237Z",
        "output": {
         "archive": {
          "desc": "",
          "project": "5fda367856422f36d2f97a51"
         },
         "datatype": "59b685a08e5d38b0b331ddc5",
         "datatype_tags": [
          "run4",
          "preprocessed"
         ],
         "id": "bold_img",
         "meta": {
          "EchoTime": 0.03,
          "EffectiveEchoSpacing": 0.000370002,
          "FlipAngle": 90,
          "ImageType": [
           "ORIGINAL",
           "PRIMARY",
           "M",
           "ND",
           "NORM",
           "MOS"
          ],
          "MagneticFieldStrength": 3,
          "Manufacturer": "Siemens",
          "ManufacturersModelName": "TrioTim",
          "PhaseEncodingDirection": "j-",
          "PulseSequenceType": "Gradient Echo EPI",
          "RepetitionTime": 2.5,
          "SliceTiming": [
           0,
           1.285,
           0.0625,
           1.35,
           0.1275,
           1.415,
           0.1925,
           1.48,
           0.2575,
           1.5425,
           0.32,
           1.6075,
           0.385,
           1.6725,
           0.45,
           1.7375,
           0.515,
           1.8,
           0.5775,
           1.865,
           0.6425,
           1.93,
           0.7075,
           1.995,
           0.7725,
           2.0575,
           0.835,
           2.1225,
           0.9,
           2.1875,
           0.965,
           2.2525,
           1.03,
           2.315,
           1.0925,
           2.38,
           1.1575,
           2.445,
           1.2225
          ],
          "TaskName": "Experimental Run 4",
          "freesurfer_version": "7.1.0",
          "nifti_headers": {
           "aux_file": "",
           "base_affine": [
            [
             -2,
             0,
             0,
             68
            ],
            [
             0,
             2,
             0,
             -80
            ],
            [
             0,
             0,
             3,
             -70.5
            ],
            [
             0,
             0,
             0,
             1
            ]
           ],
           "bitpix": 16,
           "cal_max": 2257.4619140625,
           "cal_min": -110.48664093017578,
           "data_type": "",
           "datatype": 4,
           "db_name": "",
           "descrip": "xform matrices modified by FixHeaderApplyTransforms (niworkflows v1.3.2).",
           "dim": [
            4,
            69,
            81,
            48,
            260,
            1,
            1,
            1
           ],
           "dim_info": 0,
           "extents": 0,
           "glmax": 0,
           "glmin": 0,
           "intent_code": 0,
           "intent_name": "",
           "intent_p1": 0,
           "intent_p2": 0,
           "intent_p3": 0,
           "magic": "n+1",
           "pixdim": [
            1,
            2,
            2,
            3,
            2.5,
            1,
            1,
            1
           ],
           "qform_code": 2,
           "qoffset_x": -76.10332489013672,
           "qoffset_y": -13.241701126098633,
           "qoffset_z": -77.41433715820312,
           "quatern_b": 0,
           "quatern_c": 0,
           "quatern_d": 0,
           "regular": "r",
           "scl_inter": null,
           "scl_slope": null,
           "session_error": 0,
           "sform_code": 2,
           "sizeof_hdr": 348,
           "slice_code": 0,
           "slice_duration": 0,
           "slice_end": 0,
           "slice_start": 0,
           "srow_x": [
            2,
            0,
            0,
            -76.10332489013672
           ],
           "srow_y": [
            0,
            2,
            0,
            -13.241701126098633
           ],
           "srow_z": [
            0,
            0,
            3,
            -77.41433715820312
           ],
           "toffset": 0,
           "vox_offset": 0,
           "xyzt_units": 10
          },
          "space": "T1w",
          "subject": "07",
          "task": "run4"
         },
         "subdir": "output",
         "tags": [
          "12_16_2020"
         ]
        },
        "path": "5fda36b50d4b105d2b9038cc/5fdacda30d4b105d2b90409c/bold_img",
        "task_id": "5fdacda30d4b105d2b90409c"
       },
       {
        "app": {},
        "datatype": "neuro/anat/t1w",
        "finish_date": "2020-12-17T20:53:09.984Z",
        "output": {
         "datatype": "58c33bcee13a50849b25879a",
         "datatype_tags": [
          "acpc_aligned",
          "preprocessed"
         ],
         "desc": "HCP ACPC Alignment (T1)",
         "id": "output",
         "meta": {
          "EchoTime": 0.03,
          "EffectiveEchoSpacing": 0.000370002,
          "FlipAngle": 90,
          "ImageType": [
           "ORIGINAL",
           "PRIMARY",
           "M",
           "ND",
           "NORM",
           "MOS"
          ],
          "MagneticFieldStrength": 3,
          "Manufacturer": "Siemens",
          "ManufacturersModelName": "TrioTim",
          "PhaseEncodingDirection": "j-",
          "PulseSequenceType": "Gradient Echo EPI",
          "RepetitionTime": 2.5,
          "SkullStripped": false,
          "SliceTiming": [
           0,
           1.2875,
           0.065,
           1.3525,
           0.13,
           1.415,
           0.1925,
           1.48,
           0.2575,
           1.545,
           0.3225,
           1.61,
           0.3875,
           1.6725,
           0.45,
           1.7375,
           0.515,
           1.8025,
           0.58,
           1.8675,
           0.6425,
           1.93,
           0.7075,
           1.995,
           0.7725,
           2.06,
           0.8375,
           2.1225,
           0.9,
           2.1875,
           0.965,
           2.2525,
           1.03,
           2.3175,
           1.095,
           2.38,
           1.1575,
           2.445,
           1.2225
          ],
          "Space": "MNI152NLin6Asym",
          "TaskName": "Experimental Run 4",
          "freesurfer_version": "7.1.0",
          "nifti_headers": {
           "aux_file": "",
           "base_affine": [
            [
             -1,
             0,
             0,
             90.5
            ],
            [
             0,
             1,
             0,
             -108.5
            ],
            [
             0,
             0,
             1,
             -90.5
            ],
            [
             0,
             0,
             0,
             1
            ]
           ],
           "bitpix": 32,
           "cal_max": 0,
           "cal_min": 0,
           "data_type": "",
           "datatype": 16,
           "db_name": "",
           "descrip": "FSL5.0",
           "dim": [
            3,
            182,
            218,
            182,
            1,
            1,
            1,
            1
           ],
           "dim_info": 0,
           "extents": 0,
           "glmax": 0,
           "glmin": 0,
           "intent_code": 0,
           "intent_name": "",
           "intent_p1": 0,
           "intent_p2": 0,
           "intent_p3": 0,
           "magic": "n+1",
           "pixdim": [
            -1,
            1,
            1,
            1,
            1.899999976158142,
            0,
            0,
            0
           ],
           "qform_code": 4,
           "qoffset_x": 90,
           "qoffset_y": -126,
           "qoffset_z": -72,
           "quatern_b": 0,
           "quatern_c": 1,
           "quatern_d": 0,
           "regular": "r",
           "scl_inter": null,
           "scl_slope": null,
           "session_error": 0,
           "sform_code": 4,
           "sizeof_hdr": 348,
           "slice_code": 0,
           "slice_duration": 0,
           "slice_end": 0,
           "slice_start": 0,
           "srow_x": [
            -1,
            0,
            0,
            90
           ],
           "srow_y": [
            0,
            1,
            0,
            -126
           ],
           "srow_z": [
            0,
            0,
            1,
            -72
           ],
           "toffset": 0,
           "vox_offset": 0,
           "xyzt_units": 10
          },
          "subject": "01",
          "task": "run4"
         },
         "subdir": "output",
         "tags": []
        },
        "path": "5fdbc3510d4b105d2b9044c8/5fdbc4660d4b105d2b9044f6/output",
        "task_id": "5fdbc4660d4b105d2b9044f6"
       },
       {
        "app": {},
        "datatype": "neuro/freesurfer",
        "finish_date": "2020-12-22T23:47:07.219Z",
        "output": {
         "datatype": "58cb22c8e13a50849b25882e",
         "datatype_tags": [
          "acpc_aligned",
          "preprocessed"
         ],
         "desc": "Freesurfer",
         "id": "freesurfer",
         "meta": {
          "EchoTime": 0.03,
          "EffectiveEchoSpacing": 0.000370002,
          "FlipAngle": 90,
          "ImageType": [
           "ORIGINAL",
           "PRIMARY",
           "M",
           "ND",
           "NORM",
           "MOS"
          ],
          "MagneticFieldStrength": 3,
          "Manufacturer": "Siemens",
          "ManufacturersModelName": "TrioTim",
          "PhaseEncodingDirection": "j-",
          "PulseSequenceType": "Gradient Echo EPI",
          "RepetitionTime": 2.5,
          "SkullStripped": false,
          "SliceTiming": [
           0,
           1.2875,
           0.065,
           1.3525,
           0.13,
           1.415,
           0.1925,
           1.48,
           0.2575,
           1.545,
           0.3225,
           1.61,
           0.3875,
           1.6725,
           0.45,
           1.7375,
           0.515,
           1.8025,
           0.58,
           1.8675,
           0.6425,
           1.93,
           0.7075,
           1.995,
           0.7725,
           2.06,
           0.8375,
           2.1225,
           0.9,
           2.1875,
           0.965,
           2.2525,
           1.03,
           2.3175,
           1.095,
           2.38,
           1.1575,
           2.445,
           1.2225
          ],
          "TaskName": "Experimental Run 4",
          "freesurfer_version": "7.1.0",
          "nifti_headers": {
           "aux_file": "",
           "base_affine": [
            [
             -0.9999998211860657,
             0,
             0,
             95.49998292326927
            ],
            [
             0,
             0.9375,
             0,
             -119.53125
            ],
            [
             0,
             0,
             0.9375,
             -119.53125
            ],
            [
             0,
             0,
             0,
             1
            ]
           ],
           "bitpix": 32,
           "cal_max": 0,
           "cal_min": 0,
           "data_type": "",
           "datatype": 16,
           "db_name": "",
           "descrip": "xform matrices modified by CopyXForm (niworkflows v1.3.2).",
           "dim": [
            3,
            192,
            256,
            256,
            1,
            1,
            1,
            1
           ],
           "dim_info": 0,
           "extents": 0,
           "glmax": 0,
           "glmin": 0,
           "intent_code": 0,
           "intent_name": "",
           "intent_p1": 0,
           "intent_p2": 0,
           "intent_p3": 0,
           "magic": "n+1",
           "pixdim": [
            1,
            0.9999998211860657,
            0.9375,
            0.9375,
            1.899999976158142,
            1,
            1,
            1
           ],
           "qform_code": 1,
           "qoffset_x": -96.31549835205078,
           "qoffset_y": -79.80378723144531,
           "qoffset_z": -78.58184814453125,
           "quatern_b": -0.18476609885692596,
           "quatern_c": -0.00782835390418768,
           "quatern_d": 0.003855943214148283,
           "regular": "",
           "scl_inter": null,
           "scl_slope": null,
           "session_error": 0,
           "sform_code": 1,
           "sizeof_hdr": 348,
           "slice_code": 0,
           "slice_duration": 0,
           "slice_end": 0,
           "slice_start": 0,
           "srow_x": [
            0.9998475313186646,
            -0.004393105395138264,
            -0.015760714188218117,
            -96.31549835205078
           ],
           "srow_y": [
            0.010471636429429054,
            0.873462438583374,
            0.34040164947509766,
            -79.80378723144531
           ],
           "srow_z": [
            0.01396163459867239,
            -0.3405148386955261,
            0.8733753561973572,
            -78.58184814453125
           ],
           "toffset": 0,
           "vox_offset": 0,
           "xyzt_units": 2
          },
          "subject": "01",
          "task": "run4"
         },
         "subdir": "output",
         "tags": []
        },
        "path": "5fdbc3510d4b105d2b9044c8/5fe248267d117131b3ceb413/freesurfer",
        "task_id": "5fe248267d117131b3ceb413"
       },
       {
        "app": {},
        "datatype": "neuro/anat/t1w",
        "finish_date": "2021-01-21T09:34:04.070Z",
        "output": {
         "datatype": "58c33bcee13a50849b25879a",
         "datatype_tags": [
          "acpc_aligned",
          "preprocessed"
         ],
         "desc": "HCP ACPC Alignment (T1)",
         "files": null,
         "id": "output",
         "meta": {
          "EchoTime": 0.03,
          "EffectiveEchoSpacing": 0.000370002,
          "FlipAngle": 90,
          "ImageType": [
           "ORIGINAL",
           "PRIMARY",
           "M",
           "ND",
           "NORM",
           "MOS"
          ],
          "MagneticFieldStrength": 3,
          "Manufacturer": "Siemens",
          "ManufacturersModelName": "TrioTim",
          "PhaseEncodingDirection": "j-",
          "PulseSequenceType": "Gradient Echo EPI",
          "RepetitionTime": 2.5,
          "SkullStripped": false,
          "SliceTiming": [
           0,
           1.2875,
           0.065,
           1.3525,
           0.13,
           1.415,
           0.1925,
           1.48,
           0.2575,
           1.545,
           0.3225,
           1.61,
           0.3875,
           1.6725,
           0.45,
           1.7375,
           0.515,
           1.8025,
           0.58,
           1.8675,
           0.6425,
           1.93,
           0.7075,
           1.995,
           0.7725,
           2.06,
           0.8375,
           2.1225,
           0.9,
           2.1875,
           0.965,
           2.2525,
           1.03,
           2.3175,
           1.095,
           2.38,
           1.1575,
           2.445,
           1.2225
          ],
          "Space": "MNI152NLin6Asym",
          "TaskName": "Experimental Run 4",
          "freesurfer_version": "7.1.0",
          "nifti_headers": {
           "aux_file": "",
           "base_affine": [
            [
             -1,
             0,
             0,
             90.5
            ],
            [
             0,
             1,
             0,
             -108.5
            ],
            [
             0,
             0,
             1,
             -90.5
            ],
            [
             0,
             0,
             0,
             1
            ]
           ],
           "bitpix": 32,
           "cal_max": 0,
           "cal_min": 0,
           "data_type": "",
           "datatype": 16,
           "db_name": "",
           "descrip": "FSL5.0",
           "dim": [
            3,
            182,
            218,
            182,
            1,
            1,
            1,
            1
           ],
           "dim_info": 0,
           "extents": 0,
           "glmax": 0,
           "glmin": 0,
           "intent_code": 0,
           "intent_name": "",
           "intent_p1": 0,
           "intent_p2": 0,
           "intent_p3": 0,
           "magic": "n+1",
           "pixdim": [
            -1,
            1,
            1,
            1,
            1.899999976158142,
            0,
            0,
            0
           ],
           "qform_code": 4,
           "qoffset_x": 90,
           "qoffset_y": -126,
           "qoffset_z": -72,
           "quatern_b": 0,
           "quatern_c": 1,
           "quatern_d": 0,
           "regular": "r",
           "scl_inter": null,
           "scl_slope": null,
           "session_error": 0,
           "sform_code": 4,
           "sizeof_hdr": 348,
           "slice_code": 0,
           "slice_duration": 0,
           "slice_end": 0,
           "slice_start": 0,
           "srow_x": [
            -1,
            0,
            0,
            90
           ],
           "srow_y": [
            0,
            1,
            0,
            -126
           ],
           "srow_z": [
            0,
            0,
            1,
            -72
           ],
           "toffset": 0,
           "vox_offset": 0,
           "xyzt_units": 10
          },
          "subject": "01",
          "task": "run4"
         },
         "subdir": "output",
         "tags": []
        },
        "path": "5fdbc3510d4b105d2b9044c8/5fdbc4660d4b105d2b9044f6/output",
        "task_id": "5fdbc4660d4b105d2b9044f6"
       },
       {
        "app": {},
        "datatype": "neuro/anat/t1w",
        "finish_date": "2021-01-22T06:00:01.425Z",
        "output": {
         "archive": {
          "desc": "",
          "project": "5fda367856422f36d2f97a51"
         },
         "datatype": "58c33bcee13a50849b25879a",
         "datatype_tags": [],
         "desc": "preprocessed t1 (same alignment as the original t1, but level adjusted - editme)",
         "files": null,
         "id": "anat",
         "meta": {
          "EchoTime": 0.03,
          "EffectiveEchoSpacing": 0.000370002,
          "FlipAngle": 90,
          "ImageType": [
           "ORIGINAL",
           "PRIMARY",
           "M",
           "ND",
           "NORM",
           "MOS"
          ],
          "MagneticFieldStrength": 3,
          "Manufacturer": "Siemens",
          "ManufacturersModelName": "TrioTim",
          "PhaseEncodingDirection": "j-",
          "PulseSequenceType": "Gradient Echo EPI",
          "RepetitionTime": 2.5,
          "SkullStripped": false,
          "SliceTiming": [
           0,
           1.285,
           0.0625,
           1.35,
           0.1275,
           1.415,
           0.1925,
           1.48,
           0.255,
           1.5425,
           0.32,
           1.6075,
           0.385,
           1.6725,
           0.45,
           1.735,
           0.5125,
           1.8,
           0.5775,
           1.865,
           0.6425,
           1.93,
           0.7075,
           1.9925,
           0.77,
           2.0575,
           0.835,
           2.1225,
           0.9,
           2.1875,
           0.965,
           2.25,
           1.0275,
           2.315,
           1.0925,
           2.38,
           1.1575,
           2.445,
           1.2225
          ],
          "TaskName": "Experimental Run 4",
          "freesurfer_version": "7.1.0",
          "nifti_headers": {
           "aux_file": "",
           "base_affine": [
            [
             -1.0000052452087402,
             0,
             0,
             95.50050091743469
            ],
            [
             0,
             0.9375,
             0,
             -119.53125
            ],
            [
             0,
             0,
             0.9375,
             -119.53125
            ],
            [
             0,
             0,
             0,
             1
            ]
           ],
           "bitpix": 32,
           "cal_max": 0,
           "cal_min": 0,
           "data_type": "",
           "datatype": 16,
           "db_name": "",
           "descrip": "xform matrices modified by CopyXForm (niworkflows v1.3.2).",
           "dim": [
            3,
            192,
            256,
            256,
            1,
            1,
            1,
            1
           ],
           "dim_info": 0,
           "extents": 0,
           "glmax": 0,
           "glmin": 0,
           "intent_code": 0,
           "intent_name": "",
           "intent_p1": 0,
           "intent_p2": 0,
           "intent_p3": 0,
           "magic": "n+1",
           "pixdim": [
            1,
            1.0000052452087402,
            0.9375,
            0.9375,
            1.899999976158142,
            1,
            1,
            1
           ],
           "qform_code": 1,
           "qoffset_x": -95.48477935791016,
           "qoffset_y": -82.29106140136719,
           "qoffset_z": -76.97712707519531,
           "quatern_b": -0.18967276811599731,
           "quatern_c": -0.02116280607879162,
           "quatern_d": 0.008355975151062012,
           "regular": "",
           "scl_inter": null,
           "scl_slope": null,
           "session_error": 0,
           "sform_code": 1,
           "sizeof_hdr": 348,
           "slice_code": 0,
           "slice_duration": 0,
           "slice_end": 0,
           "slice_start": 0,
           "srow_x": [
            0.9989698529243469,
            -0.007852651178836823,
            -0.04192119091749191,
            -95.48477935791016
           ],
           "srow_y": [
            0.02443232201039791,
            0.8699145317077637,
            0.3487553596496582,
            -82.29106140136719
           ],
           "srow_z": [
            0.03837652876973152,
            -0.3494184911251068,
            0.8692057132720947,
            -76.97712707519531
           ],
           "toffset": 0,
           "vox_offset": 0,
           "xyzt_units": 2
          },
          "subject": "10",
          "task": "run4"
         },
         "subdir": "output",
         "tags": [
          "12_16_2020"
         ]
        },
        "path": "5fda36b60d4b105d2b9038de/5fdacda40d4b105d2b9040b7/anat",
        "task_id": "5fdacda40d4b105d2b9040b7"
       },
       {
        "app": {},
        "datatype": "neuro/func/task",
        "finish_date": "2021-01-22T06:00:02.261Z",
        "output": {
         "archive": {
          "desc": "",
          "project": "5fda367856422f36d2f97a51"
         },
         "datatype": "59b685a08e5d38b0b331ddc5",
         "datatype_tags": [
          "run4",
          "preprocessed"
         ],
         "files": null,
         "id": "bold_img",
         "meta": {
          "EchoTime": 0.03,
          "EffectiveEchoSpacing": 0.000370002,
          "FlipAngle": 90,
          "ImageType": [
           "ORIGINAL",
           "PRIMARY",
           "M",
           "ND",
           "NORM",
           "MOS"
          ],
          "MagneticFieldStrength": 3,
          "Manufacturer": "Siemens",
          "ManufacturersModelName": "TrioTim",
          "PhaseEncodingDirection": "j-",
          "PulseSequenceType": "Gradient Echo EPI",
          "RepetitionTime": 2.5,
          "SliceTiming": [
           0,
           1.285,
           0.0625,
           1.35,
           0.1275,
           1.415,
           0.1925,
           1.48,
           0.255,
           1.5425,
           0.32,
           1.6075,
           0.385,
           1.6725,
           0.45,
           1.735,
           0.5125,
           1.8,
           0.5775,
           1.865,
           0.6425,
           1.93,
           0.7075,
           1.9925,
           0.77,
           2.0575,
           0.835,
           2.1225,
           0.9,
           2.1875,
           0.965,
           2.25,
           1.0275,
           2.315,
           1.0925,
           2.38,
           1.1575,
           2.445,
           1.2225
          ],
          "TaskName": "Experimental Run 4",
          "freesurfer_version": "7.1.0",
          "nifti_headers": {
           "aux_file": "",
           "base_affine": [
            [
             -2,
             0,
             0,
             66
            ],
            [
             0,
             2,
             0,
             -85
            ],
            [
             0,
             0,
             3,
             -70.5
            ],
            [
             0,
             0,
             0,
             1
            ]
           ],
           "bitpix": 16,
           "cal_max": 1650.6982421875,
           "cal_min": -99.54867553710938,
           "data_type": "",
           "datatype": 4,
           "db_name": "",
           "descrip": "xform matrices modified by FixHeaderApplyTransforms (niworkflows v1.3.2).",
           "dim": [
            4,
            67,
            86,
            48,
            260,
            1,
            1,
            1
           ],
           "dim_info": 0,
           "extents": 0,
           "glmax": 0,
           "glmin": 0,
           "intent_code": 0,
           "intent_name": "",
           "intent_p1": 0,
           "intent_p2": 0,
           "intent_p3": 0,
           "magic": "n+1",
           "pixdim": [
            1,
            2,
            2,
            3,
            2.5,
            1,
            1,
            1
           ],
           "qform_code": 2,
           "qoffset_x": -70.17710876464844,
           "qoffset_y": -14.291061401367188,
           "qoffset_z": -82.07884216308594,
           "quatern_b": 0,
           "quatern_c": 0,
           "quatern_d": 0,
           "regular": "r",
           "scl_inter": null,
           "scl_slope": null,
           "session_error": 0,
           "sform_code": 2,
           "sizeof_hdr": 348,
           "slice_code": 0,
           "slice_duration": 0,
           "slice_end": 0,
           "slice_start": 0,
           "srow_x": [
            2,
            0,
            0,
            -70.17710876464844
           ],
           "srow_y": [
            0,
            2,
            0,
            -14.291061401367188
           ],
           "srow_z": [
            0,
            0,
            3,
            -82.07884216308594
           ],
           "toffset": 0,
           "vox_offset": 0,
           "xyzt_units": 10
          },
          "space": "T1w",
          "subject": "10",
          "task": "run4"
         },
         "subdir": "output",
         "tags": [
          "12_16_2020"
         ]
        },
        "path": "5fda36b60d4b105d2b9038de/5fdacda40d4b105d2b9040b7/bold_img",
        "task_id": "5fdacda40d4b105d2b9040b7"
       },
       {
        "app": {},
        "datatype": "neuro/func/task",
        "finish_date": "2021-01-22T06:00:04.905Z",
        "output": {
         "archive": {
          "desc": "",
          "project": "5fda367856422f36d2f97a51"
         },
         "datatype": "59b685a08e5d38b0b331ddc5",
         "datatype_tags": [
          "run4",
          "preprocessed"
         ],
         "files": null,
         "id": "bold_img",
         "meta": {
          "EchoTime": 0.03,
          "EffectiveEchoSpacing": 0.000370002,
          "FlipAngle": 90,
          "ImageType": [
           "ORIGINAL",
           "PRIMARY",
           "M",
           "ND",
           "NORM",
           "MOS"
          ],
          "MagneticFieldStrength": 3,
          "Manufacturer": "Siemens",
          "ManufacturersModelName": "TrioTim",
          "PhaseEncodingDirection": "j-",
          "PulseSequenceType": "Gradient Echo EPI",
          "RepetitionTime": 2.5,
          "SliceTiming": [
           0,
           1.2875,
           0.065,
           1.35,
           0.1275,
           1.415,
           0.1925,
           1.48,
           0.2575,
           1.545,
           0.3225,
           1.6075,
           0.385,
           1.6725,
           0.45,
           1.7375,
           0.515,
           1.8025,
           0.58,
           1.865,
           0.6425,
           1.93,
           0.7075,
           1.995,
           0.7725,
           2.06,
           0.8375,
           2.1225,
           0.9,
           2.1875,
           0.965,
           2.2525,
           1.03,
           2.3175,
           1.095,
           2.38,
           1.1575,
           2.445,
           1.2225
          ],
          "TaskName": "Experimental Run 4",
          "freesurfer_version": "7.1.0",
          "nifti_headers": {
           "aux_file": "",
           "base_affine": [
            [
             -2,
             0,
             0,
             73
            ],
            [
             0,
             2,
             0,
             -89
            ],
            [
             0,
             0,
             3,
             -72
            ],
            [
             0,
             0,
             0,
             1
            ]
           ],
           "bitpix": 16,
           "cal_max": 1981.5745849609375,
           "cal_min": -102.58302307128906,
           "data_type": "",
           "datatype": 4,
           "db_name": "",
           "descrip": "xform matrices modified by FixHeaderApplyTransforms (niworkflows v1.3.2).",
           "dim": [
            4,
            74,
            90,
            49,
            260,
            1,
            1,
            1
           ],
           "dim_info": 0,
           "extents": 0,
           "glmax": 0,
           "glmin": 0,
           "intent_code": 0,
           "intent_name": "",
           "intent_p1": 0,
           "intent_p2": 0,
           "intent_p3": 0,
           "magic": "n+1",
           "pixdim": [
            1,
            2,
            2,
            3,
            2.5,
            1,
            1,
            1
           ],
           "qform_code": 2,
           "qoffset_x": -70.0077896118164,
           "qoffset_y": -8.775880813598633,
           "qoffset_z": -91.5418701171875,
           "quatern_b": 0,
           "quatern_c": 0,
           "quatern_d": 0,
           "regular": "r",
           "scl_inter": null,
           "scl_slope": null,
           "session_error": 0,
           "sform_code": 2,
           "sizeof_hdr": 348,
           "slice_code": 0,
           "slice_duration": 0,
           "slice_end": 0,
           "slice_start": 0,
           "srow_x": [
            2,
            0,
            0,
            -70.0077896118164
           ],
           "srow_y": [
            0,
            2,
            0,
            -8.775880813598633
           ],
           "srow_z": [
            0,
            0,
            3,
            -91.5418701171875
           ],
           "toffset": 0,
           "vox_offset": 0,
           "xyzt_units": 10
          },
          "space": "T1w",
          "subject": "11",
          "task": "run4"
         },
         "subdir": "output",
         "tags": [
          "12_16_2020"
         ]
        },
        "path": "5fda36b60d4b105d2b9038e4/5fdacda40d4b105d2b9040bc/bold_img",
        "task_id": "5fdacda40d4b105d2b9040bc"
       },
       {
        "app": {},
        "datatype": "neuro/anat/t1w",
        "finish_date": "2021-01-22T06:00:07.467Z",
        "output": {
         "archive": {
          "desc": "",
          "project": "5fda367856422f36d2f97a51"
         },
         "datatype": "58c33bcee13a50849b25879a",
         "datatype_tags": [],
         "desc": "preprocessed t1 (same alignment as the original t1, but level adjusted - editme)",
         "files": null,
         "id": "anat",
         "meta": {
          "EchoTime": 0.03,
          "EffectiveEchoSpacing": 0.000370002,
          "FlipAngle": 90,
          "ImageType": [
           "ORIGINAL",
           "PRIMARY",
           "M",
           "ND",
           "NORM",
           "MOS"
          ],
          "MagneticFieldStrength": 3,
          "Manufacturer": "Siemens",
          "ManufacturersModelName": "TrioTim",
          "PhaseEncodingDirection": "j-",
          "PulseSequenceType": "Gradient Echo EPI",
          "RepetitionTime": 2.5,
          "SkullStripped": false,
          "SliceTiming": [
           0,
           1.2875,
           0.065,
           1.35,
           0.1275,
           1.415,
           0.1925,
           1.48,
           0.2575,
           1.545,
           0.3225,
           1.6075,
           0.385,
           1.6725,
           0.45,
           1.7375,
           0.515,
           1.8025,
           0.58,
           1.865,
           0.6425,
           1.93,
           0.7075,
           1.995,
           0.7725,
           2.06,
           0.8375,
           2.1225,
           0.9,
           2.1875,
           0.965,
           2.2525,
           1.03,
           2.3175,
           1.095,
           2.38,
           1.1575,
           2.445,
           1.2225
          ],
          "TaskName": "Experimental Run 4",
          "freesurfer_version": "7.1.0",
          "nifti_headers": {
           "aux_file": "",
           "base_affine": [
            [
             -1.0000020265579224,
             0,
             0,
             95.50019353628159
            ],
            [
             0,
             0.9375,
             0,
             -119.53125
            ],
            [
             0,
             0,
             0.9375,
             -119.53125
            ],
            [
             0,
             0,
             0,
             1
            ]
           ],
           "bitpix": 32,
           "cal_max": 0,
           "cal_min": 0,
           "data_type": "",
           "datatype": 16,
           "db_name": "",
           "descrip": "xform matrices modified by CopyXForm (niworkflows v1.3.2).",
           "dim": [
            3,
            192,
            256,
            256,
            1,
            1,
            1,
            1
           ],
           "dim_info": 0,
           "extents": 0,
           "glmax": 0,
           "glmin": 0,
           "intent_code": 0,
           "intent_name": "",
           "intent_p1": 0,
           "intent_p2": 0,
           "intent_p3": 0,
           "magic": "n+1",
           "pixdim": [
            1,
            1.0000020265579224,
            0.9375,
            0.9375,
            1.899999976158142,
            1,
            1,
            1
           ],
           "qform_code": 1,
           "qoffset_x": -116.0077896118164,
           "qoffset_y": -63.17991638183594,
           "qoffset_z": -85.04377746582031,
           "quatern_b": -0.19640102982521057,
           "quatern_c": 0.05993436276912689,
           "quatern_d": -0.056530870497226715,
           "regular": "",
           "scl_inter": null,
           "scl_slope": null,
           "session_error": 0,
           "sform_code": 1,
           "sizeof_hdr": 348,
           "slice_code": 0,
           "slice_duration": 0,
           "slice_end": 0,
           "slice_start": 0,
           "srow_x": [
            0.9864262938499451,
            0.08149250596761703,
            0.1306161731481552,
            -116.0077896118164
           ],
           "srow_y": [
            -0.13401028513908386,
            0.8591829538345337,
            0.35345005989074707,
            -63.17991638183594
           ],
           "srow_z": [
            -0.09491322934627533,
            -0.36615556478500366,
            0.8584396839141846,
            -85.04377746582031
           ],
           "toffset": 0,
           "vox_offset": 0,
           "xyzt_units": 2
          },
          "subject": "11",
          "task": "run4"
         },
         "subdir": "output",
         "tags": [
          "12_16_2020"
         ]
        },
        "path": "5fda36b60d4b105d2b9038e4/5fdacda40d4b105d2b9040bc/anat",
        "task_id": "5fdacda40d4b105d2b9040bc"
       },
       {
        "app": {},
        "datatype": "neuro/func/task",
        "finish_date": "2021-01-22T06:00:09.768Z",
        "output": {
         "archive": {
          "desc": "",
          "project": "5fda367856422f36d2f97a51"
         },
         "datatype": "59b685a08e5d38b0b331ddc5",
         "datatype_tags": [
          "run4",
          "preprocessed"
         ],
         "files": null,
         "id": "bold_img",
         "meta": {
          "EchoTime": 0.03,
          "EffectiveEchoSpacing": 0.000370002,
          "FlipAngle": 90,
          "ImageType": [
           "ORIGINAL",
           "PRIMARY",
           "M",
           "ND",
           "NORM",
           "MOS"
          ],
          "MagneticFieldStrength": 3,
          "Manufacturer": "Siemens",
          "ManufacturersModelName": "TrioTim",
          "PhaseEncodingDirection": "j-",
          "PulseSequenceType": "Gradient Echo EPI",
          "RepetitionTime": 2.5,
          "SliceTiming": [
           0,
           1.2875,
           0.065,
           1.3525,
           0.13,
           1.415,
           0.1925,
           1.48,
           0.2575,
           1.545,
           0.3225,
           1.61,
           0.3875,
           1.6725,
           0.45,
           1.7375,
           0.515,
           1.8025,
           0.58,
           1.8675,
           0.645,
           1.93,
           0.7075,
           1.995,
           0.7725,
           2.06,
           0.8375,
           2.125,
           0.9025,
           2.1875,
           0.965,
           2.2525,
           1.03,
           2.3175,
           1.095,
           2.3825,
           1.16,
           2.445,
           1.2225
          ],
          "TaskName": "Experimental Run 4",
          "freesurfer_version": "7.1.0",
          "nifti_headers": {
           "aux_file": "",
           "base_affine": [
            [
             -2,
             0,
             0,
             71
            ],
            [
             0,
             2,
             0,
             -86
            ],
            [
             0,
             0,
             3,
             -69
            ],
            [
             0,
             0,
             0,
             1
            ]
           ],
           "bitpix": 16,
           "cal_max": 1832.5079345703125,
           "cal_min": -97.96730041503906,
           "data_type": "",
           "datatype": 4,
           "db_name": "",
           "descrip": "xform matrices modified by FixHeaderApplyTransforms (niworkflows v1.3.2).",
           "dim": [
            4,
            72,
            87,
            47,
            260,
            1,
            1,
            1
           ],
           "dim_info": 0,
           "extents": 0,
           "glmax": 0,
           "glmin": 0,
           "intent_code": 0,
           "intent_name": "",
           "intent_p1": 0,
           "intent_p2": 0,
           "intent_p3": 0,
           "magic": "n+1",
           "pixdim": [
            1,
            2,
            2,
            3,
            2.5,
            1,
            1,
            1
           ],
           "qform_code": 2,
           "qoffset_x": -72.8313980102539,
           "qoffset_y": -7.847199440002441,
           "qoffset_z": -69.9315414428711,
           "quatern_b": 0,
           "quatern_c": 0,
           "quatern_d": 0,
           "regular": "r",
           "scl_inter": null,
           "scl_slope": null,
           "session_error": 0,
           "sform_code": 2,
           "sizeof_hdr": 348,
           "slice_code": 0,
           "slice_duration": 0,
           "slice_end": 0,
           "slice_start": 0,
           "srow_x": [
            2,
            0,
            0,
            -72.8313980102539
           ],
           "srow_y": [
            0,
            2,
            0,
            -7.847199440002441
           ],
           "srow_z": [
            0,
            0,
            3,
            -69.9315414428711
           ],
           "toffset": 0,
           "vox_offset": 0,
           "xyzt_units": 10
          },
          "space": "T1w",
          "subject": "12",
          "task": "run4"
         },
         "subdir": "output",
         "tags": [
          "12_16_2020"
         ]
        },
        "path": "5fda36b60d4b105d2b9038ea/5fdacda40d4b105d2b9040c7/bold_img",
        "task_id": "5fdacda40d4b105d2b9040c7"
       },
       {
        "app": {},
        "datatype": "neuro/anat/t1w",
        "finish_date": "2021-01-22T06:00:10.817Z",
        "output": {
         "archive": {
          "desc": "",
          "project": "5fda367856422f36d2f97a51"
         },
         "datatype": "58c33bcee13a50849b25879a",
         "datatype_tags": [],
         "desc": "preprocessed t1 (same alignment as the original t1, but level adjusted - editme)",
         "files": null,
         "id": "anat",
         "meta": {
          "EchoTime": 0.03,
          "EffectiveEchoSpacing": 0.000370002,
          "FlipAngle": 90,
          "ImageType": [
           "ORIGINAL",
           "PRIMARY",
           "M",
           "ND",
           "NORM",
           "MOS"
          ],
          "MagneticFieldStrength": 3,
          "Manufacturer": "Siemens",
          "ManufacturersModelName": "TrioTim",
          "PhaseEncodingDirection": "j-",
          "PulseSequenceType": "Gradient Echo EPI",
          "RepetitionTime": 2.5,
          "SkullStripped": false,
          "SliceTiming": [
           0,
           1.2875,
           0.065,
           1.3525,
           0.13,
           1.415,
           0.1925,
           1.48,
           0.2575,
           1.545,
           0.3225,
           1.61,
           0.3875,
           1.6725,
           0.45,
           1.7375,
           0.515,
           1.8025,
           0.58,
           1.8675,
           0.645,
           1.93,
           0.7075,
           1.995,
           0.7725,
           2.06,
           0.8375,
           2.125,
           0.9025,
           2.1875,
           0.965,
           2.2525,
           1.03,
           2.3175,
           1.095,
           2.3825,
           1.16,
           2.445,
           1.2225
          ],
          "TaskName": "Experimental Run 4",
          "freesurfer_version": "7.1.0",
          "nifti_headers": {
           "aux_file": "",
           "base_affine": [
            [
             -0.9999964833259583,
             0,
             0,
             95.49966415762901
            ],
            [
             0,
             0.9375,
             0,
             -119.53125
            ],
            [
             0,
             0,
             0.9375,
             -119.53125
            ],
            [
             0,
             0,
             0,
             1
            ]
           ],
           "bitpix": 32,
           "cal_max": 0,
           "cal_min": 0,
           "data_type": "",
           "datatype": 16,
           "db_name": "",
           "descrip": "xform matrices modified by CopyXForm (niworkflows v1.3.2).",
           "dim": [
            3,
            192,
            256,
            256,
            1,
            1,
            1,
            1
           ],
           "dim_info": 0,
           "extents": 0,
           "glmax": 0,
           "glmin": 0,
           "intent_code": 0,
           "intent_name": "",
           "intent_p1": 0,
           "intent_p2": 0,
           "intent_p3": 0,
           "magic": "n+1",
           "pixdim": [
            1,
            0.9999964833259583,
            0.9375,
            0.9375,
            1.899999976158142,
            1,
            1,
            1
           ],
           "qform_code": 1,
           "qoffset_x": -106.8313980102539,
           "qoffset_y": -72.51982116699219,
           "qoffset_z": -57.964046478271484,
           "quatern_b": -0.24343162775039673,
           "quatern_c": 0.009764671325683594,
           "quatern_d": -0.02813512086868286,
           "regular": "",
           "scl_inter": null,
           "scl_slope": null,
           "session_error": 0,
           "sform_code": 1,
           "sizeof_hdr": 348,
           "slice_code": 0,
           "slice_duration": 0,
           "slice_end": 0,
           "slice_start": 0,
           "srow_x": [
            0.9982226490974426,
            0.04668537154793739,
            0.030591456219553947,
            -106.8313980102539
           ],
           "srow_y": [
            -0.059305645525455475,
            0.8249052166938782,
            0.4419800043106079,
            -72.51982116699219
           ],
           "srow_z": [
            -0.005234955344349146,
            -0.44301027059555054,
            0.8262106776237488,
            -57.964046478271484
           ],
           "toffset": 0,
           "vox_offset": 0,
           "xyzt_units": 2
          },
          "subject": "12",
          "task": "run4"
         },
         "subdir": "output",
         "tags": [
          "12_16_2020"
         ]
        },
        "path": "5fda36b60d4b105d2b9038ea/5fdacda40d4b105d2b9040c7/anat",
        "task_id": "5fdacda40d4b105d2b9040c7"
       },
       {
        "app": {},
        "datatype": "neuro/func/task",
        "finish_date": "2021-01-22T06:00:16.016Z",
        "output": {
         "archive": {
          "desc": "",
          "project": "5fda367856422f36d2f97a51"
         },
         "datatype": "59b685a08e5d38b0b331ddc5",
         "datatype_tags": [
          "run4",
          "preprocessed"
         ],
         "files": null,
         "id": "bold_img",
         "meta": {
          "EchoTime": 0.03,
          "EffectiveEchoSpacing": 0.000390006,
          "FlipAngle": 90,
          "ImageType": [
           "ORIGINAL",
           "PRIMARY",
           "M",
           "ND",
           "NORM",
           "MOS"
          ],
          "MagneticFieldStrength": 3,
          "Manufacturer": "Siemens",
          "ManufacturersModelName": "TrioTim",
          "PhaseEncodingDirection": "j-",
          "PulseSequenceType": "Gradient Echo EPI",
          "RepetitionTime": 2.5,
          "SliceTiming": [
           0,
           1.2875,
           0.065,
           1.3525,
           0.1275,
           1.415,
           0.1925,
           1.48,
           0.2575,
           1.545,
           0.3225,
           1.6075,
           0.385,
           1.6725,
           0.45,
           1.7375,
           0.515,
           1.8025,
           0.58,
           1.865,
           0.6425,
           1.93,
           0.7075,
           1.995,
           0.7725,
           2.06,
           0.8375,
           2.1225,
           0.9,
           2.1875,
           0.965,
           2.2525,
           1.03,
           2.3175,
           1.095,
           2.38,
           1.1575,
           2.445,
           1.2225
          ],
          "TaskName": "Experimental Run 4",
          "freesurfer_version": "7.1.0",
          "nifti_headers": {
           "aux_file": "",
           "base_affine": [
            [
             -2,
             0,
             0,
             69
            ],
            [
             0,
             2,
             0,
             -83
            ],
            [
             0,
             0,
             3,
             -70.5
            ],
            [
             0,
             0,
             0,
             1
            ]
           ],
           "bitpix": 16,
           "cal_max": 1171.6385498046875,
           "cal_min": -58.23539733886719,
           "data_type": "",
           "datatype": 4,
           "db_name": "",
           "descrip": "xform matrices modified by FixHeaderApplyTransforms (niworkflows v1.3.2).",
           "dim": [
            4,
            70,
            84,
            48,
            260,
            1,
            1,
            1
           ],
           "dim_info": 0,
           "extents": 0,
           "glmax": 0,
           "glmin": 0,
           "intent_code": 0,
           "intent_name": "",
           "intent_p1": 0,
           "intent_p2": 0,
           "intent_p3": 0,
           "magic": "n+1",
           "pixdim": [
            1,
            2,
            2,
            3,
            2.5,
            1,
            1,
            1
           ],
           "qform_code": 2,
           "qoffset_x": -68.23706817626953,
           "qoffset_y": -8.104426383972168,
           "qoffset_z": -81.49185943603516,
           "quatern_b": 0,
           "quatern_c": 0,
           "quatern_d": 0,
           "regular": "r",
           "scl_inter": null,
           "scl_slope": null,
           "session_error": 0,
           "sform_code": 2,
           "sizeof_hdr": 348,
           "slice_code": 0,
           "slice_duration": 0,
           "slice_end": 0,
           "slice_start": 0,
           "srow_x": [
            2,
            0,
            0,
            -68.23706817626953
           ],
           "srow_y": [
            0,
            2,
            0,
            -8.104426383972168
           ],
           "srow_z": [
            0,
            0,
            3,
            -81.49185943603516
           ],
           "toffset": 0,
           "vox_offset": 0,
           "xyzt_units": 10
          },
          "space": "T1w",
          "subject": "17",
          "task": "run4"
         },
         "subdir": "output",
         "tags": [
          "12_16_2020"
         ]
        },
        "path": "5fda36b70d4b105d2b903908/5fdacda50d4b105d2b9040ec/bold_img",
        "task_id": "5fdacda50d4b105d2b9040ec"
       },
       {
        "app": {},
        "datatype": "neuro/anat/t1w",
        "finish_date": "2021-01-22T06:00:16.926Z",
        "output": {
         "archive": {
          "desc": "",
          "project": "5fda367856422f36d2f97a51"
         },
         "datatype": "58c33bcee13a50849b25879a",
         "datatype_tags": [],
         "desc": "preprocessed t1 (same alignment as the original t1, but level adjusted - editme)",
         "files": null,
         "id": "anat",
         "meta": {
          "EchoTime": 0.03,
          "EffectiveEchoSpacing": 0.000390006,
          "FlipAngle": 90,
          "ImageType": [
           "ORIGINAL",
           "PRIMARY",
           "M",
           "ND",
           "NORM",
           "MOS"
          ],
          "MagneticFieldStrength": 3,
          "Manufacturer": "Siemens",
          "ManufacturersModelName": "TrioTim",
          "PhaseEncodingDirection": "j-",
          "PulseSequenceType": "Gradient Echo EPI",
          "RepetitionTime": 2.5,
          "SkullStripped": false,
          "SliceTiming": [
           0,
           1.2875,
           0.065,
           1.3525,
           0.1275,
           1.415,
           0.1925,
           1.48,
           0.2575,
           1.545,
           0.3225,
           1.6075,
           0.385,
           1.6725,
           0.45,
           1.7375,
           0.515,
           1.8025,
           0.58,
           1.865,
           0.6425,
           1.93,
           0.7075,
           1.995,
           0.7725,
           2.06,
           0.8375,
           2.1225,
           0.9,
           2.1875,
           0.965,
           2.2525,
           1.03,
           2.3175,
           1.095,
           2.38,
           1.1575,
           2.445,
           1.2225
          ],
          "TaskName": "Experimental Run 4",
          "freesurfer_version": "7.1.0",
          "nifti_headers": {
           "aux_file": "",
           "base_affine": [
            [
             -0.9999986290931702,
             0,
             0,
             95.49986907839775
            ],
            [
             0,
             0.9374999403953552,
             0,
             -119.53124240040779
            ],
            [
             0,
             0,
             0.9375,
             -119.53125
            ],
            [
             0,
             0,
             0,
             1
            ]
           ],
           "bitpix": 32,
           "cal_max": 0,
           "cal_min": 0,
           "data_type": "",
           "datatype": 16,
           "db_name": "",
           "descrip": "xform matrices modified by CopyXForm (niworkflows v1.3.2).",
           "dim": [
            3,
            192,
            256,
            256,
            1,
            1,
            1,
            1
           ],
           "dim_info": 0,
           "extents": 0,
           "glmax": 0,
           "glmin": 0,
           "intent_code": 0,
           "intent_name": "",
           "intent_p1": 0,
           "intent_p2": 0,
           "intent_p3": 0,
           "magic": "n+1",
           "pixdim": [
            1,
            0.9999986290931702,
            0.9374999403953552,
            0.9375,
            1.899999976158142,
            1,
            1,
            1
           ],
           "qform_code": 1,
           "qoffset_x": -114.23706817626953,
           "qoffset_y": -71.82034301757812,
           "qoffset_z": -90.5604476928711,
           "quatern_b": -0.16613107919692993,
           "quatern_c": 0.01571744680404663,
           "quatern_d": -0.05661005899310112,
           "regular": "",
           "scl_inter": null,
           "scl_slope": null,
           "session_error": 0,
           "sform_code": 1,
           "sizeof_hdr": 348,
           "slice_code": 0,
           "slice_duration": 0,
           "slice_end": 0,
           "slice_start": 0,
           "srow_x": [
            0.9930951595306396,
            0.09958698600530624,
            0.04664285480976105,
            -114.23706817626953
           ],
           "srow_y": [
            -0.11667059361934662,
            0.8797420263290405,
            0.3049531579017639,
            -71.82034301757812
           ],
           "srow_z": [
            -0.012133601121604443,
            -0.3082897663116455,
            0.8852876424789429,
            -90.5604476928711
           ],
           "toffset": 0,
           "vox_offset": 0,
           "xyzt_units": 2
          },
          "subject": "17",
          "task": "run4"
         },
         "subdir": "output",
         "tags": [
          "12_16_2020"
         ]
        },
        "path": "5fda36b70d4b105d2b903908/5fdacda50d4b105d2b9040ec/anat",
        "task_id": "5fdacda50d4b105d2b9040ec"
       },
       {
        "app": {},
        "datatype": "neuro/func/task",
        "finish_date": "2021-01-22T06:01:13.395Z",
        "output": {
         "archive": {
          "desc": "",
          "project": "5fda367856422f36d2f97a51"
         },
         "datatype": "59b685a08e5d38b0b331ddc5",
         "datatype_tags": [
          "run4",
          "preprocessed"
         ],
         "files": null,
         "id": "bold_img",
         "meta": {
          "EchoTime": 0.03,
          "EffectiveEchoSpacing": 0.000390006,
          "FlipAngle": 90,
          "ImageType": [
           "ORIGINAL",
           "PRIMARY",
           "M",
           "ND",
           "NORM",
           "MOS"
          ],
          "MagneticFieldStrength": 3,
          "Manufacturer": "Siemens",
          "ManufacturersModelName": "TrioTim",
          "PhaseEncodingDirection": "j-",
          "PulseSequenceType": "Gradient Echo EPI",
          "RepetitionTime": 2.5,
          "SliceTiming": [
           0,
           1.2875,
           0.065,
           1.3525,
           0.13,
           1.415,
           0.1925,
           1.48,
           0.2575,
           1.545,
           0.3225,
           1.61,
           0.3875,
           1.6725,
           0.45,
           1.7375,
           0.515,
           1.8025,
           0.58,
           1.8675,
           0.6425,
           1.93,
           0.7075,
           1.995,
           0.7725,
           2.06,
           0.8375,
           2.1225,
           0.9,
           2.1875,
           0.965,
           2.2525,
           1.03,
           2.3175,
           1.095,
           2.38,
           1.1575,
           2.445,
           1.2225
          ],
          "TaskName": "Experimental Run 4",
          "freesurfer_version": "7.1.0",
          "nifti_headers": {
           "aux_file": "",
           "base_affine": [
            [
             -2,
             0,
             0,
             72
            ],
            [
             0,
             2,
             0,
             -80
            ],
            [
             0,
             0,
             3,
             -73.5
            ],
            [
             0,
             0,
             0,
             1
            ]
           ],
           "bitpix": 16,
           "cal_max": 1228.403076171875,
           "cal_min": -88.80166625976562,
           "data_type": "",
           "datatype": 4,
           "db_name": "",
           "descrip": "xform matrices modified by FixHeaderApplyTransforms (niworkflows v1.3.2).",
           "dim": [
            4,
            73,
            81,
            50,
            260,
            1,
            1,
            1
           ],
           "dim_info": 0,
           "extents": 0,
           "glmax": 0,
           "glmin": 0,
           "intent_code": 0,
           "intent_name": "",
           "intent_p1": 0,
           "intent_p2": 0,
           "intent_p3": 0,
           "magic": "n+1",
           "pixdim": [
            1,
            2,
            2,
            3,
            2.5,
            1,
            1,
            1
           ],
           "qform_code": 2,
           "qoffset_x": -71.34193420410156,
           "qoffset_y": -4.169981956481934,
           "qoffset_z": -90.08531951904297,
           "quatern_b": 0,
           "quatern_c": 0,
           "quatern_d": 0,
           "regular": "r",
           "scl_inter": null,
           "scl_slope": null,
           "session_error": 0,
           "sform_code": 2,
           "sizeof_hdr": 348,
           "slice_code": 0,
           "slice_duration": 0,
           "slice_end": 0,
           "slice_start": 0,
           "srow_x": [
            2,
            0,
            0,
            -71.34193420410156
           ],
           "srow_y": [
            0,
            2,
            0,
            -4.169981956481934
           ],
           "srow_z": [
            0,
            0,
            3,
            -90.08531951904297
           ],
           "toffset": 0,
           "vox_offset": 0,
           "xyzt_units": 10
          },
          "space": "T1w",
          "subject": "16",
          "task": "run4"
         },
         "subdir": "output",
         "tags": [
          "12_16_2020"
         ]
        },
        "path": "5fda36b70d4b105d2b903902/5fdacda50d4b105d2b9040e1/bold_img",
        "task_id": "5fdacda50d4b105d2b9040e1"
       },
       {
        "app": {},
        "datatype": "neuro/anat/t1w",
        "finish_date": "2021-01-22T06:01:14.217Z",
        "output": {
         "archive": {
          "desc": "",
          "project": "5fda367856422f36d2f97a51"
         },
         "datatype": "58c33bcee13a50849b25879a",
         "datatype_tags": [],
         "desc": "preprocessed t1 (same alignment as the original t1, but level adjusted - editme)",
         "files": null,
         "id": "anat",
         "meta": {
          "EchoTime": 0.03,
          "EffectiveEchoSpacing": 0.000390006,
          "FlipAngle": 90,
          "ImageType": [
           "ORIGINAL",
           "PRIMARY",
           "M",
           "ND",
           "NORM",
           "MOS"
          ],
          "MagneticFieldStrength": 3,
          "Manufacturer": "Siemens",
          "ManufacturersModelName": "TrioTim",
          "PhaseEncodingDirection": "j-",
          "PulseSequenceType": "Gradient Echo EPI",
          "RepetitionTime": 2.5,
          "SkullStripped": false,
          "SliceTiming": [
           0,
           1.2875,
           0.065,
           1.3525,
           0.13,
           1.415,
           0.1925,
           1.48,
           0.2575,
           1.545,
           0.3225,
           1.61,
           0.3875,
           1.6725,
           0.45,
           1.7375,
           0.515,
           1.8025,
           0.58,
           1.8675,
           0.6425,
           1.93,
           0.7075,
           1.995,
           0.7725,
           2.06,
           0.8375,
           2.1225,
           0.9,
           2.1875,
           0.965,
           2.2525,
           1.03,
           2.3175,
           1.095,
           2.38,
           1.1575,
           2.445,
           1.2225
          ],
          "TaskName": "Experimental Run 4",
          "freesurfer_version": "7.1.0",
          "nifti_headers": {
           "aux_file": "",
           "base_affine": [
            [
             -1.0000003576278687,
             0,
             0,
             95.50003415346146
            ],
            [
             0,
             0.9374999403953552,
             0,
             -119.53124240040779
            ],
            [
             0,
             0,
             0.9375,
             -119.53125
            ],
            [
             0,
             0,
             0,
             1
            ]
           ],
           "bitpix": 32,
           "cal_max": 0,
           "cal_min": 0,
           "data_type": "",
           "datatype": 16,
           "db_name": "",
           "descrip": "xform matrices modified by CopyXForm (niworkflows v1.3.2).",
           "dim": [
            3,
            192,
            256,
            256,
            1,
            1,
            1,
            1
           ],
           "dim_info": 0,
           "extents": 0,
           "glmax": 0,
           "glmin": 0,
           "intent_code": 0,
           "intent_name": "",
           "intent_p1": 0,
           "intent_p2": 0,
           "intent_p3": 0,
           "magic": "n+1",
           "pixdim": [
            1,
            1.0000003576278687,
            0.9374999403953552,
            0.9375,
            1.899999976158142,
            1,
            1,
            1
           ],
           "qform_code": 1,
           "qoffset_x": -107.34193420410156,
           "qoffset_y": -69.85533142089844,
           "qoffset_z": -83.67616271972656,
           "quatern_b": -0.19918568432331085,
           "quatern_c": 0.008522480726242065,
           "quatern_d": -0.04188940301537514,
           "regular": "",
           "scl_inter": null,
           "scl_slope": null,
           "session_error": 0,
           "sform_code": 1,
           "sizeof_hdr": 348,
           "slice_code": 0,
           "slice_duration": 0,
           "slice_end": 0,
           "slice_start": 0,
           "srow_x": [
            0.9963456392288208,
            0.07371258735656738,
            0.03128910809755325,
            -107.34193420410156
           ],
           "srow_y": [
            -0.0854170173406601,
            0.8598193526268005,
            0.3649716377258301,
            -69.85533142089844
           ],
           "srow_z": [
            2.980233304583635e-08,
            -0.3663104176521301,
            0.8629733324050903,
            -83.67616271972656
           ],
           "toffset": 0,
           "vox_offset": 0,
           "xyzt_units": 2
          },
          "subject": "16",
          "task": "run4"
         },
         "subdir": "output",
         "tags": [
          "12_16_2020"
         ]
        },
        "path": "5fda36b70d4b105d2b903902/5fdacda50d4b105d2b9040e1/anat",
        "task_id": "5fdacda50d4b105d2b9040e1"
       },
       {
        "app": {},
        "datatype": "neuro/anat/t1w",
        "finish_date": "2021-01-22T06:01:16.185Z",
        "output": {
         "archive": {
          "desc": "",
          "project": "5fda367856422f36d2f97a51"
         },
         "datatype": "58c33bcee13a50849b25879a",
         "datatype_tags": [],
         "desc": "preprocessed t1 (same alignment as the original t1, but level adjusted - editme)",
         "files": null,
         "id": "anat",
         "meta": {
          "EchoTime": 0.03,
          "EffectiveEchoSpacing": 0.000390006,
          "FlipAngle": 90,
          "ImageType": [
           "ORIGINAL",
           "PRIMARY",
           "M",
           "ND",
           "NORM",
           "MOS"
          ],
          "MagneticFieldStrength": 3,
          "Manufacturer": "Siemens",
          "ManufacturersModelName": "TrioTim",
          "PhaseEncodingDirection": "j-",
          "PulseSequenceType": "Gradient Echo EPI",
          "RepetitionTime": 2.5,
          "SkullStripped": false,
          "SliceTiming": [
           0,
           1.2875,
           0.065,
           1.3525,
           0.13,
           1.4175,
           0.195,
           1.48,
           0.2575,
           1.545,
           0.3225,
           1.61,
           0.3875,
           1.675,
           0.4525,
           1.7375,
           0.515,
           1.8025,
           0.58,
           1.8675,
           0.645,
           1.9325,
           0.7075,
           1.995,
           0.7725,
           2.06,
           0.8375,
           2.125,
           0.9025,
           2.1875,
           0.965,
           2.2525,
           1.03,
           2.3175,
           1.095,
           2.3825,
           1.16,
           2.445,
           1.2225
          ],
          "TaskName": "Experimental Run 4",
          "freesurfer_version": "7.1.0",
          "nifti_headers": {
           "aux_file": "",
           "base_affine": [
            [
             -0.9999977350234985,
             0,
             0,
             95.49978369474411
            ],
            [
             0,
             0.9374999403953552,
             0,
             -119.53124240040779
            ],
            [
             0,
             0,
             0.9375,
             -119.53125
            ],
            [
             0,
             0,
             0,
             1
            ]
           ],
           "bitpix": 32,
           "cal_max": 0,
           "cal_min": 0,
           "data_type": "",
           "datatype": 16,
           "db_name": "",
           "descrip": "xform matrices modified by CopyXForm (niworkflows v1.3.2).",
           "dim": [
            3,
            192,
            256,
            256,
            1,
            1,
            1,
            1
           ],
           "dim_info": 0,
           "extents": 0,
           "glmax": 0,
           "glmin": 0,
           "intent_code": 0,
           "intent_name": "",
           "intent_p1": 0,
           "intent_p2": 0,
           "intent_p3": 0,
           "magic": "n+1",
           "pixdim": [
            1,
            0.9999977350234985,
            0.9374999403953552,
            0.9375,
            1.899999976158142,
            1,
            1,
            1
           ],
           "qform_code": 1,
           "qoffset_x": -111.55901336669922,
           "qoffset_y": -49.027587890625,
           "qoffset_z": -111.2898941040039,
           "quatern_b": -0.1105046421289444,
           "quatern_c": 0.004631504882127047,
           "quatern_d": -0.041618749499320984,
           "regular": "",
           "scl_inter": null,
           "scl_slope": null,
           "session_error": 0,
           "sform_code": 1,
           "sizeof_hdr": 348,
           "slice_code": 0,
           "slice_duration": 0,
           "slice_end": 0,
           "slice_start": 0,
           "srow_x": [
            0.9964905977249146,
            0.07652872800827026,
            0.017246467992663383,
            -111.55901336669922
           ],
           "srow_y": [
            -0.08367767930030823,
            0.9113560914993286,
            0.20538295805454254,
            -49.027587890625
           ],
           "srow_z": [
            2.6076975245814538e-08,
            -0.2061057984828949,
            0.9145636558532715,
            -111.2898941040039
           ],
           "toffset": 0,
           "vox_offset": 0,
           "xyzt_units": 2
          },
          "subject": "15",
          "task": "run4"
         },
         "subdir": "output",
         "tags": [
          "12_16_2020"
         ]
        },
        "path": "5fda36b70d4b105d2b9038fc/5fdacda40d4b105d2b9040d6/anat",
        "task_id": "5fdacda40d4b105d2b9040d6"
       },
       {
        "app": {},
        "datatype": "neuro/func/task",
        "finish_date": "2021-01-22T06:01:18.145Z",
        "output": {
         "archive": {
          "desc": "",
          "project": "5fda367856422f36d2f97a51"
         },
         "datatype": "59b685a08e5d38b0b331ddc5",
         "datatype_tags": [
          "run4",
          "preprocessed"
         ],
         "files": null,
         "id": "bold_img",
         "meta": {
          "EchoTime": 0.03,
          "EffectiveEchoSpacing": 0.000390006,
          "FlipAngle": 90,
          "ImageType": [
           "ORIGINAL",
           "PRIMARY",
           "M",
           "ND",
           "NORM",
           "MOS"
          ],
          "MagneticFieldStrength": 3,
          "Manufacturer": "Siemens",
          "ManufacturersModelName": "TrioTim",
          "PhaseEncodingDirection": "j-",
          "PulseSequenceType": "Gradient Echo EPI",
          "RepetitionTime": 2.5,
          "SliceTiming": [
           0,
           1.2875,
           0.065,
           1.3525,
           0.13,
           1.4175,
           0.195,
           1.48,
           0.2575,
           1.545,
           0.3225,
           1.61,
           0.3875,
           1.675,
           0.4525,
           1.7375,
           0.515,
           1.8025,
           0.58,
           1.8675,
           0.645,
           1.9325,
           0.7075,
           1.995,
           0.7725,
           2.06,
           0.8375,
           2.125,
           0.9025,
           2.1875,
           0.965,
           2.2525,
           1.03,
           2.3175,
           1.095,
           2.3825,
           1.16,
           2.445,
           1.2225
          ],
          "TaskName": "Experimental Run 4",
          "freesurfer_version": "7.1.0",
          "nifti_headers": {
           "aux_file": "",
           "base_affine": [
            [
             -2,
             0,
             0,
             71
            ],
            [
             0,
             2,
             0,
             -86
            ],
            [
             0,
             0,
             3,
             -70.5
            ],
            [
             0,
             0,
             0,
             1
            ]
           ],
           "bitpix": 16,
           "cal_max": 1793.707763671875,
           "cal_min": -121.72209930419922,
           "data_type": "",
           "datatype": 4,
           "db_name": "",
           "descrip": "xform matrices modified by FixHeaderApplyTransforms (niworkflows v1.3.2).",
           "dim": [
            4,
            72,
            87,
            48,
            260,
            1,
            1,
            1
           ],
           "dim_info": 0,
           "extents": 0,
           "glmax": 0,
           "glmin": 0,
           "intent_code": 0,
           "intent_name": "",
           "intent_p1": 0,
           "intent_p2": 0,
           "intent_p3": 0,
           "magic": "n+1",
           "pixdim": [
            1,
            2,
            2,
            3,
            2.5,
            1,
            1,
            1
           ],
           "qform_code": 2,
           "qoffset_x": -75.55901336669922,
           "qoffset_y": 0.9899753332138062,
           "qoffset_z": -85.84687042236328,
           "quatern_b": 0,
           "quatern_c": 0,
           "quatern_d": 0,
           "regular": "r",
           "scl_inter": null,
           "scl_slope": null,
           "session_error": 0,
           "sform_code": 2,
           "sizeof_hdr": 348,
           "slice_code": 0,
           "slice_duration": 0,
           "slice_end": 0,
           "slice_start": 0,
           "srow_x": [
            2,
            0,
            0,
            -75.55901336669922
           ],
           "srow_y": [
            0,
            2,
            0,
            0.9899753332138062
           ],
           "srow_z": [
            0,
            0,
            3,
            -85.84687042236328
           ],
           "toffset": 0,
           "vox_offset": 0,
           "xyzt_units": 10
          },
          "space": "T1w",
          "subject": "15",
          "task": "run4"
         },
         "subdir": "output",
         "tags": [
          "12_16_2020"
         ]
        },
        "path": "5fda36b70d4b105d2b9038fc/5fdacda40d4b105d2b9040d6/bold_img",
        "task_id": "5fdacda40d4b105d2b9040d6"
       },
       {
        "app": {},
        "datatype": "neuro/anat/t1w",
        "finish_date": "2021-01-22T06:16:19.907Z",
        "output": {
         "archive": {
          "desc": "",
          "project": "5fda367856422f36d2f97a51"
         },
         "datatype": "58c33bcee13a50849b25879a",
         "datatype_tags": [],
         "desc": "preprocessed t1 (same alignment as the original t1, but level adjusted - editme)",
         "files": null,
         "id": "anat",
         "meta": {
          "EchoTime": 0.03,
          "EffectiveEchoSpacing": 0.000370002,
          "FlipAngle": 90,
          "ImageType": [
           "ORIGINAL",
           "PRIMARY",
           "M",
           "ND",
           "NORM",
           "MOS"
          ],
          "MagneticFieldStrength": 3,
          "Manufacturer": "Siemens",
          "ManufacturersModelName": "TrioTim",
          "PhaseEncodingDirection": "j-",
          "PulseSequenceType": "Gradient Echo EPI",
          "RepetitionTime": 2.5,
          "SkullStripped": false,
          "SliceTiming": [
           0,
           1.285,
           0.0625,
           1.35,
           0.1275,
           1.415,
           0.1925,
           1.48,
           0.2575,
           1.5425,
           0.32,
           1.6075,
           0.385,
           1.6725,
           0.45,
           1.7375,
           0.515,
           1.8,
           0.5775,
           1.865,
           0.6425,
           1.93,
           0.7075,
           1.995,
           0.7725,
           2.0575,
           0.835,
           2.1225,
           0.9,
           2.1875,
           0.965,
           2.2525,
           1.03,
           2.315,
           1.0925,
           2.38,
           1.1575,
           2.445,
           1.2225
          ],
          "TaskName": "Experimental Run 4",
          "freesurfer_version": "7.1.0",
          "nifti_headers": {
           "aux_file": "",
           "base_affine": [
            [
             -0.9999998211860657,
             0,
             0,
             95.49998292326927
            ],
            [
             0,
             0.9375,
             0,
             -119.53125
            ],
            [
             0,
             0,
             0.9375,
             -119.53125
            ],
            [
             0,
             0,
             0,
             1
            ]
           ],
           "bitpix": 32,
           "cal_max": 0,
           "cal_min": 0,
           "data_type": "",
           "datatype": 16,
           "db_name": "",
           "descrip": "xform matrices modified by CopyXForm (niworkflows v1.3.2).",
           "dim": [
            3,
            192,
            256,
            256,
            1,
            1,
            1,
            1
           ],
           "dim_info": 0,
           "extents": 0,
           "glmax": 0,
           "glmin": 0,
           "intent_code": 0,
           "intent_name": "",
           "intent_p1": 0,
           "intent_p2": 0,
           "intent_p3": 0,
           "magic": "n+1",
           "pixdim": [
            1,
            0.9999998211860657,
            0.9375,
            0.9375,
            1.899999976158142,
            1,
            1,
            1
           ],
           "qform_code": 1,
           "qoffset_x": -99.990234375,
           "qoffset_y": -78.58868408203125,
           "qoffset_z": -102.93902587890625,
           "quatern_b": -0.19580821692943573,
           "quatern_c": 0.007351054344326258,
           "quatern_d": -0.036788538098335266,
           "regular": "",
           "scl_inter": null,
           "scl_slope": null,
           "session_error": 0,
           "sform_code": 1,
           "sizeof_hdr": 348,
           "slice_code": 0,
           "slice_duration": 0,
           "slice_end": 0,
           "slice_start": 0,
           "srow_x": [
            0.9971849322319031,
            0.06489485502243042,
            0.027013080194592476,
            -99.990234375
           ],
           "srow_y": [
            -0.07497873902320862,
            0.8630732893943787,
            0.35926276445388794,
            -78.58868408203125
           ],
           "srow_z": [
            4.09781861776537e-08,
            -0.36027687788009644,
            0.865509569644928,
            -102.93902587890625
           ],
           "toffset": 0,
           "vox_offset": 0,
           "xyzt_units": 2
          },
          "subject": "13",
          "task": "run4"
         },
         "subdir": "output",
         "tags": [
          "12_16_2020"
         ]
        },
        "path": "5fda36b60d4b105d2b9038f0/5fdacda40d4b105d2b9040cc/anat",
        "task_id": "5fdacda40d4b105d2b9040cc"
       },
       {
        "app": {},
        "datatype": "neuro/func/task",
        "finish_date": "2021-01-22T06:16:21.891Z",
        "output": {
         "archive": {
          "desc": "",
          "project": "5fda367856422f36d2f97a51"
         },
         "datatype": "59b685a08e5d38b0b331ddc5",
         "datatype_tags": [
          "run4",
          "preprocessed"
         ],
         "files": null,
         "id": "bold_img",
         "meta": {
          "EchoTime": 0.03,
          "EffectiveEchoSpacing": 0.000370002,
          "FlipAngle": 90,
          "ImageType": [
           "ORIGINAL",
           "PRIMARY",
           "M",
           "ND",
           "NORM",
           "MOS"
          ],
          "MagneticFieldStrength": 3,
          "Manufacturer": "Siemens",
          "ManufacturersModelName": "TrioTim",
          "PhaseEncodingDirection": "j-",
          "PulseSequenceType": "Gradient Echo EPI",
          "RepetitionTime": 2.5,
          "SliceTiming": [
           0,
           1.285,
           0.0625,
           1.35,
           0.1275,
           1.415,
           0.1925,
           1.48,
           0.2575,
           1.5425,
           0.32,
           1.6075,
           0.385,
           1.6725,
           0.45,
           1.7375,
           0.515,
           1.8,
           0.5775,
           1.865,
           0.6425,
           1.93,
           0.7075,
           1.995,
           0.7725,
           2.0575,
           0.835,
           2.1225,
           0.9,
           2.1875,
           0.965,
           2.2525,
           1.03,
           2.315,
           1.0925,
           2.38,
           1.1575,
           2.445,
           1.2225
          ],
          "TaskName": "Experimental Run 4",
          "freesurfer_version": "7.1.0",
          "nifti_headers": {
           "aux_file": "",
           "base_affine": [
            [
             -2,
             0,
             0,
             74
            ],
            [
             0,
             2,
             0,
             -83
            ],
            [
             0,
             0,
             3,
             -66
            ],
            [
             0,
             0,
             0,
             1
            ]
           ],
           "bitpix": 16,
           "cal_max": 1511.8936767578125,
           "cal_min": -83.18594360351562,
           "data_type": "",
           "datatype": 4,
           "db_name": "",
           "descrip": "xform matrices modified by FixHeaderApplyTransforms (niworkflows v1.3.2).",
           "dim": [
            4,
            75,
            84,
            45,
            260,
            1,
            1,
            1
           ],
           "dim_info": 0,
           "extents": 0,
           "glmax": 0,
           "glmin": 0,
           "intent_code": 0,
           "intent_name": "",
           "intent_p1": 0,
           "intent_p2": 0,
           "intent_p3": 0,
           "magic": "n+1",
           "pixdim": [
            1,
            2,
            2,
            3,
            2.5,
            1,
            1,
            1
           ],
           "qform_code": 2,
           "qoffset_x": -67.990234375,
           "qoffset_y": -14.909623146057129,
           "qoffset_z": -98.80963134765625,
           "quatern_b": 0,
           "quatern_c": 0,
           "quatern_d": 0,
           "regular": "r",
           "scl_inter": null,
           "scl_slope": null,
           "session_error": 0,
           "sform_code": 2,
           "sizeof_hdr": 348,
           "slice_code": 0,
           "slice_duration": 0,
           "slice_end": 0,
           "slice_start": 0,
           "srow_x": [
            2,
            0,
            0,
            -67.990234375
           ],
           "srow_y": [
            0,
            2,
            0,
            -14.909623146057129
           ],
           "srow_z": [
            0,
            0,
            3,
            -98.80963134765625
           ],
           "toffset": 0,
           "vox_offset": 0,
           "xyzt_units": 10
          },
          "space": "T1w",
          "subject": "13",
          "task": "run4"
         },
         "subdir": "output",
         "tags": [
          "12_16_2020"
         ]
        },
        "path": "5fda36b60d4b105d2b9038f0/5fdacda40d4b105d2b9040cc/bold_img",
        "task_id": "5fdacda40d4b105d2b9040cc"
       },
       {
        "app": {},
        "datatype": "neuro/func/task",
        "finish_date": "2021-01-22T06:26:41.911Z",
        "output": {
         "archive": {
          "desc": "",
          "project": "5fda367856422f36d2f97a51"
         },
         "datatype": "59b685a08e5d38b0b331ddc5",
         "datatype_tags": [
          "run4",
          "preprocessed"
         ],
         "files": null,
         "id": "bold_img",
         "meta": {
          "EchoTime": 0.03,
          "EffectiveEchoSpacing": 0.000370002,
          "FlipAngle": 90,
          "ImageType": [
           "ORIGINAL",
           "PRIMARY",
           "M",
           "ND",
           "NORM",
           "MOS"
          ],
          "MagneticFieldStrength": 3,
          "Manufacturer": "Siemens",
          "ManufacturersModelName": "TrioTim",
          "PhaseEncodingDirection": "j-",
          "PulseSequenceType": "Gradient Echo EPI",
          "RepetitionTime": 2.5,
          "SliceTiming": [
           0,
           1.2875,
           0.065,
           1.3525,
           0.13,
           1.415,
           0.1925,
           1.48,
           0.2575,
           1.545,
           0.3225,
           1.61,
           0.3875,
           1.6725,
           0.45,
           1.7375,
           0.515,
           1.8025,
           0.58,
           1.8675,
           0.6425,
           1.93,
           0.7075,
           1.995,
           0.7725,
           2.06,
           0.8375,
           2.1225,
           0.9,
           2.1875,
           0.965,
           2.2525,
           1.03,
           2.3175,
           1.095,
           2.38,
           1.1575,
           2.445,
           1.2225
          ],
          "TaskName": "Experimental Run 4",
          "freesurfer_version": "7.1.0",
          "nifti_headers": {
           "aux_file": "",
           "base_affine": [
            [
             -2,
             0,
             0,
             71
            ],
            [
             0,
             2,
             0,
             -85
            ],
            [
             0,
             0,
             3,
             -70.5
            ],
            [
             0,
             0,
             0,
             1
            ]
           ],
           "bitpix": 16,
           "cal_max": 1412.99560546875,
           "cal_min": -89.52996826171875,
           "data_type": "",
           "datatype": 4,
           "db_name": "",
           "descrip": "xform matrices modified by FixHeaderApplyTransforms (niworkflows v1.3.2).",
           "dim": [
            4,
            72,
            86,
            48,
            260,
            1,
            1,
            1
           ],
           "dim_info": 0,
           "extents": 0,
           "glmax": 0,
           "glmin": 0,
           "intent_code": 0,
           "intent_name": "",
           "intent_p1": 0,
           "intent_p2": 0,
           "intent_p3": 0,
           "magic": "n+1",
           "pixdim": [
            1,
            2,
            2,
            3,
            2.5,
            1,
            1,
            1
           ],
           "qform_code": 2,
           "qoffset_x": -73.45471954345703,
           "qoffset_y": -15.803787231445312,
           "qoffset_z": -69.41313171386719,
           "quatern_b": 0,
           "quatern_c": 0,
           "quatern_d": 0,
           "regular": "r",
           "scl_inter": null,
           "scl_slope": null,
           "session_error": 0,
           "sform_code": 2,
           "sizeof_hdr": 348,
           "slice_code": 0,
           "slice_duration": 0,
           "slice_end": 0,
           "slice_start": 0,
           "srow_x": [
            2,
            0,
            0,
            -73.45471954345703
           ],
           "srow_y": [
            0,
            2,
            0,
            -15.803787231445312
           ],
           "srow_z": [
            0,
            0,
            3,
            -69.41313171386719
           ],
           "toffset": 0,
           "vox_offset": 0,
           "xyzt_units": 10
          },
          "space": "T1w",
          "subject": "01",
          "task": "run4"
         },
         "subdir": "output",
         "tags": [
          "12_16_2020"
         ]
        },
        "path": "5fda36b30d4b105d2b9038a8/5fdacda20d4b105d2b90405a/bold_img",
        "task_id": "5fdacda20d4b105d2b90405a"
       },
       {
        "app": {},
        "datatype": "neuro/anat/t1w",
        "finish_date": "2021-01-22T06:26:43.860Z",
        "output": {
         "archive": {
          "desc": "",
          "project": "5fda367856422f36d2f97a51"
         },
         "datatype": "58c33bcee13a50849b25879a",
         "datatype_tags": [],
         "desc": "preprocessed t1 (same alignment as the original t1, but level adjusted - editme)",
         "files": null,
         "id": "anat",
         "meta": {
          "EchoTime": 0.03,
          "EffectiveEchoSpacing": 0.000370002,
          "FlipAngle": 90,
          "ImageType": [
           "ORIGINAL",
           "PRIMARY",
           "M",
           "ND",
           "NORM",
           "MOS"
          ],
          "MagneticFieldStrength": 3,
          "Manufacturer": "Siemens",
          "ManufacturersModelName": "TrioTim",
          "PhaseEncodingDirection": "j-",
          "PulseSequenceType": "Gradient Echo EPI",
          "RepetitionTime": 2.5,
          "SkullStripped": false,
          "SliceTiming": [
           0,
           1.2875,
           0.065,
           1.3525,
           0.13,
           1.415,
           0.1925,
           1.48,
           0.2575,
           1.545,
           0.3225,
           1.61,
           0.3875,
           1.6725,
           0.45,
           1.7375,
           0.515,
           1.8025,
           0.58,
           1.8675,
           0.6425,
           1.93,
           0.7075,
           1.995,
           0.7725,
           2.06,
           0.8375,
           2.1225,
           0.9,
           2.1875,
           0.965,
           2.2525,
           1.03,
           2.3175,
           1.095,
           2.38,
           1.1575,
           2.445,
           1.2225
          ],
          "TaskName": "Experimental Run 4",
          "freesurfer_version": "7.1.0",
          "nifti_headers": {
           "aux_file": "",
           "base_affine": [
            [
             -0.9999998211860657,
             0,
             0,
             95.49998292326927
            ],
            [
             0,
             0.9375,
             0,
             -119.53125
            ],
            [
             0,
             0,
             0.9375,
             -119.53125
            ],
            [
             0,
             0,
             0,
             1
            ]
           ],
           "bitpix": 32,
           "cal_max": 0,
           "cal_min": 0,
           "data_type": "",
           "datatype": 16,
           "db_name": "",
           "descrip": "xform matrices modified by CopyXForm (niworkflows v1.3.2).",
           "dim": [
            3,
            192,
            256,
            256,
            1,
            1,
            1,
            1
           ],
           "dim_info": 0,
           "extents": 0,
           "glmax": 0,
           "glmin": 0,
           "intent_code": 0,
           "intent_name": "",
           "intent_p1": 0,
           "intent_p2": 0,
           "intent_p3": 0,
           "magic": "n+1",
           "pixdim": [
            1,
            0.9999998211860657,
            0.9375,
            0.9375,
            1.899999976158142,
            1,
            1,
            1
           ],
           "qform_code": 1,
           "qoffset_x": -96.31549835205078,
           "qoffset_y": -79.80378723144531,
           "qoffset_z": -78.58184814453125,
           "quatern_b": -0.18476609885692596,
           "quatern_c": -0.00782835390418768,
           "quatern_d": 0.003855943214148283,
           "regular": "",
           "scl_inter": null,
           "scl_slope": null,
           "session_error": 0,
           "sform_code": 1,
           "sizeof_hdr": 348,
           "slice_code": 0,
           "slice_duration": 0,
           "slice_end": 0,
           "slice_start": 0,
           "srow_x": [
            0.9998475313186646,
            -0.004393105395138264,
            -0.015760714188218117,
            -96.31549835205078
           ],
           "srow_y": [
            0.010471636429429054,
            0.873462438583374,
            0.34040164947509766,
            -79.80378723144531
           ],
           "srow_z": [
            0.01396163459867239,
            -0.3405148386955261,
            0.8733753561973572,
            -78.58184814453125
           ],
           "toffset": 0,
           "vox_offset": 0,
           "xyzt_units": 2
          },
          "subject": "01",
          "task": "run4"
         },
         "subdir": "output",
         "tags": [
          "12_16_2020"
         ]
        },
        "path": "5fda36b30d4b105d2b9038a8/5fdacda20d4b105d2b90405a/anat",
        "task_id": "5fdacda20d4b105d2b90405a"
       },
       {
        "app": {},
        "datatype": "neuro/func/task",
        "finish_date": "2021-01-22T06:36:41.215Z",
        "output": {
         "archive": {
          "desc": "",
          "project": "5fda367856422f36d2f97a51"
         },
         "datatype": "59b685a08e5d38b0b331ddc5",
         "datatype_tags": [
          "run4",
          "preprocessed"
         ],
         "files": null,
         "id": "bold_img",
         "meta": {
          "EchoTime": 0.03,
          "EffectiveEchoSpacing": 0.000370002,
          "FlipAngle": 90,
          "ImageType": [
           "ORIGINAL",
           "PRIMARY",
           "M",
           "ND",
           "NORM",
           "MOS"
          ],
          "MagneticFieldStrength": 3,
          "Manufacturer": "Siemens",
          "ManufacturersModelName": "TrioTim",
          "PhaseEncodingDirection": "j-",
          "PulseSequenceType": "Gradient Echo EPI",
          "RepetitionTime": 2.5,
          "SliceTiming": [
           0,
           1.2875,
           0.065,
           1.3525,
           0.13,
           1.415,
           0.1925,
           1.48,
           0.2575,
           1.545,
           0.3225,
           1.61,
           0.3875,
           1.6725,
           0.45,
           1.7375,
           0.515,
           1.8025,
           0.58,
           1.8675,
           0.645,
           1.93,
           0.7075,
           1.995,
           0.7725,
           2.06,
           0.8375,
           2.125,
           0.9025,
           2.1875,
           0.965,
           2.2525,
           1.03,
           2.3175,
           1.095,
           2.3825,
           1.16,
           2.445,
           1.2225
          ],
          "TaskName": "Experimental Run 4",
          "freesurfer_version": "7.1.0",
          "nifti_headers": {
           "aux_file": "",
           "base_affine": [
            [
             -2,
             0,
             0,
             70
            ],
            [
             0,
             2,
             0,
             -82
            ],
            [
             0,
             0,
             3,
             -69
            ],
            [
             0,
             0,
             0,
             1
            ]
           ],
           "bitpix": 16,
           "cal_max": 1097.3876953125,
           "cal_min": -59.3312873840332,
           "data_type": "",
           "datatype": 4,
           "db_name": "",
           "descrip": "xform matrices modified by FixHeaderApplyTransforms (niworkflows v1.3.2).",
           "dim": [
            4,
            71,
            83,
            47,
            260,
            1,
            1,
            1
           ],
           "dim_info": 0,
           "extents": 0,
           "glmax": 0,
           "glmin": 0,
           "intent_code": 0,
           "intent_name": "",
           "intent_p1": 0,
           "intent_p2": 0,
           "intent_p3": 0,
           "magic": "n+1",
           "pixdim": [
            1,
            2,
            2,
            3,
            2.5,
            1,
            1,
            1
           ],
           "qform_code": 2,
           "qoffset_x": -73.05624389648438,
           "qoffset_y": 30.04852294921875,
           "qoffset_z": -80.52210235595703,
           "quatern_b": 0,
           "quatern_c": 0,
           "quatern_d": 0,
           "regular": "r",
           "scl_inter": null,
           "scl_slope": null,
           "session_error": 0,
           "sform_code": 2,
           "sizeof_hdr": 348,
           "slice_code": 0,
           "slice_duration": 0,
           "slice_end": 0,
           "slice_start": 0,
           "srow_x": [
            2,
            0,
            0,
            -73.05624389648438
           ],
           "srow_y": [
            0,
            2,
            0,
            30.04852294921875
           ],
           "srow_z": [
            0,
            0,
            3,
            -80.52210235595703
           ],
           "toffset": 0,
           "vox_offset": 0,
           "xyzt_units": 10
          },
          "space": "T1w",
          "subject": "14",
          "task": "run4"
         },
         "subdir": "output",
         "tags": [
          "12_16_2020"
         ]
        },
        "path": "5fda36b70d4b105d2b9038f6/5fdacda40d4b105d2b9040d1/bold_img",
        "task_id": "5fdacda40d4b105d2b9040d1"
       },
       {
        "app": {},
        "datatype": "neuro/anat/t1w",
        "finish_date": "2021-01-22T06:36:43.091Z",
        "output": {
         "archive": {
          "desc": "",
          "project": "5fda367856422f36d2f97a51"
         },
         "datatype": "58c33bcee13a50849b25879a",
         "datatype_tags": [],
         "desc": "preprocessed t1 (same alignment as the original t1, but level adjusted - editme)",
         "files": null,
         "id": "anat",
         "meta": {
          "EchoTime": 0.03,
          "EffectiveEchoSpacing": 0.000370002,
          "FlipAngle": 90,
          "ImageType": [
           "ORIGINAL",
           "PRIMARY",
           "M",
           "ND",
           "NORM",
           "MOS"
          ],
          "MagneticFieldStrength": 3,
          "Manufacturer": "Siemens",
          "ManufacturersModelName": "TrioTim",
          "PhaseEncodingDirection": "j-",
          "PulseSequenceType": "Gradient Echo EPI",
          "RepetitionTime": 2.5,
          "SkullStripped": false,
          "SliceTiming": [
           0,
           1.2875,
           0.065,
           1.3525,
           0.13,
           1.415,
           0.1925,
           1.48,
           0.2575,
           1.545,
           0.3225,
           1.61,
           0.3875,
           1.6725,
           0.45,
           1.7375,
           0.515,
           1.8025,
           0.58,
           1.8675,
           0.645,
           1.93,
           0.7075,
           1.995,
           0.7725,
           2.06,
           0.8375,
           2.125,
           0.9025,
           2.1875,
           0.965,
           2.2525,
           1.03,
           2.3175,
           1.095,
           2.3825,
           1.16,
           2.445,
           1.2225
          ],
          "TaskName": "Experimental Run 4",
          "freesurfer_version": "7.1.0",
          "nifti_headers": {
           "aux_file": "",
           "base_affine": [
            [
             -0.9999984502792358,
             0,
             0,
             95.49985200166702
            ],
            [
             0,
             0.9375,
             0,
             -119.53125
            ],
            [
             0,
             0,
             0.9375,
             -119.53125
            ],
            [
             0,
             0,
             0,
             1
            ]
           ],
           "bitpix": 32,
           "cal_max": 0,
           "cal_min": 0,
           "data_type": "",
           "datatype": 16,
           "db_name": "",
           "descrip": "xform matrices modified by CopyXForm (niworkflows v1.3.2).",
           "dim": [
            3,
            192,
            256,
            256,
            1,
            1,
            1,
            1
           ],
           "dim_info": 0,
           "extents": 0,
           "glmax": 0,
           "glmin": 0,
           "intent_code": 0,
           "intent_name": "",
           "intent_p1": 0,
           "intent_p2": 0,
           "intent_p3": 0,
           "magic": "n+1",
           "pixdim": [
            1,
            0.9999984502792358,
            0.9375,
            0.9375,
            1.899999976158142,
            1,
            1,
            1
           ],
           "qform_code": 1,
           "qoffset_x": -135.05624389648438,
           "qoffset_y": -24.4517822265625,
           "qoffset_z": -60.50559997558594,
           "quatern_b": -0.2349705845117569,
           "quatern_c": 0.02968369424343109,
           "quatern_d": -0.12176739424467087,
           "regular": "",
           "scl_inter": null,
           "scl_slope": null,
           "session_error": 0,
           "sform_code": 1,
           "sizeof_hdr": 348,
           "slice_code": 0,
           "slice_duration": 0,
           "slice_end": 0,
           "slice_start": 0,
           "srow_x": [
            0.9685816764831543,
            0.2069912999868393,
            0.10729409754276276,
            -135.05624389648438
           ],
           "srow_y": [
            -0.24868950247764587,
            0.8061778545379639,
            0.41788288950920105,
            -24.4517822265625
           ],
           "srow_z": [
            -1.4901138101208744e-08,
            -0.43143725395202637,
            0.8323269486427307,
            -60.50559997558594
           ],
           "toffset": 0,
           "vox_offset": 0,
           "xyzt_units": 2
          },
          "subject": "14",
          "task": "run4"
         },
         "subdir": "output",
         "tags": [
          "12_16_2020"
         ]
        },
        "path": "5fda36b70d4b105d2b9038f6/5fdacda40d4b105d2b9040d1/anat",
        "task_id": "5fdacda40d4b105d2b9040d1"
       },
       {
        "app": {},
        "datatype": "neuro/anat/t1w",
        "finish_date": "2021-01-22T06:47:18.867Z",
        "output": {
         "archive": {
          "desc": "",
          "project": "5fda367856422f36d2f97a51"
         },
         "datatype": "58c33bcee13a50849b25879a",
         "datatype_tags": [],
         "desc": "preprocessed t1 (same alignment as the original t1, but level adjusted - editme)",
         "files": null,
         "id": "anat",
         "meta": {
          "EchoTime": 0.03,
          "EffectiveEchoSpacing": 0.000390006,
          "FlipAngle": 90,
          "ImageType": [
           "ORIGINAL",
           "PRIMARY",
           "M",
           "ND",
           "NORM",
           "MOS"
          ],
          "MagneticFieldStrength": 3,
          "Manufacturer": "Siemens",
          "ManufacturersModelName": "TrioTim",
          "PhaseEncodingDirection": "j-",
          "PulseSequenceType": "Gradient Echo EPI",
          "RepetitionTime": 2.5,
          "SkullStripped": false,
          "SliceTiming": [
           0,
           1.2875,
           0.065,
           1.35,
           0.1275,
           1.415,
           0.1925,
           1.48,
           0.2575,
           1.545,
           0.32,
           1.6075,
           0.385,
           1.6725,
           0.45,
           1.7375,
           0.515,
           1.8,
           0.5775,
           1.865,
           0.6425,
           1.93,
           0.7075,
           1.995,
           0.7725,
           2.0575,
           0.835,
           2.1225,
           0.9,
           2.1875,
           0.965,
           2.2525,
           1.03,
           2.315,
           1.0925,
           2.38,
           1.1575,
           2.445,
           1.2225
          ],
          "TaskName": "Experimental Run 4",
          "freesurfer_version": "7.1.0",
          "nifti_headers": {
           "aux_file": "",
           "base_affine": [
            [
             -0.9999984502792358,
             0,
             0,
             95.49985200166702
            ],
            [
             0,
             0.9375,
             0,
             -119.53125
            ],
            [
             0,
             0,
             0.9375000596046448,
             -119.53125759959221
            ],
            [
             0,
             0,
             0,
             1
            ]
           ],
           "bitpix": 32,
           "cal_max": 0,
           "cal_min": 0,
           "data_type": "",
           "datatype": 16,
           "db_name": "",
           "descrip": "xform matrices modified by CopyXForm (niworkflows v1.3.2).",
           "dim": [
            3,
            192,
            256,
            256,
            1,
            1,
            1,
            1
           ],
           "dim_info": 0,
           "extents": 0,
           "glmax": 0,
           "glmin": 0,
           "intent_code": 0,
           "intent_name": "",
           "intent_p1": 0,
           "intent_p2": 0,
           "intent_p3": 0,
           "magic": "n+1",
           "pixdim": [
            1,
            0.9999984502792358,
            0.9375,
            0.9375000596046448,
            1.899999976158142,
            1,
            1,
            1
           ],
           "qform_code": 1,
           "qoffset_x": -99.90779876708984,
           "qoffset_y": -89.81268310546875,
           "qoffset_z": -64.77822875976562,
           "quatern_b": -0.18823817372322083,
           "quatern_c": -0.00032851099967956543,
           "quatern_d": 0.0017141401767730713,
           "regular": "",
           "scl_inter": null,
           "scl_slope": null,
           "session_error": 0,
           "sform_code": 1,
           "sizeof_hdr": 348,
           "slice_code": 0,
           "slice_duration": 0,
           "slice_end": 0,
           "slice_start": 0,
           "srow_x": [
            0.9999923706054688,
            -0.0030406054574996233,
            -0.001209945883601904,
            -99.90779876708984
           ],
           "srow_y": [
            0.0034906603395938873,
            0.8710564970970154,
            0.34663552045822144,
            -89.81268310546875
           ],
           "srow_z": [
            -5.750908016466383e-08,
            -0.3466376066207886,
            0.8710618019104004,
            -64.77822875976562
           ],
           "toffset": 0,
           "vox_offset": 0,
           "xyzt_units": 2
          },
          "subject": "18",
          "task": "run4"
         },
         "subdir": "output",
         "tags": [
          "12_16_2020"
         ]
        },
        "path": "5fda36b80d4b105d2b90390e/5fdacda50d4b105d2b9040f7/anat",
        "task_id": "5fdacda50d4b105d2b9040f7"
       },
       {
        "app": {},
        "datatype": "neuro/func/task",
        "finish_date": "2021-01-22T06:48:22.694Z",
        "output": {
         "archive": {
          "desc": "",
          "project": "5fda367856422f36d2f97a51"
         },
         "datatype": "59b685a08e5d38b0b331ddc5",
         "datatype_tags": [
          "run4",
          "preprocessed"
         ],
         "files": null,
         "id": "bold_img",
         "meta": {
          "EchoTime": 0.03,
          "EffectiveEchoSpacing": 0.000390006,
          "FlipAngle": 90,
          "ImageType": [
           "ORIGINAL",
           "PRIMARY",
           "M",
           "ND",
           "NORM",
           "MOS"
          ],
          "MagneticFieldStrength": 3,
          "Manufacturer": "Siemens",
          "ManufacturersModelName": "TrioTim",
          "PhaseEncodingDirection": "j-",
          "PulseSequenceType": "Gradient Echo EPI",
          "RepetitionTime": 2.5,
          "SliceTiming": [
           0,
           1.2875,
           0.065,
           1.35,
           0.1275,
           1.415,
           0.1925,
           1.48,
           0.2575,
           1.545,
           0.32,
           1.6075,
           0.385,
           1.6725,
           0.45,
           1.7375,
           0.515,
           1.8,
           0.5775,
           1.865,
           0.6425,
           1.93,
           0.7075,
           1.995,
           0.7725,
           2.0575,
           0.835,
           2.1225,
           0.9,
           2.1875,
           0.965,
           2.2525,
           1.03,
           2.315,
           1.0925,
           2.38,
           1.1575,
           2.445,
           1.2225
          ],
          "TaskName": "Experimental Run 4",
          "freesurfer_version": "7.1.0",
          "nifti_headers": {
           "aux_file": "",
           "base_affine": [
            [
             -2,
             0,
             0,
             63
            ],
            [
             0,
             2,
             0,
             -80
            ],
            [
             0,
             0,
             3,
             -67.5
            ],
            [
             0,
             0,
             0,
             1
            ]
           ],
           "bitpix": 16,
           "cal_max": 1890.3895263671875,
           "cal_min": -94.33429718017578,
           "data_type": "",
           "datatype": 4,
           "db_name": "",
           "descrip": "xform matrices modified by FixHeaderApplyTransforms (niworkflows v1.3.2).",
           "dim": [
            4,
            64,
            81,
            46,
            260,
            1,
            1,
            1
           ],
           "dim_info": 0,
           "extents": 0,
           "glmax": 0,
           "glmin": 0,
           "intent_code": 0,
           "intent_name": "",
           "intent_p1": 0,
           "intent_p2": 0,
           "intent_p3": 0,
           "magic": "n+1",
           "pixdim": [
            1,
            2,
            2,
            3,
            2.5,
            1,
            1,
            1
           ],
           "qform_code": 2,
           "qoffset_x": -66.99169158935547,
           "qoffset_y": -13.81268310546875,
           "qoffset_z": -60.17082977294922,
           "quatern_b": 0,
           "quatern_c": 0,
           "quatern_d": 0,
           "regular": "r",
           "scl_inter": null,
           "scl_slope": null,
           "session_error": 0,
           "sform_code": 2,
           "sizeof_hdr": 348,
           "slice_code": 0,
           "slice_duration": 0,
           "slice_end": 0,
           "slice_start": 0,
           "srow_x": [
            2,
            0,
            0,
            -66.99169158935547
           ],
           "srow_y": [
            0,
            2,
            0,
            -13.81268310546875
           ],
           "srow_z": [
            0,
            0,
            3,
            -60.17082977294922
           ],
           "toffset": 0,
           "vox_offset": 0,
           "xyzt_units": 10
          },
          "space": "T1w",
          "subject": "18",
          "task": "run4"
         },
         "subdir": "output",
         "tags": [
          "12_16_2020"
         ]
        },
        "path": "5fda36b80d4b105d2b90390e/5fdacda50d4b105d2b9040f7/bold_img",
        "task_id": "5fdacda50d4b105d2b9040f7"
       },
       {
        "app": {},
        "datatype": "neuro/func/task",
        "finish_date": "2021-01-22T08:27:54.830Z",
        "output": {
         "archive": {
          "desc": "",
          "project": "5fda367856422f36d2f97a51"
         },
         "datatype": "59b685a08e5d38b0b331ddc5",
         "datatype_tags": [
          "run4",
          "preprocessed"
         ],
         "files": null,
         "id": "bold_img",
         "meta": {
          "EchoTime": 0.03,
          "EffectiveEchoSpacing": 0.000370002,
          "FlipAngle": 90,
          "ImageType": [
           "ORIGINAL",
           "PRIMARY",
           "M",
           "ND",
           "NORM",
           "MOS"
          ],
          "MagneticFieldStrength": 3,
          "Manufacturer": "Siemens",
          "ManufacturersModelName": "TrioTim",
          "PhaseEncodingDirection": "j-",
          "PulseSequenceType": "Gradient Echo EPI",
          "RepetitionTime": 2.5,
          "SliceTiming": [
           0,
           1.2875,
           0.065,
           1.3525,
           0.13,
           1.4175,
           0.195,
           1.48,
           0.2575,
           1.545,
           0.3225,
           1.61,
           0.3875,
           1.675,
           0.4525,
           1.7375,
           0.515,
           1.8025,
           0.58,
           1.8675,
           0.645,
           1.9325,
           0.7075,
           1.995,
           0.7725,
           2.06,
           0.8375,
           2.125,
           0.9025,
           2.1875,
           0.965,
           2.2525,
           1.03,
           2.3175,
           1.095,
           2.3825,
           1.16,
           2.445,
           1.2225
          ],
          "TaskName": "Localizer",
          "freesurfer_version": "7.1.0",
          "nifti_headers": {
           "aux_file": "",
           "base_affine": [
            [
             -2,
             0,
             0,
             69
            ],
            [
             0,
             2,
             0,
             -81
            ],
            [
             0,
             0,
             3,
             -70.5
            ],
            [
             0,
             0,
             0,
             1
            ]
           ],
           "bitpix": 16,
           "cal_max": 1293.283447265625,
           "cal_min": -70.84413146972656,
           "data_type": "",
           "datatype": 4,
           "db_name": "",
           "descrip": "xform matrices modified by FixHeaderApplyTransforms (niworkflows v1.3.2).",
           "dim": [
            4,
            70,
            82,
            48,
            260,
            1,
            1,
            1
           ],
           "dim_info": 0,
           "extents": 0,
           "glmax": 0,
           "glmin": 0,
           "intent_code": 0,
           "intent_name": "",
           "intent_p1": 0,
           "intent_p2": 0,
           "intent_p3": 0,
           "magic": "n+1",
           "pixdim": [
            1,
            2,
            2,
            3,
            2.5,
            1,
            1,
            1
           ],
           "qform_code": 2,
           "qoffset_x": -75.18374633789062,
           "qoffset_y": -2.4254555702209473,
           "qoffset_z": -68.60855865478516,
           "quatern_b": 0,
           "quatern_c": 0,
           "quatern_d": 0,
           "regular": "r",
           "scl_inter": null,
           "scl_slope": null,
           "session_error": 0,
           "sform_code": 2,
           "sizeof_hdr": 348,
           "slice_code": 0,
           "slice_duration": 0,
           "slice_end": 0,
           "slice_start": 0,
           "srow_x": [
            2,
            0,
            0,
            -75.18374633789062
           ],
           "srow_y": [
            0,
            2,
            0,
            -2.4254555702209473
           ],
           "srow_z": [
            0,
            0,
            3,
            -68.60855865478516
           ],
           "toffset": 0,
           "vox_offset": 0,
           "xyzt_units": 10
          },
          "space": "T1w",
          "subject": "02",
          "task": "run4"
         },
         "subdir": "output",
         "tags": [
          "12_16_2020"
         ]
        },
        "path": "5fda36b30d4b105d2b9038ae/5fdacda20d4b105d2b904065/bold_img",
        "task_id": "5fdacda20d4b105d2b904065"
       },
       {
        "app": {},
        "datatype": "neuro/anat/t1w",
        "finish_date": "2021-01-22T08:28:04.145Z",
        "output": {
         "archive": {
          "desc": "",
          "project": "5fda367856422f36d2f97a51"
         },
         "datatype": "58c33bcee13a50849b25879a",
         "datatype_tags": [],
         "desc": "preprocessed t1 (same alignment as the original t1, but level adjusted - editme)",
         "files": null,
         "id": "anat",
         "meta": {
          "EchoTime": 0.03,
          "EffectiveEchoSpacing": 0.000370002,
          "FlipAngle": 90,
          "ImageType": [
           "ORIGINAL",
           "PRIMARY",
           "M",
           "ND",
           "NORM",
           "MOS"
          ],
          "MagneticFieldStrength": 3,
          "Manufacturer": "Siemens",
          "ManufacturersModelName": "TrioTim",
          "PhaseEncodingDirection": "j-",
          "PulseSequenceType": "Gradient Echo EPI",
          "RepetitionTime": 2.5,
          "SkullStripped": false,
          "SliceTiming": [
           0,
           1.2875,
           0.065,
           1.3525,
           0.13,
           1.4175,
           0.195,
           1.48,
           0.2575,
           1.545,
           0.3225,
           1.61,
           0.3875,
           1.675,
           0.4525,
           1.7375,
           0.515,
           1.8025,
           0.58,
           1.8675,
           0.645,
           1.9325,
           0.7075,
           1.995,
           0.7725,
           2.06,
           0.8375,
           2.125,
           0.9025,
           2.1875,
           0.965,
           2.2525,
           1.03,
           2.3175,
           1.095,
           2.3825,
           1.16,
           2.445,
           1.2225
          ],
          "TaskName": "Localizer",
          "freesurfer_version": "7.1.0",
          "nifti_headers": {
           "aux_file": "",
           "base_affine": [
            [
             -1.0000004768371582,
             0,
             0,
             95.50004553794861
            ],
            [
             0,
             0.9375,
             0,
             -119.53125
            ],
            [
             0,
             0,
             0.9375,
             -119.53125
            ],
            [
             0,
             0,
             0,
             1
            ]
           ],
           "bitpix": 32,
           "cal_max": 0,
           "cal_min": 0,
           "data_type": "",
           "datatype": 16,
           "db_name": "",
           "descrip": "xform matrices modified by CopyXForm (niworkflows v1.3.2).",
           "dim": [
            3,
            192,
            256,
            256,
            1,
            1,
            1,
            1
           ],
           "dim_info": 0,
           "extents": 0,
           "glmax": 0,
           "glmin": 0,
           "intent_code": 0,
           "intent_name": "",
           "intent_p1": 0,
           "intent_p2": 0,
           "intent_p3": 0,
           "magic": "n+1",
           "pixdim": [
            1,
            1.0000004768371582,
            0.9375,
            0.9375,
            1.899999976158142,
            1,
            1,
            1
           ],
           "qform_code": 1,
           "qoffset_x": -119.18374633789062,
           "qoffset_y": -63.835418701171875,
           "qoffset_z": -61.3758659362793,
           "quatern_b": -0.22215034067630768,
           "quatern_c": -0.002669244073331356,
           "quatern_d": -0.06678680330514908,
           "regular": "",
           "scl_inter": null,
           "scl_slope": null,
           "session_error": 0,
           "sform_code": 1,
           "sizeof_hdr": 348,
           "slice_code": 0,
           "slice_duration": 0,
           "slice_end": 0,
           "slice_start": 0,
           "srow_x": [
            0.991065263748169,
            0.12292076647281647,
            0.022950533777475357,
            -119.18374633789062
           ],
           "srow_y": [
            -0.12874364852905273,
            0.8366038799285889,
            0.405502587556839,
            -63.835418701171875
           ],
           "srow_z": [
            0.03486628085374832,
            -0.4048340916633606,
            0.8449539542198181,
            -61.3758659362793
           ],
           "toffset": 0,
           "vox_offset": 0,
           "xyzt_units": 2
          },
          "subject": "02",
          "task": "run4"
         },
         "subdir": "output",
         "tags": [
          "12_16_2020"
         ]
        },
        "path": "5fda36b30d4b105d2b9038ae/5fdacda20d4b105d2b904065/anat",
        "task_id": "5fdacda20d4b105d2b904065"
       },
       {
        "app": {},
        "datatype": "neuro/func/task",
        "finish_date": "2021-01-22T08:30:08.063Z",
        "output": {
         "archive": {
          "desc": "",
          "project": "5fda367856422f36d2f97a51"
         },
         "datatype": "59b685a08e5d38b0b331ddc5",
         "datatype_tags": [
          "run4",
          "preprocessed"
         ],
         "files": null,
         "id": "bold_img",
         "meta": {
          "EchoTime": 0.03,
          "EffectiveEchoSpacing": 0.000370002,
          "FlipAngle": 90,
          "ImageType": [
           "ORIGINAL",
           "PRIMARY",
           "M",
           "ND",
           "NORM",
           "MOS"
          ],
          "MagneticFieldStrength": 3,
          "Manufacturer": "Siemens",
          "ManufacturersModelName": "TrioTim",
          "PhaseEncodingDirection": "j-",
          "PulseSequenceType": "Gradient Echo EPI",
          "RepetitionTime": 2.5,
          "SliceTiming": [
           0,
           1.2875,
           0.065,
           1.3525,
           0.13,
           1.4175,
           0.1925,
           1.48,
           0.2575,
           1.545,
           0.3225,
           1.61,
           0.3875,
           1.6725,
           0.45,
           1.7375,
           0.515,
           1.8025,
           0.58,
           1.8675,
           0.645,
           1.93,
           0.7075,
           1.995,
           0.7725,
           2.06,
           0.8375,
           2.125,
           0.9025,
           2.1875,
           0.965,
           2.2525,
           1.03,
           2.3175,
           1.095,
           2.3825,
           1.16,
           2.445,
           1.2225
          ],
          "TaskName": "Experimental Run 4",
          "freesurfer_version": "7.1.0",
          "nifti_headers": {
           "aux_file": "",
           "base_affine": [
            [
             -2,
             0,
             0,
             72
            ],
            [
             0,
             2,
             0,
             -82
            ],
            [
             0,
             0,
             3,
             -69
            ],
            [
             0,
             0,
             0,
             1
            ]
           ],
           "bitpix": 16,
           "cal_max": 1741.568115234375,
           "cal_min": -89.73536682128906,
           "data_type": "",
           "datatype": 4,
           "db_name": "",
           "descrip": "xform matrices modified by FixHeaderApplyTransforms (niworkflows v1.3.2).",
           "dim": [
            4,
            73,
            83,
            47,
            260,
            1,
            1,
            1
           ],
           "dim_info": 0,
           "extents": 0,
           "glmax": 0,
           "glmin": 0,
           "intent_code": 0,
           "intent_name": "",
           "intent_p1": 0,
           "intent_p2": 0,
           "intent_p3": 0,
           "magic": "n+1",
           "pixdim": [
            1,
            2,
            2,
            3,
            2.5,
            1,
            1,
            1
           ],
           "qform_code": 2,
           "qoffset_x": -81.7459487915039,
           "qoffset_y": -4.52402400970459,
           "qoffset_z": -85.02325439453125,
           "quatern_b": 0,
           "quatern_c": 0,
           "quatern_d": 0,
           "regular": "r",
           "scl_inter": null,
           "scl_slope": null,
           "session_error": 0,
           "sform_code": 2,
           "sizeof_hdr": 348,
           "slice_code": 0,
           "slice_duration": 0,
           "slice_end": 0,
           "slice_start": 0,
           "srow_x": [
            2,
            0,
            0,
            -81.7459487915039
           ],
           "srow_y": [
            0,
            2,
            0,
            -4.52402400970459
           ],
           "srow_z": [
            0,
            0,
            3,
            -85.02325439453125
           ],
           "toffset": 0,
           "vox_offset": 0,
           "xyzt_units": 10
          },
          "space": "T1w",
          "subject": "04",
          "task": "run4"
         },
         "subdir": "output",
         "tags": [
          "12_16_2020"
         ]
        },
        "path": "5fda36b40d4b105d2b9038ba/5fdacda30d4b105d2b90407b/bold_img",
        "task_id": "5fdacda30d4b105d2b90407b"
       },
       {
        "app": {},
        "datatype": "neuro/anat/t1w",
        "finish_date": "2021-01-22T08:30:08.822Z",
        "output": {
         "archive": {
          "desc": "",
          "project": "5fda367856422f36d2f97a51"
         },
         "datatype": "58c33bcee13a50849b25879a",
         "datatype_tags": [],
         "desc": "preprocessed t1 (same alignment as the original t1, but level adjusted - editme)",
         "files": null,
         "id": "anat",
         "meta": {
          "EchoTime": 0.03,
          "EffectiveEchoSpacing": 0.000370002,
          "FlipAngle": 90,
          "ImageType": [
           "ORIGINAL",
           "PRIMARY",
           "M",
           "ND",
           "NORM",
           "MOS"
          ],
          "MagneticFieldStrength": 3,
          "Manufacturer": "Siemens",
          "ManufacturersModelName": "TrioTim",
          "PhaseEncodingDirection": "j-",
          "PulseSequenceType": "Gradient Echo EPI",
          "RepetitionTime": 2.5,
          "SkullStripped": false,
          "SliceTiming": [
           0,
           1.2875,
           0.065,
           1.3525,
           0.13,
           1.4175,
           0.1925,
           1.48,
           0.2575,
           1.545,
           0.3225,
           1.61,
           0.3875,
           1.6725,
           0.45,
           1.7375,
           0.515,
           1.8025,
           0.58,
           1.8675,
           0.645,
           1.93,
           0.7075,
           1.995,
           0.7725,
           2.06,
           0.8375,
           2.125,
           0.9025,
           2.1875,
           0.965,
           2.2525,
           1.03,
           2.3175,
           1.095,
           2.3825,
           1.16,
           2.445,
           1.2225
          ],
          "TaskName": "Experimental Run 4",
          "freesurfer_version": "7.1.0",
          "nifti_headers": {
           "aux_file": "",
           "base_affine": [
            [
             -0.9999984502792358,
             0,
             0,
             95.49985200166702
            ],
            [
             0,
             0.9375,
             0,
             -119.53125
            ],
            [
             0,
             0,
             0.9375,
             -119.53125
            ],
            [
             0,
             0,
             0,
             1
            ]
           ],
           "bitpix": 32,
           "cal_max": 0,
           "cal_min": 0,
           "data_type": "",
           "datatype": 16,
           "db_name": "",
           "descrip": "xform matrices modified by CopyXForm (niworkflows v1.3.2).",
           "dim": [
            3,
            192,
            256,
            256,
            1,
            1,
            1,
            1
           ],
           "dim_info": 0,
           "extents": 0,
           "glmax": 0,
           "glmin": 0,
           "intent_code": 0,
           "intent_name": "",
           "intent_p1": 0,
           "intent_p2": 0,
           "intent_p3": 0,
           "magic": "n+1",
           "pixdim": [
            1,
            0.9999984502792358,
            0.9375,
            0.9375,
            1.899999976158142,
            1,
            1,
            1
           ],
           "qform_code": 1,
           "qoffset_x": -111.36163330078125,
           "qoffset_y": -63.5657958984375,
           "qoffset_z": -104.8027114868164,
           "quatern_b": -0.1571236252784729,
           "quatern_c": -0.034329477697610855,
           "quatern_d": -0.05051016807556152,
           "regular": "",
           "scl_inter": null,
           "scl_slope": null,
           "session_error": 0,
           "sform_code": 1,
           "sizeof_hdr": 348,
           "slice_code": 0,
           "slice_duration": 0,
           "slice_end": 0,
           "slice_start": 0,
           "srow_x": [
            0.9925388693809509,
            0.10346489399671555,
            -0.04856594651937485,
            -111.36163330078125
           ],
           "srow_y": [
            -0.0887865349650383,
            0.8864266872406006,
            0.2936418354511261,
            -63.5657958984375
           ],
           "srow_z": [
            0.08354891836643219,
            -0.2871393859386444,
            0.8890005946159363,
            -104.8027114868164
           ],
           "toffset": 0,
           "vox_offset": 0,
           "xyzt_units": 2
          },
          "subject": "04",
          "task": "run4"
         },
         "subdir": "output",
         "tags": [
          "12_16_2020"
         ]
        },
        "path": "5fda36b40d4b105d2b9038ba/5fdacda30d4b105d2b90407b/anat",
        "task_id": "5fdacda30d4b105d2b90407b"
       },
       {
        "app": {},
        "datatype": "neuro/func/task",
        "finish_date": "2021-01-22T08:30:11.710Z",
        "output": {
         "archive": {
          "desc": "",
          "project": "5fda367856422f36d2f97a51"
         },
         "datatype": "59b685a08e5d38b0b331ddc5",
         "datatype_tags": [
          "run4",
          "preprocessed"
         ],
         "files": null,
         "id": "bold_img",
         "meta": {
          "EchoTime": 0.03,
          "EffectiveEchoSpacing": 0.000370002,
          "FlipAngle": 90,
          "ImageType": [
           "ORIGINAL",
           "PRIMARY",
           "M",
           "ND",
           "NORM",
           "MOS"
          ],
          "MagneticFieldStrength": 3,
          "Manufacturer": "Siemens",
          "ManufacturersModelName": "TrioTim",
          "PhaseEncodingDirection": "j-",
          "PulseSequenceType": "Gradient Echo EPI",
          "RepetitionTime": 2.5,
          "SliceTiming": [
           0,
           1.285,
           0.0625,
           1.35,
           0.1275,
           1.415,
           0.1925,
           1.48,
           0.2575,
           1.5425,
           0.32,
           1.6075,
           0.385,
           1.6725,
           0.45,
           1.7375,
           0.515,
           1.8,
           0.5775,
           1.865,
           0.6425,
           1.93,
           0.7075,
           1.995,
           0.7725,
           2.0575,
           0.835,
           2.1225,
           0.9,
           2.1875,
           0.965,
           2.2525,
           1.0275,
           2.315,
           1.0925,
           2.38,
           1.1575,
           2.445,
           1.2225
          ],
          "TaskName": "Experimental Run 4",
          "freesurfer_version": "7.1.0",
          "nifti_headers": {
           "aux_file": "",
           "base_affine": [
            [
             -2,
             0,
             0,
             71
            ],
            [
             0,
             2,
             0,
             -80
            ],
            [
             0,
             0,
             3,
             -70.5
            ],
            [
             0,
             0,
             0,
             1
            ]
           ],
           "bitpix": 16,
           "cal_max": 1744.45947265625,
           "cal_min": -126.9283676147461,
           "data_type": "",
           "datatype": 4,
           "db_name": "",
           "descrip": "xform matrices modified by FixHeaderApplyTransforms (niworkflows v1.3.2).",
           "dim": [
            4,
            72,
            81,
            48,
            260,
            1,
            1,
            1
           ],
           "dim_info": 0,
           "extents": 0,
           "glmax": 0,
           "glmin": 0,
           "intent_code": 0,
           "intent_name": "",
           "intent_p1": 0,
           "intent_p2": 0,
           "intent_p3": 0,
           "magic": "n+1",
           "pixdim": [
            1,
            2,
            2,
            3,
            2.5,
            1,
            1,
            1
           ],
           "qform_code": 2,
           "qoffset_x": -75.24183654785156,
           "qoffset_y": 0.18226762115955353,
           "qoffset_z": -81.86811828613281,
           "quatern_b": 0,
           "quatern_c": 0,
           "quatern_d": 0,
           "regular": "r",
           "scl_inter": null,
           "scl_slope": null,
           "session_error": 0,
           "sform_code": 2,
           "sizeof_hdr": 348,
           "slice_code": 0,
           "slice_duration": 0,
           "slice_end": 0,
           "slice_start": 0,
           "srow_x": [
            2,
            0,
            0,
            -75.24183654785156
           ],
           "srow_y": [
            0,
            2,
            0,
            0.18226762115955353
           ],
           "srow_z": [
            0,
            0,
            3,
            -81.86811828613281
           ],
           "toffset": 0,
           "vox_offset": 0,
           "xyzt_units": 10
          },
          "space": "T1w",
          "subject": "06",
          "task": "run4"
         },
         "subdir": "output",
         "tags": [
          "12_16_2020"
         ]
        },
        "path": "5fda36b50d4b105d2b9038c6/5fdacda30d4b105d2b904091/bold_img",
        "task_id": "5fdacda30d4b105d2b904091"
       },
       {
        "app": {},
        "datatype": "neuro/anat/t1w",
        "finish_date": "2021-01-22T08:30:12.642Z",
        "output": {
         "archive": {
          "desc": "",
          "project": "5fda367856422f36d2f97a51"
         },
         "datatype": "58c33bcee13a50849b25879a",
         "datatype_tags": [],
         "desc": "preprocessed t1 (same alignment as the original t1, but level adjusted - editme)",
         "files": null,
         "id": "anat",
         "meta": {
          "EchoTime": 0.03,
          "EffectiveEchoSpacing": 0.000370002,
          "FlipAngle": 90,
          "ImageType": [
           "ORIGINAL",
           "PRIMARY",
           "M",
           "ND",
           "NORM",
           "MOS"
          ],
          "MagneticFieldStrength": 3,
          "Manufacturer": "Siemens",
          "ManufacturersModelName": "TrioTim",
          "PhaseEncodingDirection": "j-",
          "PulseSequenceType": "Gradient Echo EPI",
          "RepetitionTime": 2.5,
          "SkullStripped": false,
          "SliceTiming": [
           0,
           1.285,
           0.0625,
           1.35,
           0.1275,
           1.415,
           0.1925,
           1.48,
           0.2575,
           1.5425,
           0.32,
           1.6075,
           0.385,
           1.6725,
           0.45,
           1.7375,
           0.515,
           1.8,
           0.5775,
           1.865,
           0.6425,
           1.93,
           0.7075,
           1.995,
           0.7725,
           2.0575,
           0.835,
           2.1225,
           0.9,
           2.1875,
           0.965,
           2.2525,
           1.0275,
           2.315,
           1.0925,
           2.38,
           1.1575,
           2.445,
           1.2225
          ],
          "TaskName": "Experimental Run 4",
          "freesurfer_version": "7.1.0",
          "nifti_headers": {
           "aux_file": "",
           "base_affine": [
            [
             -0.9999998211860657,
             0,
             0,
             95.49998292326927
            ],
            [
             0,
             0.9375,
             0,
             -119.53125
            ],
            [
             0,
             0,
             0.9375000596046448,
             -119.53125759959221
            ],
            [
             0,
             0,
             0,
             1
            ]
           ],
           "bitpix": 32,
           "cal_max": 0,
           "cal_min": 0,
           "data_type": "",
           "datatype": 16,
           "db_name": "",
           "descrip": "xform matrices modified by CopyXForm (niworkflows v1.3.2).",
           "dim": [
            3,
            192,
            256,
            256,
            1,
            1,
            1,
            1
           ],
           "dim_info": 0,
           "extents": 0,
           "glmax": 0,
           "glmin": 0,
           "intent_code": 0,
           "intent_name": "",
           "intent_p1": 0,
           "intent_p2": 0,
           "intent_p3": 0,
           "magic": "n+1",
           "pixdim": [
            1,
            0.9999998211860657,
            0.9375,
            0.9375000596046448,
            1.899999976158142,
            1,
            1,
            1
           ],
           "qform_code": 1,
           "qoffset_x": -100.37577819824219,
           "qoffset_y": -75.48472595214844,
           "qoffset_z": -73.7550048828125,
           "quatern_b": -0.21813388168811798,
           "quatern_c": 0.006150141358375549,
           "quatern_d": 0.00048141187289729714,
           "regular": "",
           "scl_inter": null,
           "scl_slope": null,
           "session_error": 0,
           "sform_code": 1,
           "sizeof_hdr": 348,
           "slice_code": 0,
           "slice_duration": 0,
           "slice_end": 0,
           "slice_start": 0,
           "srow_x": [
            0.9999237060546875,
            -0.0033963071182370186,
            0.011056700721383095,
            -100.37577819824219
           ],
           "srow_y": [
            -0.0017434891778975725,
            0.8482825756072998,
            0.39914941787719727,
            -75.48472595214844
           ],
           "srow_z": [
            -0.012213860638439655,
            -0.39913830161094666,
            0.8482121229171753,
            -73.7550048828125
           ],
           "toffset": 0,
           "vox_offset": 0,
           "xyzt_units": 2
          },
          "subject": "06",
          "task": "run4"
         },
         "subdir": "output",
         "tags": [
          "12_16_2020"
         ]
        },
        "path": "5fda36b50d4b105d2b9038c6/5fdacda30d4b105d2b904091/anat",
        "task_id": "5fdacda30d4b105d2b904091"
       },
       {
        "app": {},
        "datatype": "neuro/anat/t1w",
        "finish_date": "2021-01-22T08:34:17.471Z",
        "output": {
         "archive": {
          "desc": "",
          "project": "5fda367856422f36d2f97a51"
         },
         "datatype": "58c33bcee13a50849b25879a",
         "datatype_tags": [],
         "desc": "preprocessed t1 (same alignment as the original t1, but level adjusted - editme)",
         "files": null,
         "id": "anat",
         "meta": {
          "EchoTime": 0.03,
          "EffectiveEchoSpacing": 0.000390006,
          "FlipAngle": 90,
          "ImageType": [
           "ORIGINAL",
           "PRIMARY",
           "M",
           "ND",
           "NORM",
           "MOS"
          ],
          "MagneticFieldStrength": 3,
          "Manufacturer": "Siemens",
          "ManufacturersModelName": "TrioTim",
          "PhaseEncodingDirection": "j-",
          "PulseSequenceType": "Gradient Echo EPI",
          "RepetitionTime": 2.5,
          "SkullStripped": false,
          "SliceTiming": [
           0,
           1.2875,
           0.065,
           1.3525,
           0.1275,
           1.415,
           0.1925,
           1.48,
           0.2575,
           1.545,
           0.3225,
           1.6075,
           0.385,
           1.6725,
           0.45,
           1.7375,
           0.515,
           1.8025,
           0.58,
           1.865,
           0.6425,
           1.93,
           0.7075,
           1.995,
           0.7725,
           2.06,
           0.8375,
           2.1225,
           0.9,
           2.1875,
           0.965,
           2.2525,
           1.03,
           2.3175,
           1.095,
           2.38,
           1.1575,
           2.445,
           1.2225
          ],
          "TaskName": "Experimental Run 4",
          "freesurfer_version": "7.1.0",
          "nifti_headers": {
           "aux_file": "",
           "base_affine": [
            [
             -0.9999986886978149,
             0,
             0,
             95.49987477064133
            ],
            [
             0,
             0.9375,
             0,
             -119.53125
            ],
            [
             0,
             0,
             0.9375,
             -119.53125
            ],
            [
             0,
             0,
             0,
             1
            ]
           ],
           "bitpix": 32,
           "cal_max": 0,
           "cal_min": 0,
           "data_type": "",
           "datatype": 16,
           "db_name": "",
           "descrip": "xform matrices modified by CopyXForm (niworkflows v1.3.2).",
           "dim": [
            3,
            192,
            256,
            256,
            1,
            1,
            1,
            1
           ],
           "dim_info": 0,
           "extents": 0,
           "glmax": 0,
           "glmin": 0,
           "intent_code": 0,
           "intent_name": "",
           "intent_p1": 0,
           "intent_p2": 0,
           "intent_p3": 0,
           "magic": "n+1",
           "pixdim": [
            1,
            0.9999986886978149,
            0.9375,
            0.9375,
            1.899999976158142,
            1,
            1,
            1
           ],
           "qform_code": 1,
           "qoffset_x": -123.9210205078125,
           "qoffset_y": -82.96476745605469,
           "qoffset_z": -73.68924713134766,
           "quatern_b": -0.17332160472869873,
           "quatern_c": 0.05419336259365082,
           "quatern_d": -0.02684102952480316,
           "regular": "",
           "scl_inter": null,
           "scl_slope": null,
           "session_error": 0,
           "sform_code": 1,
           "sizeof_hdr": 348,
           "slice_code": 0,
           "slice_duration": 0,
           "slice_end": 0,
           "slice_start": 0,
           "srow_x": [
            0.9926839470863342,
            0.03186006471514702,
            0.10860857367515564,
            -123.9210205078125
           ],
           "srow_y": [
            -0.0715554878115654,
            0.8798234462738037,
            0.3167281746864319,
            -82.96476745605469
           ],
           "srow_z": [
            -0.09724049270153046,
            -0.32218295335769653,
            0.8756675720214844,
            -73.68924713134766
           ],
           "toffset": 0,
           "vox_offset": 0,
           "xyzt_units": 2
          },
          "subject": "20",
          "task": "run4"
         },
         "subdir": "output",
         "tags": [
          "12_16_2020"
         ]
        },
        "path": "5fda36b80d4b105d2b90391a/5fdacda50d4b105d2b904113/anat",
        "task_id": "5fdacda50d4b105d2b904113"
       },
       {
        "app": {},
        "datatype": "neuro/func/task",
        "finish_date": "2021-01-22T08:34:19.396Z",
        "output": {
         "archive": {
          "desc": "",
          "project": "5fda367856422f36d2f97a51"
         },
         "datatype": "59b685a08e5d38b0b331ddc5",
         "datatype_tags": [
          "run4",
          "preprocessed"
         ],
         "files": null,
         "id": "bold_img",
         "meta": {
          "EchoTime": 0.03,
          "EffectiveEchoSpacing": 0.000390006,
          "FlipAngle": 90,
          "ImageType": [
           "ORIGINAL",
           "PRIMARY",
           "M",
           "ND",
           "NORM",
           "MOS"
          ],
          "MagneticFieldStrength": 3,
          "Manufacturer": "Siemens",
          "ManufacturersModelName": "TrioTim",
          "PhaseEncodingDirection": "j-",
          "PulseSequenceType": "Gradient Echo EPI",
          "RepetitionTime": 2.5,
          "SliceTiming": [
           0,
           1.2875,
           0.065,
           1.3525,
           0.1275,
           1.415,
           0.1925,
           1.48,
           0.2575,
           1.545,
           0.3225,
           1.6075,
           0.385,
           1.6725,
           0.45,
           1.7375,
           0.515,
           1.8025,
           0.58,
           1.865,
           0.6425,
           1.93,
           0.7075,
           1.995,
           0.7725,
           2.06,
           0.8375,
           2.1225,
           0.9,
           2.1875,
           0.965,
           2.2525,
           1.03,
           2.3175,
           1.095,
           2.38,
           1.1575,
           2.445,
           1.2225
          ],
          "TaskName": "Experimental Run 4",
          "freesurfer_version": "7.1.0",
          "nifti_headers": {
           "aux_file": "",
           "base_affine": [
            [
             -2,
             0,
             0,
             67
            ],
            [
             0,
             2,
             0,
             -78
            ],
            [
             0,
             0,
             3,
             -67.5
            ],
            [
             0,
             0,
             0,
             1
            ]
           ],
           "bitpix": 16,
           "cal_max": 1130.0146484375,
           "cal_min": -68.0512924194336,
           "data_type": "",
           "datatype": 4,
           "db_name": "",
           "descrip": "xform matrices modified by FixHeaderApplyTransforms (niworkflows v1.3.2).",
           "dim": [
            4,
            68,
            79,
            46,
            260,
            1,
            1,
            1
           ],
           "dim_info": 0,
           "extents": 0,
           "glmax": 0,
           "glmin": 0,
           "intent_code": 0,
           "intent_name": "",
           "intent_p1": 0,
           "intent_p2": 0,
           "intent_p3": 0,
           "magic": "n+1",
           "pixdim": [
            1,
            2,
            2,
            3,
            2.5,
            1,
            1,
            1
           ],
           "qform_code": 2,
           "qoffset_x": -79.9210205078125,
           "qoffset_y": -10.631865501403809,
           "qoffset_z": -72.41883087158203,
           "quatern_b": 0,
           "quatern_c": 0,
           "quatern_d": 0,
           "regular": "r",
           "scl_inter": null,
           "scl_slope": null,
           "session_error": 0,
           "sform_code": 2,
           "sizeof_hdr": 348,
           "slice_code": 0,
           "slice_duration": 0,
           "slice_end": 0,
           "slice_start": 0,
           "srow_x": [
            2,
            0,
            0,
            -79.9210205078125
           ],
           "srow_y": [
            0,
            2,
            0,
            -10.631865501403809
           ],
           "srow_z": [
            0,
            0,
            3,
            -72.41883087158203
           ],
           "toffset": 0,
           "vox_offset": 0,
           "xyzt_units": 10
          },
          "space": "T1w",
          "subject": "20",
          "task": "run4"
         },
         "subdir": "output",
         "tags": [
          "12_16_2020"
         ]
        },
        "path": "5fda36b80d4b105d2b90391a/5fdacda50d4b105d2b904113/bold_img",
        "task_id": "5fdacda50d4b105d2b904113"
       },
       {
        "app": {},
        "datatype": "neuro/func/task",
        "finish_date": "2021-01-22T08:37:27.742Z",
        "output": {
         "archive": {
          "desc": "",
          "project": "5fda367856422f36d2f97a51"
         },
         "datatype": "59b685a08e5d38b0b331ddc5",
         "datatype_tags": [
          "run4",
          "preprocessed"
         ],
         "files": null,
         "id": "bold_img",
         "meta": {
          "EchoTime": 0.03,
          "EffectiveEchoSpacing": 0.000370002,
          "FlipAngle": 90,
          "ImageType": [
           "ORIGINAL",
           "PRIMARY",
           "M",
           "ND",
           "NORM",
           "MOS"
          ],
          "MagneticFieldStrength": 3,
          "Manufacturer": "Siemens",
          "ManufacturersModelName": "TrioTim",
          "PhaseEncodingDirection": "j-",
          "PulseSequenceType": "Gradient Echo EPI",
          "RepetitionTime": 2.5,
          "SliceTiming": [
           0,
           1.2875,
           0.065,
           1.3525,
           0.13,
           1.415,
           0.1925,
           1.48,
           0.2575,
           1.545,
           0.3225,
           1.61,
           0.3875,
           1.6725,
           0.45,
           1.7375,
           0.515,
           1.8025,
           0.58,
           1.8675,
           0.6425,
           1.93,
           0.7075,
           1.995,
           0.7725,
           2.06,
           0.8375,
           2.1225,
           0.9,
           2.1875,
           0.965,
           2.2525,
           1.03,
           2.3175,
           1.095,
           2.38,
           1.1575,
           2.445,
           1.2225
          ],
          "TaskName": "Experimental Run 4",
          "freesurfer_version": "7.1.0",
          "nifti_headers": {
           "aux_file": "",
           "base_affine": [
            [
             -2,
             0,
             0,
             73
            ],
            [
             0,
             2,
             0,
             -86
            ],
            [
             0,
             0,
             3,
             -72
            ],
            [
             0,
             0,
             0,
             1
            ]
           ],
           "bitpix": 16,
           "cal_max": 1121.8741455078125,
           "cal_min": -59.17783737182617,
           "data_type": "",
           "datatype": 4,
           "db_name": "",
           "descrip": "xform matrices modified by FixHeaderApplyTransforms (niworkflows v1.3.2).",
           "dim": [
            4,
            74,
            87,
            49,
            260,
            1,
            1,
            1
           ],
           "dim_info": 0,
           "extents": 0,
           "glmax": 0,
           "glmin": 0,
           "intent_code": 0,
           "intent_name": "",
           "intent_p1": 0,
           "intent_p2": 0,
           "intent_p3": 0,
           "magic": "n+1",
           "pixdim": [
            1,
            2,
            2,
            3,
            2.5,
            1,
            1,
            1
           ],
           "qform_code": 2,
           "qoffset_x": -76.31880187988281,
           "qoffset_y": 2.7487659454345703,
           "qoffset_z": -76.17489624023438,
           "quatern_b": 0,
           "quatern_c": 0,
           "quatern_d": 0,
           "regular": "r",
           "scl_inter": null,
           "scl_slope": null,
           "session_error": 0,
           "sform_code": 2,
           "sizeof_hdr": 348,
           "slice_code": 0,
           "slice_duration": 0,
           "slice_end": 0,
           "slice_start": 0,
           "srow_x": [
            2,
            0,
            0,
            -76.31880187988281
           ],
           "srow_y": [
            0,
            2,
            0,
            2.7487659454345703
           ],
           "srow_z": [
            0,
            0,
            3,
            -76.17489624023438
           ],
           "toffset": 0,
           "vox_offset": 0,
           "xyzt_units": 10
          },
          "space": "T1w",
          "subject": "05",
          "task": "run4"
         },
         "subdir": "output",
         "tags": [
          "12_16_2020"
         ]
        },
        "path": "5fda36b40d4b105d2b9038c0/5fdacda30d4b105d2b904086/bold_img",
        "task_id": "5fdacda30d4b105d2b904086"
       },
       {
        "app": {},
        "datatype": "neuro/anat/t1w",
        "finish_date": "2021-01-22T08:37:28.638Z",
        "output": {
         "archive": {
          "desc": "",
          "project": "5fda367856422f36d2f97a51"
         },
         "datatype": "58c33bcee13a50849b25879a",
         "datatype_tags": [],
         "desc": "preprocessed t1 (same alignment as the original t1, but level adjusted - editme)",
         "files": null,
         "id": "anat",
         "meta": {
          "EchoTime": 0.03,
          "EffectiveEchoSpacing": 0.000370002,
          "FlipAngle": 90,
          "ImageType": [
           "ORIGINAL",
           "PRIMARY",
           "M",
           "ND",
           "NORM",
           "MOS"
          ],
          "MagneticFieldStrength": 3,
          "Manufacturer": "Siemens",
          "ManufacturersModelName": "TrioTim",
          "PhaseEncodingDirection": "j-",
          "PulseSequenceType": "Gradient Echo EPI",
          "RepetitionTime": 2.5,
          "SkullStripped": false,
          "SliceTiming": [
           0,
           1.2875,
           0.065,
           1.3525,
           0.13,
           1.415,
           0.1925,
           1.48,
           0.2575,
           1.545,
           0.3225,
           1.61,
           0.3875,
           1.6725,
           0.45,
           1.7375,
           0.515,
           1.8025,
           0.58,
           1.8675,
           0.6425,
           1.93,
           0.7075,
           1.995,
           0.7725,
           2.06,
           0.8375,
           2.1225,
           0.9,
           2.1875,
           0.965,
           2.2525,
           1.03,
           2.3175,
           1.095,
           2.38,
           1.1575,
           2.445,
           1.2225
          ],
          "TaskName": "Experimental Run 4",
          "freesurfer_version": "7.1.0",
          "nifti_headers": {
           "aux_file": "",
           "base_affine": [
            [
             -0.9999983310699463,
             0,
             0,
             95.49984061717987
            ],
            [
             0,
             0.9375,
             0,
             -119.53125
            ],
            [
             0,
             0,
             0.9375,
             -119.53125
            ],
            [
             0,
             0,
             0,
             1
            ]
           ],
           "bitpix": 32,
           "cal_max": 0,
           "cal_min": 0,
           "data_type": "",
           "datatype": 16,
           "db_name": "",
           "descrip": "xform matrices modified by CopyXForm (niworkflows v1.3.2).",
           "dim": [
            3,
            192,
            256,
            256,
            1,
            1,
            1,
            1
           ],
           "dim_info": 0,
           "extents": 0,
           "glmax": 0,
           "glmin": 0,
           "intent_code": 0,
           "intent_name": "",
           "intent_p1": 0,
           "intent_p2": 0,
           "intent_p3": 0,
           "magic": "n+1",
           "pixdim": [
            1,
            0.9999983310699463,
            0.9375,
            0.9375,
            1.899999976158142,
            1,
            1,
            1
           ],
           "qform_code": 1,
           "qoffset_x": -106.31880187988281,
           "qoffset_y": -64.91995239257812,
           "qoffset_z": -80.78230285644531,
           "quatern_b": -0.1881936639547348,
           "quatern_c": 0.004106402397155762,
           "quatern_d": -0.02142488770186901,
           "regular": "",
           "scl_inter": null,
           "scl_slope": null,
           "session_error": 0,
           "sform_code": 1,
           "sizeof_hdr": 348,
           "slice_code": 0,
           "slice_duration": 0,
           "slice_end": 0,
           "slice_start": 0,
           "srow_x": [
            0.9990465641021729,
            0.037995144724845886,
            0.015120116993784904,
            -106.31880187988281
           ],
           "srow_y": [
            -0.04361927509307861,
            0.8702327013015747,
            0.3463076651096344,
            -64.91995239257812
           ],
           "srow_z": [
            -1.2107173041897568e-08,
            -0.3466376066207886,
            0.8710618019104004,
            -80.78230285644531
           ],
           "toffset": 0,
           "vox_offset": 0,
           "xyzt_units": 2
          },
          "subject": "05",
          "task": "run4"
         },
         "subdir": "output",
         "tags": [
          "12_16_2020"
         ]
        },
        "path": "5fda36b40d4b105d2b9038c0/5fdacda30d4b105d2b904086/anat",
        "task_id": "5fdacda30d4b105d2b904086"
       },
       {
        "app": {},
        "datatype": "neuro/anat/t1w",
        "finish_date": "2021-01-22T08:42:40.887Z",
        "output": {
         "archive": {
          "desc": "",
          "project": "5fda367856422f36d2f97a51"
         },
         "datatype": "58c33bcee13a50849b25879a",
         "datatype_tags": [],
         "desc": "preprocessed t1 (same alignment as the original t1, but level adjusted - editme)",
         "files": null,
         "id": "anat",
         "meta": {
          "EchoTime": 0.03,
          "EffectiveEchoSpacing": 0.000390006,
          "FlipAngle": 90,
          "ImageType": [
           "ORIGINAL",
           "PRIMARY",
           "M",
           "ND",
           "NORM",
           "MOS"
          ],
          "MagneticFieldStrength": 3,
          "Manufacturer": "Siemens",
          "ManufacturersModelName": "TrioTim",
          "PhaseEncodingDirection": "j-",
          "PulseSequenceType": "Gradient Echo EPI",
          "RepetitionTime": 2.5,
          "SkullStripped": false,
          "SliceTiming": [
           0,
           1.2875,
           0.065,
           1.3525,
           0.13,
           1.4175,
           0.195,
           1.48,
           0.2575,
           1.545,
           0.3225,
           1.61,
           0.3875,
           1.675,
           0.4525,
           1.7375,
           0.515,
           1.8025,
           0.58,
           1.8675,
           0.645,
           1.9325,
           0.71,
           1.995,
           0.7725,
           2.06,
           0.8375,
           2.125,
           0.9025,
           2.19,
           0.9675,
           2.2525,
           1.03,
           2.3175,
           1.095,
           2.3825,
           1.16,
           2.4475,
           1.225
          ],
          "TaskName": "Experimental Run 4",
          "freesurfer_version": "7.1.0",
          "nifti_headers": {
           "aux_file": "",
           "base_affine": [
            [
             -0.9999949932098389,
             0,
             0,
             95.49952185153961
            ],
            [
             0,
             0.9375,
             0,
             -119.53125
            ],
            [
             0,
             0,
             0.9375,
             -119.53125
            ],
            [
             0,
             0,
             0,
             1
            ]
           ],
           "bitpix": 32,
           "cal_max": 0,
           "cal_min": 0,
           "data_type": "",
           "datatype": 16,
           "db_name": "",
           "descrip": "xform matrices modified by CopyXForm (niworkflows v1.3.2).",
           "dim": [
            3,
            192,
            256,
            256,
            1,
            1,
            1,
            1
           ],
           "dim_info": 0,
           "extents": 0,
           "glmax": 0,
           "glmin": 0,
           "intent_code": 0,
           "intent_name": "",
           "intent_p1": 0,
           "intent_p2": 0,
           "intent_p3": 0,
           "magic": "n+1",
           "pixdim": [
            1,
            0.9999949932098389,
            0.9375,
            0.9375,
            1.899999976158142,
            1,
            1,
            1
           ],
           "qform_code": 1,
           "qoffset_x": -119.00684356689453,
           "qoffset_y": -58.76023864746094,
           "qoffset_z": -90.4618148803711,
           "quatern_b": -0.1243916004896164,
           "quatern_c": 0.004343867301940918,
           "quatern_d": -0.034628093242645264,
           "regular": "",
           "scl_inter": null,
           "scl_slope": null,
           "session_error": 0,
           "sform_code": 1,
           "sizeof_hdr": 348,
           "slice_code": 0,
           "slice_duration": 0,
           "slice_end": 0,
           "slice_start": 0,
           "srow_x": [
            0.9975590705871582,
            0.06337039172649384,
            0.016152948141098022,
            -119.00684356689453
           ],
           "srow_y": [
            -0.06975609809160233,
            0.9062392711639404,
            0.23099753260612488,
            -58.76023864746094
           ],
           "srow_z": [
            -3.9115352734597764e-08,
            -0.2315616011619568,
            0.9084522128105164,
            -90.4618148803711
           ],
           "toffset": 0,
           "vox_offset": 0,
           "xyzt_units": 2
          },
          "subject": "19",
          "task": "run4"
         },
         "subdir": "output",
         "tags": [
          "12_16_2020"
         ]
        },
        "path": "5fda36b80d4b105d2b903914/5fdacda50d4b105d2b904105/anat",
        "task_id": "5fdacda50d4b105d2b904105"
       },
       {
        "app": {},
        "datatype": "neuro/func/task",
        "finish_date": "2021-01-22T08:42:41.730Z",
        "output": {
         "archive": {
          "desc": "",
          "project": "5fda367856422f36d2f97a51"
         },
         "datatype": "59b685a08e5d38b0b331ddc5",
         "datatype_tags": [
          "run4",
          "preprocessed"
         ],
         "files": null,
         "id": "bold_img",
         "meta": {
          "EchoTime": 0.03,
          "EffectiveEchoSpacing": 0.000390006,
          "FlipAngle": 90,
          "ImageType": [
           "ORIGINAL",
           "PRIMARY",
           "M",
           "ND",
           "NORM",
           "MOS"
          ],
          "MagneticFieldStrength": 3,
          "Manufacturer": "Siemens",
          "ManufacturersModelName": "TrioTim",
          "PhaseEncodingDirection": "j-",
          "PulseSequenceType": "Gradient Echo EPI",
          "RepetitionTime": 2.5,
          "SliceTiming": [
           0,
           1.2875,
           0.065,
           1.3525,
           0.13,
           1.4175,
           0.195,
           1.48,
           0.2575,
           1.545,
           0.3225,
           1.61,
           0.3875,
           1.675,
           0.4525,
           1.7375,
           0.515,
           1.8025,
           0.58,
           1.8675,
           0.645,
           1.9325,
           0.71,
           1.995,
           0.7725,
           2.06,
           0.8375,
           2.125,
           0.9025,
           2.19,
           0.9675,
           2.2525,
           1.03,
           2.3175,
           1.095,
           2.3825,
           1.16,
           2.4475,
           1.225
          ],
          "TaskName": "Experimental Run 4",
          "freesurfer_version": "7.1.0",
          "nifti_headers": {
           "aux_file": "",
           "base_affine": [
            [
             -2,
             0,
             0,
             72
            ],
            [
             0,
             2,
             0,
             -82
            ],
            [
             0,
             0,
             3,
             -70.5
            ],
            [
             0,
             0,
             0,
             1
            ]
           ],
           "bitpix": 16,
           "cal_max": 897.7833251953125,
           "cal_min": -53.81136703491211,
           "data_type": "",
           "datatype": 4,
           "db_name": "",
           "descrip": "xform matrices modified by FixHeaderApplyTransforms (niworkflows v1.3.2).",
           "dim": [
            4,
            73,
            83,
            48,
            260,
            1,
            1,
            1
           ],
           "dim_info": 0,
           "extents": 0,
           "glmax": 0,
           "glmin": 0,
           "intent_code": 0,
           "intent_name": "",
           "intent_p1": 0,
           "intent_p2": 0,
           "intent_p3": 0,
           "magic": "n+1",
           "pixdim": [
            1,
            2,
            2,
            3,
            2.5,
            1,
            1,
            1
           ],
           "qform_code": 2,
           "qoffset_x": -85.00684356689453,
           "qoffset_y": -2.083653450012207,
           "qoffset_z": -71.5100326538086,
           "quatern_b": 0,
           "quatern_c": 0,
           "quatern_d": 0,
           "regular": "r",
           "scl_inter": null,
           "scl_slope": null,
           "session_error": 0,
           "sform_code": 2,
           "sizeof_hdr": 348,
           "slice_code": 0,
           "slice_duration": 0,
           "slice_end": 0,
           "slice_start": 0,
           "srow_x": [
            2,
            0,
            0,
            -85.00684356689453
           ],
           "srow_y": [
            0,
            2,
            0,
            -2.083653450012207
           ],
           "srow_z": [
            0,
            0,
            3,
            -71.5100326538086
           ],
           "toffset": 0,
           "vox_offset": 0,
           "xyzt_units": 10
          },
          "space": "T1w",
          "subject": "19",
          "task": "run4"
         },
         "subdir": "output",
         "tags": [
          "12_16_2020"
         ]
        },
        "path": "5fda36b80d4b105d2b903914/5fdacda50d4b105d2b904105/bold_img",
        "task_id": "5fdacda50d4b105d2b904105"
       },
       {
        "app": {},
        "datatype": "neuro/func/task",
        "finish_date": "2021-01-22T08:50:54.982Z",
        "output": {
         "archive": {
          "desc": "",
          "project": "5fda367856422f36d2f97a51"
         },
         "datatype": "59b685a08e5d38b0b331ddc5",
         "datatype_tags": [
          "run4",
          "preprocessed"
         ],
         "files": null,
         "id": "bold_img",
         "meta": {
          "EchoTime": 0.03,
          "EffectiveEchoSpacing": 0.000370002,
          "FlipAngle": 90,
          "ImageType": [
           "ORIGINAL",
           "PRIMARY",
           "M",
           "ND",
           "NORM",
           "MOS"
          ],
          "MagneticFieldStrength": 3,
          "Manufacturer": "Siemens",
          "ManufacturersModelName": "TrioTim",
          "PhaseEncodingDirection": "j-",
          "PulseSequenceType": "Gradient Echo EPI",
          "RepetitionTime": 2.5,
          "SliceTiming": [
           0,
           1.2875,
           0.065,
           1.3525,
           0.13,
           1.4175,
           0.195,
           1.48,
           0.2575,
           1.545,
           0.3225,
           1.61,
           0.3875,
           1.675,
           0.4525,
           1.7375,
           0.515,
           1.8025,
           0.58,
           1.8675,
           0.645,
           1.9325,
           0.71,
           1.995,
           0.7725,
           2.06,
           0.8375,
           2.125,
           0.9025,
           2.19,
           0.9675,
           2.2525,
           1.03,
           2.3175,
           1.095,
           2.3825,
           1.16,
           2.4475,
           1.225
          ],
          "TaskName": "Experimental Run 4",
          "freesurfer_version": "7.1.0",
          "nifti_headers": {
           "aux_file": "",
           "base_affine": [
            [
             -2,
             0,
             0,
             68
            ],
            [
             0,
             2,
             0,
             -76
            ],
            [
             0,
             0,
             3,
             -66
            ],
            [
             0,
             0,
             0,
             1
            ]
           ],
           "bitpix": 16,
           "cal_max": 1862.814697265625,
           "cal_min": -158.9741668701172,
           "data_type": "",
           "datatype": 4,
           "db_name": "",
           "descrip": "xform matrices modified by FixHeaderApplyTransforms (niworkflows v1.3.2).",
           "dim": [
            4,
            69,
            77,
            45,
            260,
            1,
            1,
            1
           ],
           "dim_info": 0,
           "extents": 0,
           "glmax": 0,
           "glmin": 0,
           "intent_code": 0,
           "intent_name": "",
           "intent_p1": 0,
           "intent_p2": 0,
           "intent_p3": 0,
           "magic": "n+1",
           "pixdim": [
            1,
            2,
            2,
            3,
            2.5,
            1,
            1,
            1
           ],
           "qform_code": 2,
           "qoffset_x": -66.22388458251953,
           "qoffset_y": 10.843875885009766,
           "qoffset_z": -72.46749114990234,
           "quatern_b": 0,
           "quatern_c": 0,
           "quatern_d": 0,
           "regular": "r",
           "scl_inter": null,
           "scl_slope": null,
           "session_error": 0,
           "sform_code": 2,
           "sizeof_hdr": 348,
           "slice_code": 0,
           "slice_duration": 0,
           "slice_end": 0,
           "slice_start": 0,
           "srow_x": [
            2,
            0,
            0,
            -66.22388458251953
           ],
           "srow_y": [
            0,
            2,
            0,
            10.843875885009766
           ],
           "srow_z": [
            0,
            0,
            3,
            -72.46749114990234
           ],
           "toffset": 0,
           "vox_offset": 0,
           "xyzt_units": 10
          },
          "space": "T1w",
          "subject": "08",
          "task": "run4"
         },
         "subdir": "output",
         "tags": [
          "12_16_2020"
         ]
        },
        "path": "5fda36b50d4b105d2b9038d2/5fdacda30d4b105d2b9040a7/bold_img",
        "task_id": "5fdacda30d4b105d2b9040a7"
       },
       {
        "app": {},
        "datatype": "neuro/anat/t1w",
        "finish_date": "2021-01-22T08:50:55.882Z",
        "output": {
         "archive": {
          "desc": "",
          "project": "5fda367856422f36d2f97a51"
         },
         "datatype": "58c33bcee13a50849b25879a",
         "datatype_tags": [],
         "desc": "preprocessed t1 (same alignment as the original t1, but level adjusted - editme)",
         "files": null,
         "id": "anat",
         "meta": {
          "EchoTime": 0.03,
          "EffectiveEchoSpacing": 0.000370002,
          "FlipAngle": 90,
          "ImageType": [
           "ORIGINAL",
           "PRIMARY",
           "M",
           "ND",
           "NORM",
           "MOS"
          ],
          "MagneticFieldStrength": 3,
          "Manufacturer": "Siemens",
          "ManufacturersModelName": "TrioTim",
          "PhaseEncodingDirection": "j-",
          "PulseSequenceType": "Gradient Echo EPI",
          "RepetitionTime": 2.5,
          "SkullStripped": false,
          "SliceTiming": [
           0,
           1.2875,
           0.065,
           1.3525,
           0.13,
           1.4175,
           0.195,
           1.48,
           0.2575,
           1.545,
           0.3225,
           1.61,
           0.3875,
           1.675,
           0.4525,
           1.7375,
           0.515,
           1.8025,
           0.58,
           1.8675,
           0.645,
           1.9325,
           0.71,
           1.995,
           0.7725,
           2.06,
           0.8375,
           2.125,
           0.9025,
           2.19,
           0.9675,
           2.2525,
           1.03,
           2.3175,
           1.095,
           2.3825,
           1.16,
           2.4475,
           1.225
          ],
          "TaskName": "Experimental Run 4",
          "freesurfer_version": "7.1.0",
          "nifti_headers": {
           "aux_file": "",
           "base_affine": [
            [
             -0.9999983906745911,
             0,
             0,
             95.49984630942345
            ],
            [
             0,
             0.9375,
             0,
             -119.53125
            ],
            [
             0,
             0,
             0.9375,
             -119.53125
            ],
            [
             0,
             0,
             0,
             1
            ]
           ],
           "bitpix": 32,
           "cal_max": 0,
           "cal_min": 0,
           "data_type": "",
           "datatype": 16,
           "db_name": "",
           "descrip": "xform matrices modified by CopyXForm (niworkflows v1.3.2).",
           "dim": [
            3,
            192,
            256,
            256,
            1,
            1,
            1,
            1
           ],
           "dim_info": 0,
           "extents": 0,
           "glmax": 0,
           "glmin": 0,
           "intent_code": 0,
           "intent_name": "",
           "intent_p1": 0,
           "intent_p2": 0,
           "intent_p3": 0,
           "magic": "n+1",
           "pixdim": [
            1,
            0.9999983906745911,
            0.9375,
            0.9375,
            1.899999976158142,
            1,
            1,
            1
           ],
           "qform_code": 1,
           "qoffset_x": -94.22388458251953,
           "qoffset_y": -66.48941040039062,
           "qoffset_z": -59.92000198364258,
           "quatern_b": -0.22665096819400787,
           "quatern_c": 0.00039558112621307373,
           "quatern_d": -0.0016999095678329468,
           "regular": "",
           "scl_inter": null,
           "scl_slope": null,
           "session_error": 0,
           "sform_code": 1,
           "sizeof_hdr": 348,
           "slice_code": 0,
           "slice_duration": 0,
           "slice_end": 0,
           "slice_start": 0,
           "srow_x": [
            0.999992311000824,
            0.002936268225312233,
            0.0014448226429522038,
            -94.22388458251953
           ],
           "srow_y": [
            -0.003490649163722992,
            0.8411746025085449,
            0.41390925645828247,
            -66.48941040039062
           ],
           "srow_z": [
            3.4924541036929213e-10,
            -0.41391173005104065,
            0.8411796689033508,
            -59.92000198364258
           ],
           "toffset": 0,
           "vox_offset": 0,
           "xyzt_units": 2
          },
          "subject": "08",
          "task": "run4"
         },
         "subdir": "output",
         "tags": [
          "12_16_2020"
         ]
        },
        "path": "5fda36b50d4b105d2b9038d2/5fdacda30d4b105d2b9040a7/anat",
        "task_id": "5fdacda30d4b105d2b9040a7"
       },
       {
        "app": {},
        "datatype": "neuro/func/task",
        "finish_date": "2021-01-22T09:01:25.514Z",
        "output": {
         "archive": {
          "desc": "",
          "project": "5fda367856422f36d2f97a51"
         },
         "datatype": "59b685a08e5d38b0b331ddc5",
         "datatype_tags": [
          "run4",
          "preprocessed"
         ],
         "files": null,
         "id": "bold_img",
         "meta": {
          "EchoTime": 0.03,
          "EffectiveEchoSpacing": 0.000370002,
          "FlipAngle": 90,
          "ImageType": [
           "ORIGINAL",
           "PRIMARY",
           "M",
           "ND",
           "NORM",
           "MOS"
          ],
          "MagneticFieldStrength": 3,
          "Manufacturer": "Siemens",
          "ManufacturersModelName": "TrioTim",
          "PhaseEncodingDirection": "j-",
          "PulseSequenceType": "Gradient Echo EPI",
          "RepetitionTime": 2.5,
          "SliceTiming": [
           0,
           1.285,
           0.0625,
           1.35,
           0.1275,
           1.415,
           0.1925,
           1.48,
           0.2575,
           1.5425,
           0.32,
           1.6075,
           0.385,
           1.6725,
           0.45,
           1.7375,
           0.515,
           1.8,
           0.5775,
           1.865,
           0.6425,
           1.93,
           0.7075,
           1.995,
           0.77,
           2.0575,
           0.835,
           2.1225,
           0.9,
           2.1875,
           0.965,
           2.25,
           1.0275,
           2.315,
           1.0925,
           2.38,
           1.1575,
           2.445,
           1.2225
          ],
          "TaskName": "Experimental Run 4",
          "freesurfer_version": "7.1.0",
          "nifti_headers": {
           "aux_file": "",
           "base_affine": [
            [
             -2,
             0,
             0,
             70
            ],
            [
             0,
             2,
             0,
             -86
            ],
            [
             0,
             0,
             3,
             -72
            ],
            [
             0,
             0,
             0,
             1
            ]
           ],
           "bitpix": 16,
           "cal_max": 1776.928466796875,
           "cal_min": -69.26036071777344,
           "data_type": "",
           "datatype": 4,
           "db_name": "",
           "descrip": "xform matrices modified by FixHeaderApplyTransforms (niworkflows v1.3.2).",
           "dim": [
            4,
            71,
            87,
            49,
            260,
            1,
            1,
            1
           ],
           "dim_info": 0,
           "extents": 0,
           "glmax": 0,
           "glmin": 0,
           "intent_code": 0,
           "intent_name": "",
           "intent_p1": 0,
           "intent_p2": 0,
           "intent_p3": 0,
           "magic": "n+1",
           "pixdim": [
            1,
            2,
            2,
            3,
            2.5,
            1,
            1,
            1
           ],
           "qform_code": 2,
           "qoffset_x": -70.2663345336914,
           "qoffset_y": -10.731301307678223,
           "qoffset_z": -80.16816711425781,
           "quatern_b": 0,
           "quatern_c": 0,
           "quatern_d": 0,
           "regular": "r",
           "scl_inter": null,
           "scl_slope": null,
           "session_error": 0,
           "sform_code": 2,
           "sizeof_hdr": 348,
           "slice_code": 0,
           "slice_duration": 0,
           "slice_end": 0,
           "slice_start": 0,
           "srow_x": [
            2,
            0,
            0,
            -70.2663345336914
           ],
           "srow_y": [
            0,
            2,
            0,
            -10.731301307678223
           ],
           "srow_z": [
            0,
            0,
            3,
            -80.16816711425781
           ],
           "toffset": 0,
           "vox_offset": 0,
           "xyzt_units": 10
          },
          "space": "T1w",
          "subject": "03",
          "task": "run4"
         },
         "subdir": "output",
         "tags": [
          "12_16_2020"
         ]
        },
        "path": "5fda36b40d4b105d2b9038b4/5fdacda20d4b105d2b904070/bold_img",
        "task_id": "5fdacda20d4b105d2b904070"
       },
       {
        "app": {},
        "datatype": "neuro/anat/t1w",
        "finish_date": "2021-01-22T09:01:26.346Z",
        "output": {
         "archive": {
          "desc": "",
          "project": "5fda367856422f36d2f97a51"
         },
         "datatype": "58c33bcee13a50849b25879a",
         "datatype_tags": [],
         "desc": "preprocessed t1 (same alignment as the original t1, but level adjusted - editme)",
         "files": null,
         "id": "anat",
         "meta": {
          "EchoTime": 0.03,
          "EffectiveEchoSpacing": 0.000370002,
          "FlipAngle": 90,
          "ImageType": [
           "ORIGINAL",
           "PRIMARY",
           "M",
           "ND",
           "NORM",
           "MOS"
          ],
          "MagneticFieldStrength": 3,
          "Manufacturer": "Siemens",
          "ManufacturersModelName": "TrioTim",
          "PhaseEncodingDirection": "j-",
          "PulseSequenceType": "Gradient Echo EPI",
          "RepetitionTime": 2.5,
          "SkullStripped": false,
          "SliceTiming": [
           0,
           1.285,
           0.0625,
           1.35,
           0.1275,
           1.415,
           0.1925,
           1.48,
           0.2575,
           1.5425,
           0.32,
           1.6075,
           0.385,
           1.6725,
           0.45,
           1.7375,
           0.515,
           1.8,
           0.5775,
           1.865,
           0.6425,
           1.93,
           0.7075,
           1.995,
           0.77,
           2.0575,
           0.835,
           2.1225,
           0.9,
           2.1875,
           0.965,
           2.25,
           1.0275,
           2.315,
           1.0925,
           2.38,
           1.1575,
           2.445,
           1.2225
          ],
          "TaskName": "Experimental Run 4",
          "freesurfer_version": "7.1.0",
          "nifti_headers": {
           "aux_file": "",
           "base_affine": [
            [
             -1.0000061988830566,
             0,
             0,
             95.50059199333191
            ],
            [
             0,
             0.9375,
             0,
             -119.53125
            ],
            [
             0,
             0,
             0.9375,
             -119.53125
            ],
            [
             0,
             0,
             0,
             1
            ]
           ],
           "bitpix": 32,
           "cal_max": 0,
           "cal_min": 0,
           "data_type": "",
           "datatype": 16,
           "db_name": "",
           "descrip": "xform matrices modified by CopyXForm (niworkflows v1.3.2).",
           "dim": [
            3,
            192,
            256,
            256,
            1,
            1,
            1,
            1
           ],
           "dim_info": 0,
           "extents": 0,
           "glmax": 0,
           "glmin": 0,
           "intent_code": 0,
           "intent_name": "",
           "intent_p1": 0,
           "intent_p2": 0,
           "intent_p3": 0,
           "magic": "n+1",
           "pixdim": [
            1,
            1.0000061988830566,
            0.9375,
            0.9375,
            1.899999976158142,
            1,
            1,
            1
           ],
           "qform_code": 1,
           "qoffset_x": -108.2663345336914,
           "qoffset_y": -67.74436950683594,
           "qoffset_z": -86.55278015136719,
           "quatern_b": -0.17700251936912537,
           "quatern_c": 0.02920074574649334,
           "quatern_d": -0.029316799715161324,
           "regular": "",
           "scl_inter": null,
           "scl_slope": null,
           "session_error": 0,
           "sform_code": 1,
           "sizeof_hdr": 348,
           "slice_code": 0,
           "slice_duration": 0,
           "slice_end": 0,
           "slice_start": 0,
           "srow_x": [
            0.9965819120407104,
            0.04436209052801132,
            0.06356890499591827,
            -108.2663345336914
           ],
           "srow_y": [
            -0.06799440830945969,
            0.8771449327468872,
            0.3247455358505249,
            -67.74436950683594
           ],
           "srow_z": [
            -0.04705053195357323,
            -0.32795581221580505,
            0.8771576881408691,
            -86.55278015136719
           ],
           "toffset": 0,
           "vox_offset": 0,
           "xyzt_units": 2
          },
          "subject": "03",
          "task": "run4"
         },
         "subdir": "output",
         "tags": [
          "12_16_2020"
         ]
        },
        "path": "5fda36b40d4b105d2b9038b4/5fdacda20d4b105d2b904070/anat",
        "task_id": "5fdacda20d4b105d2b904070"
       },
       {
        "app": {},
        "datatype": "neuro/anat/t1w",
        "finish_date": "2021-01-22T09:06:50.501Z",
        "output": {
         "archive": {
          "desc": "",
          "project": "5fda367856422f36d2f97a51"
         },
         "datatype": "58c33bcee13a50849b25879a",
         "datatype_tags": [],
         "desc": "preprocessed t1 (same alignment as the original t1, but level adjusted - editme)",
         "files": null,
         "id": "anat",
         "meta": {
          "EchoTime": 0.03,
          "EffectiveEchoSpacing": 0.000370002,
          "FlipAngle": 90,
          "ImageType": [
           "ORIGINAL",
           "PRIMARY",
           "M",
           "ND",
           "NORM",
           "MOS"
          ],
          "MagneticFieldStrength": 3,
          "Manufacturer": "Siemens",
          "ManufacturersModelName": "TrioTim",
          "PhaseEncodingDirection": "j-",
          "PulseSequenceType": "Gradient Echo EPI",
          "RepetitionTime": 2.5,
          "SkullStripped": false,
          "SliceTiming": [
           0,
           1.285,
           0.0625,
           1.35,
           0.1275,
           1.415,
           0.1925,
           1.48,
           0.2575,
           1.5425,
           0.32,
           1.6075,
           0.385,
           1.6725,
           0.45,
           1.7375,
           0.515,
           1.8,
           0.5775,
           1.865,
           0.6425,
           1.93,
           0.7075,
           1.995,
           0.7725,
           2.0575,
           0.835,
           2.1225,
           0.9,
           2.1875,
           0.965,
           2.2525,
           1.03,
           2.315,
           1.0925,
           2.38,
           1.1575,
           2.445,
           1.2225
          ],
          "TaskName": "Experimental Run 4",
          "freesurfer_version": "7.1.0",
          "nifti_headers": {
           "aux_file": "",
           "base_affine": [
            [
             -0.9999992251396179,
             0,
             0,
             95.49992600083351
            ],
            [
             0,
             0.9374999403953552,
             0,
             -119.53124240040779
            ],
            [
             0,
             0,
             0.9375,
             -119.53125
            ],
            [
             0,
             0,
             0,
             1
            ]
           ],
           "bitpix": 32,
           "cal_max": 0,
           "cal_min": 0,
           "data_type": "",
           "datatype": 16,
           "db_name": "",
           "descrip": "xform matrices modified by CopyXForm (niworkflows v1.3.2).",
           "dim": [
            3,
            192,
            256,
            256,
            1,
            1,
            1,
            1
           ],
           "dim_info": 0,
           "extents": 0,
           "glmax": 0,
           "glmin": 0,
           "intent_code": 0,
           "intent_name": "",
           "intent_p1": 0,
           "intent_p2": 0,
           "intent_p3": 0,
           "magic": "n+1",
           "pixdim": [
            1,
            0.9999992251396179,
            0.9374999403953552,
            0.9375,
            1.899999976158142,
            1,
            1,
            1
           ],
           "qform_code": 1,
           "qoffset_x": -113.5797119140625,
           "qoffset_y": -82.05648803710938,
           "qoffset_z": -86.10101318359375,
           "quatern_b": -0.19543544948101044,
           "quatern_c": -0.035244010388851166,
           "quatern_d": -0.06374862790107727,
           "regular": "",
           "scl_inter": null,
           "scl_slope": null,
           "session_error": 0,
           "sform_code": 1,
           "sizeof_hdr": 348,
           "slice_code": 0,
           "slice_duration": 0,
           "slice_end": 0,
           "slice_start": 0,
           "srow_x": [
            0.9893871545791626,
            0.12981481850147247,
            -0.041269075125455856,
            -113.5797119140625
           ],
           "srow_y": [
            -0.1109173446893692,
            0.8582645058631897,
            0.36259520053863525,
            -82.05648803710938
           ],
           "srow_z": [
            0.09385523945093155,
            -0.35416990518569946,
            0.863555371761322,
            -86.10101318359375
           ],
           "toffset": 0,
           "vox_offset": 0,
           "xyzt_units": 2
          },
          "subject": "07",
          "task": "run4"
         },
         "subdir": "output",
         "tags": [
          "12_16_2020"
         ]
        },
        "path": "5fda36b50d4b105d2b9038cc/5fdacda30d4b105d2b90409c/anat",
        "task_id": "5fdacda30d4b105d2b90409c"
       },
       {
        "app": {},
        "datatype": "neuro/func/task",
        "finish_date": "2021-01-22T09:06:51.333Z",
        "output": {
         "archive": {
          "desc": "",
          "project": "5fda367856422f36d2f97a51"
         },
         "datatype": "59b685a08e5d38b0b331ddc5",
         "datatype_tags": [
          "run4",
          "preprocessed"
         ],
         "files": null,
         "id": "bold_img",
         "meta": {
          "EchoTime": 0.03,
          "EffectiveEchoSpacing": 0.000370002,
          "FlipAngle": 90,
          "ImageType": [
           "ORIGINAL",
           "PRIMARY",
           "M",
           "ND",
           "NORM",
           "MOS"
          ],
          "MagneticFieldStrength": 3,
          "Manufacturer": "Siemens",
          "ManufacturersModelName": "TrioTim",
          "PhaseEncodingDirection": "j-",
          "PulseSequenceType": "Gradient Echo EPI",
          "RepetitionTime": 2.5,
          "SliceTiming": [
           0,
           1.285,
           0.0625,
           1.35,
           0.1275,
           1.415,
           0.1925,
           1.48,
           0.2575,
           1.5425,
           0.32,
           1.6075,
           0.385,
           1.6725,
           0.45,
           1.7375,
           0.515,
           1.8,
           0.5775,
           1.865,
           0.6425,
           1.93,
           0.7075,
           1.995,
           0.7725,
           2.0575,
           0.835,
           2.1225,
           0.9,
           2.1875,
           0.965,
           2.2525,
           1.03,
           2.315,
           1.0925,
           2.38,
           1.1575,
           2.445,
           1.2225
          ],
          "TaskName": "Experimental Run 4",
          "freesurfer_version": "7.1.0",
          "nifti_headers": {
           "aux_file": "",
           "base_affine": [
            [
             -2,
             0,
             0,
             68
            ],
            [
             0,
             2,
             0,
             -80
            ],
            [
             0,
             0,
             3,
             -70.5
            ],
            [
             0,
             0,
             0,
             1
            ]
           ],
           "bitpix": 16,
           "cal_max": 2257.4619140625,
           "cal_min": -110.48664093017578,
           "data_type": "",
           "datatype": 4,
           "db_name": "",
           "descrip": "xform matrices modified by FixHeaderApplyTransforms (niworkflows v1.3.2).",
           "dim": [
            4,
            69,
            81,
            48,
            260,
            1,
            1,
            1
           ],
           "dim_info": 0,
           "extents": 0,
           "glmax": 0,
           "glmin": 0,
           "intent_code": 0,
           "intent_name": "",
           "intent_p1": 0,
           "intent_p2": 0,
           "intent_p3": 0,
           "magic": "n+1",
           "pixdim": [
            1,
            2,
            2,
            3,
            2.5,
            1,
            1,
            1
           ],
           "qform_code": 2,
           "qoffset_x": -76.10332489013672,
           "qoffset_y": -13.241701126098633,
           "qoffset_z": -77.41433715820312,
           "quatern_b": 0,
           "quatern_c": 0,
           "quatern_d": 0,
           "regular": "r",
           "scl_inter": null,
           "scl_slope": null,
           "session_error": 0,
           "sform_code": 2,
           "sizeof_hdr": 348,
           "slice_code": 0,
           "slice_duration": 0,
           "slice_end": 0,
           "slice_start": 0,
           "srow_x": [
            2,
            0,
            0,
            -76.10332489013672
           ],
           "srow_y": [
            0,
            2,
            0,
            -13.241701126098633
           ],
           "srow_z": [
            0,
            0,
            3,
            -77.41433715820312
           ],
           "toffset": 0,
           "vox_offset": 0,
           "xyzt_units": 10
          },
          "space": "T1w",
          "subject": "07",
          "task": "run4"
         },
         "subdir": "output",
         "tags": [
          "12_16_2020"
         ]
        },
        "path": "5fda36b50d4b105d2b9038cc/5fdacda30d4b105d2b90409c/bold_img",
        "task_id": "5fdacda30d4b105d2b90409c"
       },
       {
        "app": {},
        "datatype": "neuro/func/task",
        "finish_date": "2021-01-22T09:17:59.330Z",
        "output": {
         "archive": {
          "desc": "",
          "project": "5fda367856422f36d2f97a51"
         },
         "datatype": "59b685a08e5d38b0b331ddc5",
         "datatype_tags": [
          "run4",
          "preprocessed"
         ],
         "files": null,
         "id": "bold_img",
         "meta": {
          "EchoTime": 0.03,
          "EffectiveEchoSpacing": 0.000370002,
          "FlipAngle": 90,
          "ImageType": [
           "ORIGINAL",
           "PRIMARY",
           "M",
           "ND",
           "NORM",
           "MOS"
          ],
          "MagneticFieldStrength": 3,
          "Manufacturer": "Siemens",
          "ManufacturersModelName": "TrioTim",
          "PhaseEncodingDirection": "j-",
          "PulseSequenceType": "Gradient Echo EPI",
          "RepetitionTime": 2.5,
          "SliceTiming": [
           0,
           1.285,
           0.0625,
           1.35,
           0.1275,
           1.415,
           0.1925,
           1.48,
           0.255,
           1.5425,
           0.32,
           1.6075,
           0.385,
           1.6725,
           0.45,
           1.735,
           0.5125,
           1.8,
           0.5775,
           1.865,
           0.6425,
           1.93,
           0.7075,
           1.9925,
           0.77,
           2.0575,
           0.835,
           2.1225,
           0.9,
           2.1875,
           0.965,
           2.25,
           1.0275,
           2.315,
           1.0925,
           2.38,
           1.1575,
           2.445,
           1.2225
          ],
          "TaskName": "Experimental Run 4",
          "freesurfer_version": "7.1.0",
          "nifti_headers": {
           "aux_file": "",
           "base_affine": [
            [
             -2,
             0,
             0,
             71
            ],
            [
             0,
             2,
             0,
             -82
            ],
            [
             0,
             0,
             3,
             -70.5
            ],
            [
             0,
             0,
             0,
             1
            ]
           ],
           "bitpix": 16,
           "cal_max": 1809.0926513671875,
           "cal_min": -145.62448120117188,
           "data_type": "",
           "datatype": 4,
           "db_name": "",
           "descrip": "xform matrices modified by FixHeaderApplyTransforms (niworkflows v1.3.2).",
           "dim": [
            4,
            72,
            83,
            48,
            260,
            1,
            1,
            1
           ],
           "dim_info": 0,
           "extents": 0,
           "glmax": 0,
           "glmin": 0,
           "intent_code": 0,
           "intent_name": "",
           "intent_p1": 0,
           "intent_p2": 0,
           "intent_p3": 0,
           "magic": "n+1",
           "pixdim": [
            1,
            2,
            2,
            3,
            2.5,
            1,
            1,
            1
           ],
           "qform_code": 2,
           "qoffset_x": -73.17292022705078,
           "qoffset_y": -2.2909488677978516,
           "qoffset_z": -74.68047332763672,
           "quatern_b": 0,
           "quatern_c": 0,
           "quatern_d": 0,
           "regular": "r",
           "scl_inter": null,
           "scl_slope": null,
           "session_error": 0,
           "sform_code": 2,
           "sizeof_hdr": 348,
           "slice_code": 0,
           "slice_duration": 0,
           "slice_end": 0,
           "slice_start": 0,
           "srow_x": [
            2,
            0,
            0,
            -73.17292022705078
           ],
           "srow_y": [
            0,
            2,
            0,
            -2.2909488677978516
           ],
           "srow_z": [
            0,
            0,
            3,
            -74.68047332763672
           ],
           "toffset": 0,
           "vox_offset": 0,
           "xyzt_units": 10
          },
          "space": "T1w",
          "subject": "09",
          "task": "run4"
         },
         "subdir": "output",
         "tags": [
          "12_16_2020"
         ]
        },
        "path": "5fda36b50d4b105d2b9038d8/5fdacda30d4b105d2b9040b2/bold_img",
        "task_id": "5fdacda30d4b105d2b9040b2"
       }
      ],
      "text/plain": [
       "<IPython.core.display.JSON object>"
      ]
     },
     "execution_count": 11,
     "metadata": {
      "application/json": {
       "expanded": false,
       "root": "root"
      }
     },
     "output_type": "execute_result"
    }
   ],
   "source": [
    "#load the object index \n",
    "import requests\n",
    "import os\n",
    "objects = requests.get('https://brainlife.io/api/warehouse/secondary/list/%s'%os.environ['PROJECT_ID']).json()\n",
    "\n",
    "#dump the content of index and examine\n",
    "#for obj in objects:\n",
    "#    print(obj[\"path\"]) #directory path under input directory that this object is stored in \n",
    "#    print(obj[\"datatype\"][\"name\"]) #name of the datatype (neuro/tractprofile, neuro/tractmeasures, etc..)   \n",
    "#    #contains information about which app and output that this object came from\n",
    "#    print(obj[\"app\"])\n",
    "#    print(obj[\"output\"]) #contains metadata, tags, datatype_tags, desc\n",
    "#    print(obj[\"finish_date\"])\n",
    "\n",
    "from IPython.display import JSON\n",
    "JSON(objects)"
   ]
  },
  {
   "cell_type": "code",
   "execution_count": 13,
   "metadata": {},
   "outputs": [],
   "source": [
    "#load participants info\n",
    "import json\n",
    "with open(\"input/participants.json\") as f:\n",
    "    participants = json.load(f)\n",
    "    #print(participants)\n",
    "\n",
    "with open(\"input/participants_column.json\") as f:\n",
    "    participants_column = json.load(f)\n",
    "    #print(participants_column)\n"
   ]
  },
  {
   "cell_type": "code",
   "execution_count": 14,
   "metadata": {},
   "outputs": [
    {
     "name": "stdout",
     "output_type": "stream",
     "text": [
      "loading rois.csv for 14\n",
      "loading rois.csv for 15\n",
      "loading rois.csv for 03\n",
      "loading rois.csv for 12\n",
      "loading rois.csv for 10\n",
      "loading rois.csv for 05\n",
      "loading rois.csv for 01\n",
      "loading rois.csv for 08\n",
      "loading rois.csv for 13\n",
      "loading rois.csv for 04\n",
      "loading rois.csv for 09\n",
      "loading rois.csv for 06\n",
      "loading rois.csv for 02\n",
      "loading rois.csv for 11\n",
      "loading rois.csv for 07\n",
      "loading rois.csv for delete\n",
      "loading rois.csv for 16\n",
      "loading rois.csv for 17\n",
      "loading rois.csv for 18\n",
      "loading rois.csv for 20\n",
      "loading rois.csv for 19\n",
      "           ROI_name  actual_vol  BrainVol_proportion  centroid_x  centroid_y  \\\n",
      "subjectID                                                                      \n",
      "15            ROI_2      261184             0.201943  -30.463163   92.311548   \n",
      "15            ROI_4        6166             0.004767  -16.068804   94.077709   \n",
      "15            ROI_5         197             0.000152  -36.136332   83.724598   \n",
      "15            ROI_7       15383             0.011894  -22.989602   46.913682   \n",
      "15            ROI_8       60581             0.046840  -31.022074   39.150161   \n",
      "...             ...         ...                  ...         ...         ...   \n",
      "15         ROI_2031       13761             0.010640   45.287688   79.309761   \n",
      "15         ROI_2032        1317             0.001018   10.900034  157.208458   \n",
      "15         ROI_2033        3174             0.002454   28.376384  102.435203   \n",
      "15         ROI_2034        1145             0.000885   37.285489   82.748334   \n",
      "15         ROI_2035        7546             0.005834   28.723941   99.146867   \n",
      "\n",
      "           centroid_z  medialBorder  lateralBorder  anteriorBorder  \\\n",
      "subjectID                                                            \n",
      "15         -10.086610      0.107323     -69.892677      166.881958   \n",
      "15         -14.782941     -0.892677     -36.892677      129.881958   \n",
      "15         -38.125067    -31.892677     -37.892677       93.881958   \n",
      "15         -38.959832     -6.892677     -48.892677       73.881958   \n",
      "15         -39.665289     -6.892677     -59.892677       70.881958   \n",
      "...               ...           ...            ...             ...   \n",
      "15           7.657361     23.107323      61.107323       95.881958   \n",
      "15         -59.890519      3.107323      22.107323      165.881958   \n",
      "15         -66.537987     15.107323      45.107323      112.881958   \n",
      "15         -19.488523     25.107323      49.107323       92.881958   \n",
      "15         -34.821321     -1.892677      39.107323      122.881958   \n",
      "\n",
      "           posteriorBorder  superiorBorder  inferiorBorder  \n",
      "subjectID                                                   \n",
      "15                6.881958         46.3927        -74.6073  \n",
      "15               50.881958          2.3927        -43.6073  \n",
      "15               74.881958        -26.6073        -50.6073  \n",
      "15               18.881958        -14.6073        -60.6073  \n",
      "15               12.881958         -8.6073        -67.6073  \n",
      "...                    ...             ...             ...  \n",
      "15               55.881958         31.3927        -13.6073  \n",
      "15              146.881958        -50.6073        -73.6073  \n",
      "15               92.881958        -53.6073        -76.6073  \n",
      "15               73.881958         -6.6073        -29.6073  \n",
      "15               75.881958         -6.6073        -56.6073  \n",
      "\n",
      "[109 rows x 12 columns]\n",
      "           ROI_name  actual_vol  BrainVol_proportion  centroid_x  centroid_y  \\\n",
      "subjectID                                                                      \n",
      "15            ROI_2      261184             0.201943  -30.463163   92.311548   \n",
      "15            ROI_4        6166             0.004767  -16.068804   94.077709   \n",
      "15            ROI_5         197             0.000152  -36.136332   83.724598   \n",
      "15            ROI_7       15383             0.011894  -22.989602   46.913682   \n",
      "15            ROI_8       60581             0.046840  -31.022074   39.150161   \n",
      "...             ...         ...                  ...         ...         ...   \n",
      "19         ROI_2031       10177             0.008723   38.568770   75.677152   \n",
      "19         ROI_2032        1158             0.000993    0.872207  140.637146   \n",
      "19         ROI_2033        3055             0.002619   16.542093   88.032589   \n",
      "19         ROI_2034         823             0.000705   29.755577   80.139881   \n",
      "19         ROI_2035        7586             0.006502   20.369554   93.165795   \n",
      "\n",
      "           centroid_z  medialBorder  lateralBorder  anteriorBorder  \\\n",
      "subjectID                                                            \n",
      "15         -10.086610      0.107323     -69.892677      166.881958   \n",
      "15         -14.782941     -0.892677     -36.892677      129.881958   \n",
      "15         -38.125067    -31.892677     -37.892677       93.881958   \n",
      "15         -38.959832     -6.892677     -48.892677       73.881958   \n",
      "15         -39.665289     -6.892677     -59.892677       70.881958   \n",
      "...               ...           ...            ...             ...   \n",
      "19          20.366007     14.937837      52.937837       92.109500   \n",
      "19         -49.493368     -9.062162       6.937838      151.109511   \n",
      "19         -52.695743      4.937837      26.937838      102.109513   \n",
      "19          -3.095623     18.937837      40.937837       88.109505   \n",
      "19         -21.141050    -14.062163      31.937837      116.109507   \n",
      "\n",
      "           posteriorBorder  superiorBorder  inferiorBorder  \n",
      "subjectID                                                   \n",
      "15                6.881958       46.392700      -74.607300  \n",
      "15               50.881958        2.392700      -43.607300  \n",
      "15               74.881958      -26.607300      -50.607300  \n",
      "15               18.881958      -14.607300      -60.607300  \n",
      "15               12.881958       -8.607300      -67.607300  \n",
      "...                    ...             ...             ...  \n",
      "19               53.109500       39.180197        2.180197  \n",
      "19              130.109512      -41.819791      -56.819794  \n",
      "19               76.109512      -36.819802      -64.819801  \n",
      "19               72.109502        7.180196      -10.819803  \n",
      "19               74.109504       10.180197      -41.819802  \n",
      "\n",
      "[1084 rows x 12 columns]\n"
     ]
    }
   ],
   "source": [
    "import pandas\n",
    "\n",
    "gamer_rois=[]\n",
    "nongamer_rois=[]\n",
    "\n",
    "#iterate over all neruo/parc-stats objects\n",
    "#TODO - there could be multiple objects per subjects (dedupe?)\n",
    "for obj in objects:\n",
    "    \n",
    "    #filter out objects we don't care\n",
    "    if obj[\"datatype\"] != \"neuro/parc-stats\":\n",
    "        continue\n",
    "   \n",
    "    #sometimes files goes missing..\n",
    "    path=\"input/\"+obj[\"path\"]\n",
    "    if not os.path.exists(path):\n",
    "        continue\n",
    "\n",
    "    #now load csv\n",
    "    subject=obj[\"output\"][\"meta\"][\"subject\"]\n",
    "    print(\"loading rois.csv for\",subject)\n",
    "    csv = pandas.read_csv(path+\"/rois.csv\", index_col=\"subjectID\")\n",
    "\n",
    "    #organize \n",
    "    if subject in participants:\n",
    "        phenotype = participants[subject]\n",
    "        if phenotype[\"group\"] == \"Gamer\":\n",
    "            gamer_rois.append(csv)\n",
    "        else:\n",
    "            nongamer_rois.append(csv)\n",
    "                        \n",
    "#show a sample..\n",
    "print(gamer_rois[0])\n",
    "\n",
    "#convert to a single panda frame for each group\n",
    "gamer_rois = pandas.concat(gamer_rois)\n",
    "nongamer_rois = pandas.concat(nongamer_rois)\n",
    "\n",
    "print(gamer_rois)"
   ]
  },
  {
   "cell_type": "code",
   "execution_count": null,
   "metadata": {},
   "outputs": [],
   "source": []
  },
  {
   "cell_type": "code",
   "execution_count": 187,
   "metadata": {},
   "outputs": [],
   "source": [
    "#import numpy as np\n",
    "#compute mean/std for each column\n",
    "gamer = gamer_rois.groupby([\"ROI_name\"]).agg([np.mean, np.std])\n",
    "nongamer = nongamer_rois.groupby([\"ROI_name\"]).agg([np.mean, np.std])\n",
    "\n",
    "#pick rois that we want\n",
    "rois=[\n",
    "#\"ROI_10\",\n",
    "#\"ROI_1001\",\n",
    "\"ROI_1002\",\n",
    "\"ROI_1003\",\n",
    "\"ROI_1005\",\n",
    "\"ROI_1006\",\n",
    "#\"ROI_1007\",\n",
    "\"ROI_1008\",\n",
    "\"ROI_1009\",\n",
    "\"ROI_1010\",\n",
    "\"ROI_1011\",\n",
    "\"ROI_1012\",\n",
    "\"ROI_1013\",\n",
    "\"ROI_1014\",\n",
    "\"ROI_1015\",\n",
    "#\"ROI_1016\",\n",
    "#\"ROI_1017\",\n",
    "\"ROI_1018\",\n",
    "\"ROI_1019\",\n",
    "\"ROI_1020\",\n",
    "\"ROI_1021\",\n",
    "\"ROI_1022\",\n",
    "\"ROI_1023\",\n",
    "\"ROI_1024\",\n",
    "\"ROI_1025\",\n",
    "\"ROI_1026\",\n",
    "\"ROI_1027\",\n",
    "\"ROI_1028\",\n",
    "\"ROI_1029\",\n",
    "\"ROI_1030\",\n",
    "\"ROI_1031\",\n",
    "\"ROI_1032\",\n",
    "#\"ROI_1033\",\n",
    "\"ROI_1034\",\n",
    "\"ROI_1035\",\n",
    "\"ROI_11\",\n",
    "\"ROI_12\",\n",
    "\"ROI_13\",\n",
    "\"ROI_14\",\n",
    "\"ROI_15\",\n",
    "\"ROI_16\",\n",
    "\"ROI_17\",\n",
    "\"ROI_18\",\n",
    "#\"ROI_2\",\n",
    "\"ROI_2001\",\n",
    "\"ROI_2002\",\n",
    "\"ROI_2003\",\n",
    "\"ROI_2005\",\n",
    "\"ROI_2006\",\n",
    "\"ROI_2007\",\n",
    "#\"ROI_2008\",\n",
    "\"ROI_2009\",\n",
    "\"ROI_2010\",\n",
    "\"ROI_2011\",\n",
    "\"ROI_2012\",\n",
    "\"ROI_2013\",\n",
    "\"ROI_2014\",\n",
    "\"ROI_2015\",\n",
    "#\"ROI_2016\",\n",
    "\"ROI_2017\",\n",
    "\"ROI_2018\",\n",
    "\"ROI_2019\",\n",
    "\"ROI_2020\",\n",
    "\"ROI_2021\",\n",
    "\"ROI_2022\",\n",
    "\"ROI_2023\",\n",
    "\"ROI_2024\",\n",
    "\"ROI_2025\",\n",
    "\"ROI_2026\",\n",
    "#\"ROI_2027\",\n",
    "#\"ROI_2028\",\n",
    "\"ROI_2029\",\n",
    "\"ROI_2030\",\n",
    "\"ROI_2031\",\n",
    "\"ROI_2032\",\n",
    "\"ROI_2033\",\n",
    "\"ROI_2034\",\n",
    "\"ROI_2035\",\n",
    "\"ROI_24\",\n",
    "#\"ROI_251\",\n",
    "#\"ROI_252\",\n",
    "#\"ROI_253\",\n",
    "#\"ROI_254\",\n",
    "#\"ROI_255\",\n",
    "\"ROI_26\",\n",
    "\"ROI_28\",\n",
    "\"ROI_30\",\n",
    "\"ROI_31\",\n",
    "#\"ROI_4\",\n",
    "#\"ROI_41\",\n",
    "\"ROI_43\",\n",
    "\"ROI_44\",\n",
    "\"ROI_46\",\n",
    "#\"ROI_47\",\n",
    "\"ROI_49\",\n",
    "\"ROI_5\",\n",
    "#\"ROI_50\",\n",
    "#\"ROI_51\",\n",
    "#\"ROI_52\",\n",
    "#\"ROI_53\",\n",
    "#\"ROI_54\",\n",
    "#\"ROI_58\",\n",
    "#\"ROI_60\",\n",
    "#\"ROI_62\",\n",
    "#\"ROI_63\",\n",
    "#\"ROI_7\",\n",
    "#\"ROI_72\", #roi 72 is missing from gamer.. but exist on nongamer WHY!?\n",
    "\"ROI_77\",\n",
    "#\"ROI_8\",\n",
    "\"ROI_85\"\n",
    "]\n",
    "\n",
    "gamer_sub = gamer[ gamer.index.isin(rois) ]\n",
    "nongamer_sub = nongamer[ nongamer.index.isin(rois) ]\n"
   ]
  },
  {
   "cell_type": "code",
   "execution_count": 189,
   "metadata": {},
   "outputs": [
    {
     "data": {
      "text/plain": [
       "<matplotlib.axes._subplots.AxesSubplot at 0x7fda1399a890>"
      ]
     },
     "execution_count": 189,
     "metadata": {},
     "output_type": "execute_result"
    },
    {
     "data": {
      "image/png": "[encoded data removed]",
      "text/plain": [
       "<Figure size 1440x360 with 1 Axes>"
      ]
     },
     "metadata": {
      "needs_background": "light"
     },
     "output_type": "display_data"
    }
   ],
   "source": [
    "df_mean = pandas.DataFrame({\n",
    "    \"gamer\": gamer_sub[\"actual_vol\"][\"mean\"], \n",
    "    \"non-gamer\": nongamer_sub[\"actual_vol\"][\"mean\"], \n",
    "})\n",
    "df_std = pandas.DataFrame({\n",
    "    \"gamer\": gamer_sub[\"actual_vol\"][\"std\"], \n",
    "    \"non-gamer\": nongamer_sub[\"actual_vol\"][\"std\"], \n",
    "})\n",
    "df_mean.plot.bar(figsize=(20,5), yerr=df_std,logy=False)"
   ]
  }
 ],
 "metadata": {
  "kernelspec": {
   "display_name": "Python 3",
   "language": "python",
   "name": "python3"
  },
  "language_info": {
   "codemirror_mode": {
    "name": "ipython",
    "version": 3
   },
   "file_extension": ".py",
   "mimetype": "text/x-python",
   "name": "python",
   "nbconvert_exporter": "python",
   "pygments_lexer": "ipython3",
   "version": "3.7.6"
  }
 },
 "nbformat": 4,
 "nbformat_minor": 4
}
